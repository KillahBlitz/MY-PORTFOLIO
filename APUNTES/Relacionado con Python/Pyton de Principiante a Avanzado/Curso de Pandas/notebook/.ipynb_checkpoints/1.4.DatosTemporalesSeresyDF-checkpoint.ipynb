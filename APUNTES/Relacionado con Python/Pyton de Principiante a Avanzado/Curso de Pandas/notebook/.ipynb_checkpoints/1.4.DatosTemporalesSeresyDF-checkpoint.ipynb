{
 "cells": [
  {
   "cell_type": "code",
   "execution_count": 3,
   "id": "813d5a66-485b-4ead-a92a-0ef5bc0f4e31",
   "metadata": {},
   "outputs": [],
   "source": [
    "import pandas as pd"
   ]
  },
  {
   "cell_type": "code",
   "execution_count": 4,
   "id": "0fbc76c5-e009-4edd-bed4-0f5b044284a7",
   "metadata": {},
   "outputs": [
    {
     "name": "stdout",
     "output_type": "stream",
     "text": [
      "2020-01-01    34\n",
      "2020-01-02    44\n",
      "2020-01-03    65\n",
      "2020-01-04    53\n",
      "2020-01-05    39\n",
      "2020-01-06    76\n",
      "Freq: D, dtype: int64\n"
     ]
    }
   ],
   "source": [
    "#datos temporales\n",
    "#creacion de fechas\n",
    "#pongo desde que dia empiezo, luego el periodo, la frecuencia en la que se van esos periodos\n",
    "fechas = pd.date_range(start='2020-01-01', periods=6,freq='D')\n",
    "#creacion de valores\n",
    "valores = [34,44,65,53,39,76]\n",
    "serie_temporal = pd.Series(valores, index=fechas)\n",
    "print(serie_temporal)"
   ]
  },
  {
   "cell_type": "code",
   "execution_count": 5,
   "id": "8bcc7c2e-8309-48f5-870c-7373518b8ca5",
   "metadata": {},
   "outputs": [
    {
     "name": "stdout",
     "output_type": "stream",
     "text": [
      "53 \n",
      "\n",
      "2020-01-04    53\n",
      "2020-01-05    39\n",
      "2020-01-06    76\n",
      "Freq: D, dtype: int64\n"
     ]
    }
   ],
   "source": [
    "#datos especificos asociados\n",
    "print(serie_temporal[\"2020-01-04\"], \"\\n\")\n",
    "#de una fecha a otra\n",
    "print(serie_temporal[\"2020-01-04\":\"2020-01-06\"])"
   ]
  },
  {
   "cell_type": "code",
   "execution_count": 6,
   "id": "2e318be1-d5d3-4c9c-bbcd-1836d4a81c17",
   "metadata": {},
   "outputs": [
    {
     "data": {
      "text/html": [
       "<div>\n",
       "<style scoped>\n",
       "    .dataframe tbody tr th:only-of-type {\n",
       "        vertical-align: middle;\n",
       "    }\n",
       "\n",
       "    .dataframe tbody tr th {\n",
       "        vertical-align: top;\n",
       "    }\n",
       "\n",
       "    .dataframe thead th {\n",
       "        text-align: right;\n",
       "    }\n",
       "</style>\n",
       "<table border=\"1\" class=\"dataframe\">\n",
       "  <thead>\n",
       "    <tr style=\"text-align: right;\">\n",
       "      <th></th>\n",
       "      <th>Fecha</th>\n",
       "      <th>ventas</th>\n",
       "    </tr>\n",
       "  </thead>\n",
       "  <tbody>\n",
       "    <tr>\n",
       "      <th>0</th>\n",
       "      <td>2020-01-01</td>\n",
       "      <td>345</td>\n",
       "    </tr>\n",
       "    <tr>\n",
       "      <th>1</th>\n",
       "      <td>2020-01-02</td>\n",
       "      <td>456</td>\n",
       "    </tr>\n",
       "    <tr>\n",
       "      <th>2</th>\n",
       "      <td>2020-01-03</td>\n",
       "      <td>567</td>\n",
       "    </tr>\n",
       "    <tr>\n",
       "      <th>3</th>\n",
       "      <td>2020-01-04</td>\n",
       "      <td>678</td>\n",
       "    </tr>\n",
       "    <tr>\n",
       "      <th>4</th>\n",
       "      <td>2020-01-05</td>\n",
       "      <td>234</td>\n",
       "    </tr>\n",
       "    <tr>\n",
       "      <th>5</th>\n",
       "      <td>2020-01-06</td>\n",
       "      <td>590</td>\n",
       "    </tr>\n",
       "  </tbody>\n",
       "</table>\n",
       "</div>"
      ],
      "text/plain": [
       "       Fecha  ventas\n",
       "0 2020-01-01     345\n",
       "1 2020-01-02     456\n",
       "2 2020-01-03     567\n",
       "3 2020-01-04     678\n",
       "4 2020-01-05     234\n",
       "5 2020-01-06     590"
      ]
     },
     "execution_count": 6,
     "metadata": {},
     "output_type": "execute_result"
    }
   ],
   "source": [
    "#data frames con datos temporales\n",
    "data = {\n",
    "    \"Fecha\": pd.date_range(start='2020-01-01', periods=6,freq='D'),\n",
    "    \"ventas\": [345,456,567,678,234,590]\n",
    "}\n",
    "df=pd.DataFrame(data)\n",
    "df"
   ]
  },
  {
   "cell_type": "code",
   "execution_count": 7,
   "id": "b89d3fcb-9808-4313-8722-0be7cd9d5cf2",
   "metadata": {},
   "outputs": [
    {
     "data": {
      "text/html": [
       "<div>\n",
       "<style scoped>\n",
       "    .dataframe tbody tr th:only-of-type {\n",
       "        vertical-align: middle;\n",
       "    }\n",
       "\n",
       "    .dataframe tbody tr th {\n",
       "        vertical-align: top;\n",
       "    }\n",
       "\n",
       "    .dataframe thead th {\n",
       "        text-align: right;\n",
       "    }\n",
       "</style>\n",
       "<table border=\"1\" class=\"dataframe\">\n",
       "  <thead>\n",
       "    <tr style=\"text-align: right;\">\n",
       "      <th></th>\n",
       "      <th>ventas</th>\n",
       "    </tr>\n",
       "    <tr>\n",
       "      <th>Fecha</th>\n",
       "      <th></th>\n",
       "    </tr>\n",
       "  </thead>\n",
       "  <tbody>\n",
       "    <tr>\n",
       "      <th>2020-01-01</th>\n",
       "      <td>345</td>\n",
       "    </tr>\n",
       "    <tr>\n",
       "      <th>2020-01-02</th>\n",
       "      <td>456</td>\n",
       "    </tr>\n",
       "    <tr>\n",
       "      <th>2020-01-03</th>\n",
       "      <td>567</td>\n",
       "    </tr>\n",
       "    <tr>\n",
       "      <th>2020-01-04</th>\n",
       "      <td>678</td>\n",
       "    </tr>\n",
       "    <tr>\n",
       "      <th>2020-01-05</th>\n",
       "      <td>234</td>\n",
       "    </tr>\n",
       "    <tr>\n",
       "      <th>2020-01-06</th>\n",
       "      <td>590</td>\n",
       "    </tr>\n",
       "  </tbody>\n",
       "</table>\n",
       "</div>"
      ],
      "text/plain": [
       "            ventas\n",
       "Fecha             \n",
       "2020-01-01     345\n",
       "2020-01-02     456\n",
       "2020-01-03     567\n",
       "2020-01-04     678\n",
       "2020-01-05     234\n",
       "2020-01-06     590"
      ]
     },
     "execution_count": 7,
     "metadata": {},
     "output_type": "execute_result"
    }
   ],
   "source": [
    "#establecer fechas como indicie\n",
    "df.set_index(\"Fecha\", inplace=True)\n",
    "df"
   ]
  },
  {
   "cell_type": "code",
   "execution_count": 8,
   "id": "3af7b1c1-7573-413b-b243-a119a1b9de2f",
   "metadata": {},
   "outputs": [
    {
     "data": {
      "text/html": [
       "<div>\n",
       "<style scoped>\n",
       "    .dataframe tbody tr th:only-of-type {\n",
       "        vertical-align: middle;\n",
       "    }\n",
       "\n",
       "    .dataframe tbody tr th {\n",
       "        vertical-align: top;\n",
       "    }\n",
       "\n",
       "    .dataframe thead th {\n",
       "        text-align: right;\n",
       "    }\n",
       "</style>\n",
       "<table border=\"1\" class=\"dataframe\">\n",
       "  <thead>\n",
       "    <tr style=\"text-align: right;\">\n",
       "      <th></th>\n",
       "      <th>ventas</th>\n",
       "    </tr>\n",
       "    <tr>\n",
       "      <th>Fecha</th>\n",
       "      <th></th>\n",
       "    </tr>\n",
       "  </thead>\n",
       "  <tbody>\n",
       "    <tr>\n",
       "      <th>2020-01-31</th>\n",
       "      <td>478.333333</td>\n",
       "    </tr>\n",
       "  </tbody>\n",
       "</table>\n",
       "</div>"
      ],
      "text/plain": [
       "                ventas\n",
       "Fecha                 \n",
       "2020-01-31  478.333333"
      ]
     },
     "execution_count": 8,
     "metadata": {},
     "output_type": "execute_result"
    }
   ],
   "source": [
    "#operaciones con los DF o series\n",
    "#media de ventas\n",
    "resumen_mensual = df.resample('ME').mean()\n",
    "resumen_mensual"
   ]
  },
  {
   "cell_type": "code",
   "execution_count": 10,
   "id": "fab3d36c-3447-4874-b08d-3d574ab0eee6",
   "metadata": {},
   "outputs": [
    {
     "name": "stdout",
     "output_type": "stream",
     "text": [
      "            ventas  ventas_desplazadas  cambio_ventas\n",
      "Fecha                                                \n",
      "2020-01-01     345                 NaN            NaN\n",
      "2020-01-02     456               345.0          111.0\n",
      "2020-01-03     567               456.0          111.0\n",
      "2020-01-04     678               567.0          111.0\n",
      "2020-01-05     234               678.0         -444.0\n",
      "2020-01-06     590               234.0          356.0\n"
     ]
    }
   ],
   "source": [
    "#shifting y diferenciacion de datos\n",
    "#desplaza los datos en el tiempo\n",
    "df[\"ventas_desplazadas\"] = df[\"ventas\"].shift(1)\n",
    "#calcula la diferencia a su anterior\n",
    "df[\"cambio_ventas\"] = df[\"ventas\"].diff()\n",
    "\n",
    "print(df)\n"
   ]
  },
  {
   "cell_type": "code",
   "execution_count": null,
   "id": "7e9f8caa-c337-4005-ad5e-8672558e6d4c",
   "metadata": {},
   "outputs": [],
   "source": []
  }
 ],
 "metadata": {
  "kernelspec": {
   "display_name": "Python 3 (ipykernel)",
   "language": "python",
   "name": "python3"
  },
  "language_info": {
   "codemirror_mode": {
    "name": "ipython",
    "version": 3
   },
   "file_extension": ".py",
   "mimetype": "text/x-python",
   "name": "python",
   "nbconvert_exporter": "python",
   "pygments_lexer": "ipython3",
   "version": "3.13.2"
  }
 },
 "nbformat": 4,
 "nbformat_minor": 5
}
