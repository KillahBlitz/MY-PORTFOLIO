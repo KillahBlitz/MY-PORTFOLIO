{
 "cells": [
  {
   "cell_type": "code",
   "execution_count": 2,
   "id": "b77ff8ce-794f-43aa-a602-59a68b285ecb",
   "metadata": {},
   "outputs": [
    {
     "data": {
      "text/html": [
       "<div>\n",
       "<style scoped>\n",
       "    .dataframe tbody tr th:only-of-type {\n",
       "        vertical-align: middle;\n",
       "    }\n",
       "\n",
       "    .dataframe tbody tr th {\n",
       "        vertical-align: top;\n",
       "    }\n",
       "\n",
       "    .dataframe thead th {\n",
       "        text-align: right;\n",
       "    }\n",
       "</style>\n",
       "<table border=\"1\" class=\"dataframe\">\n",
       "  <thead>\n",
       "    <tr style=\"text-align: right;\">\n",
       "      <th></th>\n",
       "      <th>Producto</th>\n",
       "      <th>Precio</th>\n",
       "      <th>Stock</th>\n",
       "    </tr>\n",
       "  </thead>\n",
       "  <tbody>\n",
       "    <tr>\n",
       "      <th>0</th>\n",
       "      <td>Manzanas</td>\n",
       "      <td>100</td>\n",
       "      <td>30</td>\n",
       "    </tr>\n",
       "    <tr>\n",
       "      <th>1</th>\n",
       "      <td>Naranjas</td>\n",
       "      <td>80</td>\n",
       "      <td>50</td>\n",
       "    </tr>\n",
       "    <tr>\n",
       "      <th>2</th>\n",
       "      <td>Platanos</td>\n",
       "      <td>60</td>\n",
       "      <td>20</td>\n",
       "    </tr>\n",
       "    <tr>\n",
       "      <th>3</th>\n",
       "      <td>Uvas</td>\n",
       "      <td>120</td>\n",
       "      <td>60</td>\n",
       "    </tr>\n",
       "    <tr>\n",
       "      <th>4</th>\n",
       "      <td>Peras</td>\n",
       "      <td>90</td>\n",
       "      <td>40</td>\n",
       "    </tr>\n",
       "  </tbody>\n",
       "</table>\n",
       "</div>"
      ],
      "text/plain": [
       "   Producto  Precio  Stock\n",
       "0  Manzanas     100     30\n",
       "1  Naranjas      80     50\n",
       "2  Platanos      60     20\n",
       "3      Uvas     120     60\n",
       "4     Peras      90     40"
      ]
     },
     "execution_count": 2,
     "metadata": {},
     "output_type": "execute_result"
    }
   ],
   "source": [
    "import pandas as pd\n",
    "\n",
    "data = {\n",
    "    'Producto': ['Manzanas','Naranjas','Platanos','Uvas','Peras'],\n",
    "    'Precio': [100,80,60,120,90],\n",
    "    'Stock': [30,50,20,60,40]\n",
    "}\n",
    "\n",
    "#Creacion del dataframe\n",
    "df = pd.DataFrame(data)\n",
    "df"
   ]
  },
  {
   "cell_type": "code",
   "execution_count": 4,
   "id": "59ebd326-42ad-47fb-9a32-b57a40cf7133",
   "metadata": {},
   "outputs": [
    {
     "name": "stdout",
     "output_type": "stream",
     "text": [
      "Productos con precio mayor a 80:\n",
      "    Producto  Precio  Stock\n",
      "0  Manzanas     100     30\n",
      "3      Uvas     120     60\n",
      "4     Peras      90     40\n"
     ]
    }
   ],
   "source": [
    "#Filtrado de Datos\n",
    "#filtrado con condicionales\n",
    "#el filtro mas sencillo\n",
    "filtro_precio = df[df['Precio'] > 80]\n",
    "print(\"Productos con precio mayor a 80:\\n\", filtro_precio)"
   ]
  },
  {
   "cell_type": "code",
   "execution_count": 6,
   "id": "4498b038-c32f-4f1f-88e0-f281d9b78345",
   "metadata": {},
   "outputs": [
    {
     "name": "stdout",
     "output_type": "stream",
     "text": [
      "Productos con precio mayor a 80 y stock mayor a 30:\n",
      "   Producto  Precio  Stock\n",
      "3     Uvas     120     60\n",
      "4    Peras      90     40\n"
     ]
    }
   ],
   "source": [
    "#Filtro multiple\n",
    "#dos evaluaciones dentro del condicional\n",
    "filtro_multiple = df[(df['Precio'] > 80) & (df['Stock'] > 30)]\n",
    "print(\"Productos con precio mayor a 80 y stock mayor a 30:\\n\", filtro_multiple)\n",
    "#En la sintaxis de pandas, and es & y el or es |"
   ]
  },
  {
   "cell_type": "code",
   "execution_count": 7,
   "id": "3342efd8-dbf4-4bfe-bc78-1ca13c6a5dee",
   "metadata": {},
   "outputs": [
    {
     "name": "stdout",
     "output_type": "stream",
     "text": [
      "Productos que contienen la letra 'a':\n",
      "    Producto  Precio  Stock\n",
      "0  Manzanas     100     30\n",
      "1  Naranjas      80     50\n",
      "2  Platanos      60     20\n",
      "3      Uvas     120     60\n",
      "4     Peras      90     40\n"
     ]
    }
   ],
   "source": [
    "#Filtrado, por filas Basadas en texto\n",
    "filtro_texto = df[df['Producto'].str.contains('a')]\n",
    "print(\"Productos que contienen la letra 'a':\\n\", filtro_texto)\n",
    "#notese que se ocupa funciones de str y contains"
   ]
  },
  {
   "cell_type": "code",
   "execution_count": 8,
   "id": "4af0fc90-2539-4d88-a6b8-700e7ec6d84c",
   "metadata": {},
   "outputs": [
    {
     "name": "stdout",
     "output_type": "stream",
     "text": [
      "Seleccionar columnas 'Producto' y 'Precio':\n",
      "    Producto  Precio\n",
      "0  Manzanas     100\n",
      "1  Naranjas      80\n",
      "2  Platanos      60\n",
      "3      Uvas     120\n",
      "4     Peras      90\n"
     ]
    }
   ],
   "source": [
    "#filtrado por columnas\n",
    "#no me es convincente, solo tomo las columnas que me interesan del arreglo \n",
    "filtro_columnas = df[['Producto','Precio']]\n",
    "print(\"Seleccionar columnas 'Producto' y 'Precio':\\n\", filtro_columnas)"
   ]
  },
  {
   "cell_type": "code",
   "execution_count": 10,
   "id": "1348efe1-4634-4e66-8746-524789515323",
   "metadata": {},
   "outputs": [
    {
     "name": "stdout",
     "output_type": "stream",
     "text": [
      "Productos con precio mayor a 80 usando query:\n",
      "    Producto  Precio  Stock\n",
      "0  Manzanas     100     30\n",
      "3      Uvas     120     60\n",
      "4     Peras      90     40\n"
     ]
    }
   ],
   "source": [
    "#filtrado por metodos mas especifocos\n",
    "#metodo de uso .query\n",
    "#permite filtrar datos usando una cadena de consultas\n",
    "filtro_query = df.query('Precio > 80')\n",
    "print(\"Productos con precio mayor a 80 usando query:\\n\", filtro_query)\n",
    "#notese que usamos una cadena de texto"
   ]
  },
  {
   "cell_type": "code",
   "execution_count": 12,
   "id": "a3f7b80a-8a0f-4b51-94de-c7ef7de987de",
   "metadata": {},
   "outputs": [
    {
     "name": "stdout",
     "output_type": "stream",
     "text": [
      "Productos que son 'Manzanas' o 'Uvas':\n",
      "    Producto  Precio  Stock\n",
      "0  Manzanas     100     30\n",
      "3      Uvas     120     60\n"
     ]
    }
   ],
   "source": [
    "#metodo isin\n",
    "filtro_isin = df[df['Producto'].isin(['Manzanas','Uvas'])]\n",
    "#con este metodo solo veremos las filas que contengans el argumento dentro de isin\n",
    "print(\"Productos que son 'Manzanas' o 'Uvas':\\n\", filtro_isin)"
   ]
  }
 ],
 "metadata": {
  "kernelspec": {
   "display_name": "Python 3 (ipykernel)",
   "language": "python",
   "name": "python3"
  },
  "language_info": {
   "codemirror_mode": {
    "name": "ipython",
    "version": 3
   },
   "file_extension": ".py",
   "mimetype": "text/x-python",
   "name": "python",
   "nbconvert_exporter": "python",
   "pygments_lexer": "ipython3",
   "version": "3.13.3"
  }
 },
 "nbformat": 4,
 "nbformat_minor": 5
}
