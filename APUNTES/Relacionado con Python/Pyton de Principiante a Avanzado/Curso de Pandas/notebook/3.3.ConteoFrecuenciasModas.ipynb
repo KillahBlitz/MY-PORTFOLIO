{
 "cells": [
  {
   "cell_type": "code",
   "execution_count": 1,
   "id": "7cfe5935-6b53-485c-ab0b-8d1fa054306f",
   "metadata": {},
   "outputs": [],
   "source": [
    "import pandas as pd"
   ]
  },
  {
   "cell_type": "code",
   "execution_count": 2,
   "id": "3adda195-1de9-4416-b1a1-b7b2e4519d27",
   "metadata": {},
   "outputs": [
    {
     "data": {
      "text/html": [
       "<div>\n",
       "<style scoped>\n",
       "    .dataframe tbody tr th:only-of-type {\n",
       "        vertical-align: middle;\n",
       "    }\n",
       "\n",
       "    .dataframe tbody tr th {\n",
       "        vertical-align: top;\n",
       "    }\n",
       "\n",
       "    .dataframe thead th {\n",
       "        text-align: right;\n",
       "    }\n",
       "</style>\n",
       "<table border=\"1\" class=\"dataframe\">\n",
       "  <thead>\n",
       "    <tr style=\"text-align: right;\">\n",
       "      <th></th>\n",
       "      <th>Producto</th>\n",
       "      <th>Precio</th>\n",
       "      <th>Stock</th>\n",
       "    </tr>\n",
       "  </thead>\n",
       "  <tbody>\n",
       "    <tr>\n",
       "      <th>0</th>\n",
       "      <td>Manzanas</td>\n",
       "      <td>100</td>\n",
       "      <td>30</td>\n",
       "    </tr>\n",
       "    <tr>\n",
       "      <th>1</th>\n",
       "      <td>Naranjas</td>\n",
       "      <td>80</td>\n",
       "      <td>50</td>\n",
       "    </tr>\n",
       "    <tr>\n",
       "      <th>2</th>\n",
       "      <td>Platanos</td>\n",
       "      <td>60</td>\n",
       "      <td>20</td>\n",
       "    </tr>\n",
       "    <tr>\n",
       "      <th>3</th>\n",
       "      <td>Manzanas</td>\n",
       "      <td>100</td>\n",
       "      <td>30</td>\n",
       "    </tr>\n",
       "    <tr>\n",
       "      <th>4</th>\n",
       "      <td>Peras</td>\n",
       "      <td>90</td>\n",
       "      <td>40</td>\n",
       "    </tr>\n",
       "  </tbody>\n",
       "</table>\n",
       "</div>"
      ],
      "text/plain": [
       "   Producto  Precio  Stock\n",
       "0  Manzanas     100     30\n",
       "1  Naranjas      80     50\n",
       "2  Platanos      60     20\n",
       "3  Manzanas     100     30\n",
       "4     Peras      90     40"
      ]
     },
     "execution_count": 2,
     "metadata": {},
     "output_type": "execute_result"
    }
   ],
   "source": [
    "data = {\n",
    "    \"Producto\": [\"Manzanas\",\"Naranjas\",\"Platanos\",\"Manzanas\",\"Peras\"],\n",
    "    \"Precio\": [100,80,60,100,90],\n",
    "    \"Stock\": [30,50,20,30,40]\n",
    "}\n",
    "\n",
    "df = pd.DataFrame(data)\n",
    "df"
   ]
  },
  {
   "cell_type": "code",
   "execution_count": 5,
   "id": "43e8ae96-b33f-4dad-aa02-9171641a9b41",
   "metadata": {},
   "outputs": [
    {
     "name": "stdout",
     "output_type": "stream",
     "text": [
      "Valores unicos por columna:\n",
      " Producto    4\n",
      "Precio      4\n",
      "Stock       4\n",
      "dtype: int64\n"
     ]
    }
   ],
   "source": [
    "#valors unicos de una columna\n",
    "valores_unicos = df.nunique()\n",
    "print(\"Valores unicos por columna:\\n\", valores_unicos)\n",
    "#es decir, valores no repetidos en cantidad"
   ]
  },
  {
   "cell_type": "code",
   "execution_count": 7,
   "id": "ff2e6b55-87a3-4ad3-a333-d2253289d311",
   "metadata": {},
   "outputs": [
    {
     "name": "stdout",
     "output_type": "stream",
     "text": [
      "Frecuencia de productos:\n",
      " Producto\n",
      "Manzanas    2\n",
      "Naranjas    1\n",
      "Platanos    1\n",
      "Peras       1\n",
      "Name: count, dtype: int64\n"
     ]
    }
   ],
   "source": [
    "#frecuencia de los valores\n",
    "frecuencia_productos = df[\"Producto\"].value_counts()\n",
    "print(\"Frecuencia de productos:\\n\", frecuencia_productos)\n",
    "#es deicr, que tanto se repiten los valores"
   ]
  },
  {
   "cell_type": "code",
   "execution_count": 9,
   "id": "d3c6dc3c-ca55-4934-97ad-bf27a8110fbb",
   "metadata": {},
   "outputs": [
    {
     "name": "stdout",
     "output_type": "stream",
     "text": [
      "Moda de precios:\n",
      " 0    100\n",
      "Name: Precio, dtype: int64\n"
     ]
    }
   ],
   "source": [
    "#calculo de la moda\n",
    "moda_precio = df[\"Precio\"].mode()\n",
    "print(\"Moda de precios:\\n\", moda_precio)"
   ]
  },
  {
   "cell_type": "code",
   "execution_count": null,
   "id": "bcf69f0c-7672-4ca8-850c-0703f7636c44",
   "metadata": {},
   "outputs": [],
   "source": []
  }
 ],
 "metadata": {
  "kernelspec": {
   "display_name": "Python 3 (ipykernel)",
   "language": "python",
   "name": "python3"
  },
  "language_info": {
   "codemirror_mode": {
    "name": "ipython",
    "version": 3
   },
   "file_extension": ".py",
   "mimetype": "text/x-python",
   "name": "python",
   "nbconvert_exporter": "python",
   "pygments_lexer": "ipython3",
   "version": "3.13.2"
  }
 },
 "nbformat": 4,
 "nbformat_minor": 5
}
