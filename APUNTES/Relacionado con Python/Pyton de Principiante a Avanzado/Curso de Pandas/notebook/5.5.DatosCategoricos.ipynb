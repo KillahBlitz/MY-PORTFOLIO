{
 "cells": [
  {
   "cell_type": "code",
   "execution_count": 1,
   "id": "1955123f-52b6-4192-970d-84c217afcdb7",
   "metadata": {},
   "outputs": [],
   "source": [
    "import pandas as pd"
   ]
  },
  {
   "cell_type": "code",
   "execution_count": 2,
   "id": "a6cade93-25a1-48d5-b6f4-631029172374",
   "metadata": {},
   "outputs": [
    {
     "data": {
      "text/html": [
       "<div>\n",
       "<style scoped>\n",
       "    .dataframe tbody tr th:only-of-type {\n",
       "        vertical-align: middle;\n",
       "    }\n",
       "\n",
       "    .dataframe tbody tr th {\n",
       "        vertical-align: top;\n",
       "    }\n",
       "\n",
       "    .dataframe thead th {\n",
       "        text-align: right;\n",
       "    }\n",
       "</style>\n",
       "<table border=\"1\" class=\"dataframe\">\n",
       "  <thead>\n",
       "    <tr style=\"text-align: right;\">\n",
       "      <th></th>\n",
       "      <th>Empleado</th>\n",
       "      <th>Departamento</th>\n",
       "      <th>Salario</th>\n",
       "      <th>Experiencia</th>\n",
       "    </tr>\n",
       "  </thead>\n",
       "  <tbody>\n",
       "    <tr>\n",
       "      <th>0</th>\n",
       "      <td>Juan</td>\n",
       "      <td>Ventas</td>\n",
       "      <td>50000</td>\n",
       "      <td>5</td>\n",
       "    </tr>\n",
       "    <tr>\n",
       "      <th>1</th>\n",
       "      <td>Ana</td>\n",
       "      <td>Marketing</td>\n",
       "      <td>60000</td>\n",
       "      <td>7</td>\n",
       "    </tr>\n",
       "    <tr>\n",
       "      <th>2</th>\n",
       "      <td>Pedro</td>\n",
       "      <td>Ventas</td>\n",
       "      <td>55000</td>\n",
       "      <td>6</td>\n",
       "    </tr>\n",
       "    <tr>\n",
       "      <th>3</th>\n",
       "      <td>Luis</td>\n",
       "      <td>IT</td>\n",
       "      <td>58000</td>\n",
       "      <td>8</td>\n",
       "    </tr>\n",
       "    <tr>\n",
       "      <th>4</th>\n",
       "      <td>Maria</td>\n",
       "      <td>Marketing</td>\n",
       "      <td>62000</td>\n",
       "      <td>9</td>\n",
       "    </tr>\n",
       "    <tr>\n",
       "      <th>5</th>\n",
       "      <td>Ana</td>\n",
       "      <td>IT</td>\n",
       "      <td>60000</td>\n",
       "      <td>7</td>\n",
       "    </tr>\n",
       "    <tr>\n",
       "      <th>6</th>\n",
       "      <td>Pedro</td>\n",
       "      <td>Ventas</td>\n",
       "      <td>55000</td>\n",
       "      <td>6</td>\n",
       "    </tr>\n",
       "    <tr>\n",
       "      <th>7</th>\n",
       "      <td>Luis</td>\n",
       "      <td>Marketing</td>\n",
       "      <td>58000</td>\n",
       "      <td>8</td>\n",
       "    </tr>\n",
       "    <tr>\n",
       "      <th>8</th>\n",
       "      <td>Maria</td>\n",
       "      <td>Ventas</td>\n",
       "      <td>62000</td>\n",
       "      <td>9</td>\n",
       "    </tr>\n",
       "  </tbody>\n",
       "</table>\n",
       "</div>"
      ],
      "text/plain": [
       "  Empleado Departamento  Salario  Experiencia\n",
       "0     Juan       Ventas    50000            5\n",
       "1      Ana    Marketing    60000            7\n",
       "2    Pedro       Ventas    55000            6\n",
       "3     Luis           IT    58000            8\n",
       "4    Maria    Marketing    62000            9\n",
       "5      Ana           IT    60000            7\n",
       "6    Pedro       Ventas    55000            6\n",
       "7     Luis    Marketing    58000            8\n",
       "8    Maria       Ventas    62000            9"
      ]
     },
     "metadata": {},
     "output_type": "display_data"
    }
   ],
   "source": [
    "data = {\n",
    "    'Empleado': ['Juan','Ana','Pedro','Luis','Maria','Ana','Pedro','Luis','Maria'],\n",
    "    'Departamento': ['Ventas','Marketing','Ventas','IT','Marketing','IT','Ventas','Marketing','Ventas'],\n",
    "    'Salario': [50000,60000,55000,58000,62000,60000,55000,58000,62000],\n",
    "    'Experiencia': [5,7,6,8,9,7,6,8,9]\n",
    "}\n",
    "\n",
    "df = pd.DataFrame(data)\n",
    "display(df)"
   ]
  },
  {
   "cell_type": "code",
   "execution_count": 3,
   "id": "f06c9300-ce60-47d3-a675-f24639ff546e",
   "metadata": {},
   "outputs": [
    {
     "data": {
      "text/plain": [
       "0       Ventas\n",
       "1    Marketing\n",
       "2       Ventas\n",
       "3           IT\n",
       "4    Marketing\n",
       "5           IT\n",
       "6       Ventas\n",
       "7    Marketing\n",
       "8       Ventas\n",
       "Name: Departamento, dtype: category\n",
       "Categories (3, object): ['IT', 'Marketing', 'Ventas']"
      ]
     },
     "execution_count": 3,
     "metadata": {},
     "output_type": "execute_result"
    }
   ],
   "source": [
    "#categorizacion de cada elemento\n",
    "df['Departamento'] = df['Departamento'].astype('category')\n",
    "df['Departamento']"
   ]
  },
  {
   "cell_type": "code",
   "execution_count": 4,
   "id": "53b90ed0-6bb1-48f5-b1cf-9c8ad79a2873",
   "metadata": {},
   "outputs": [
    {
     "data": {
      "text/plain": [
       "Index(['IT', 'Marketing', 'Ventas'], dtype='object')"
      ]
     },
     "execution_count": 4,
     "metadata": {},
     "output_type": "execute_result"
    }
   ],
   "source": [
    "#enlistar las categorias\n",
    "df['Departamento'].cat.categories"
   ]
  },
  {
   "cell_type": "code",
   "execution_count": 5,
   "id": "0c1279b5-d543-4abb-9c31-bb19d69fbef2",
   "metadata": {},
   "outputs": [
    {
     "data": {
      "text/plain": [
       "0    2\n",
       "1    1\n",
       "2    2\n",
       "3    0\n",
       "4    1\n",
       "5    0\n",
       "6    2\n",
       "7    1\n",
       "8    2\n",
       "dtype: int8"
      ]
     },
     "execution_count": 5,
     "metadata": {},
     "output_type": "execute_result"
    }
   ],
   "source": [
    "#enlistar los codigos\n",
    "df['Departamento'].cat.codes\n",
    "#indice de las cateorias"
   ]
  },
  {
   "cell_type": "code",
   "execution_count": 6,
   "id": "f45eacab-4ef0-4f91-9285-d7284f3e5ce2",
   "metadata": {},
   "outputs": [
    {
     "data": {
      "text/plain": [
       "0       Ventas\n",
       "1    Marketing\n",
       "2       Ventas\n",
       "3           IT\n",
       "4    Marketing\n",
       "5           IT\n",
       "6       Ventas\n",
       "7    Marketing\n",
       "8       Ventas\n",
       "Name: Departamento, dtype: category\n",
       "Categories (3, object): ['Marketing' < 'IT' < 'Ventas']"
      ]
     },
     "metadata": {},
     "output_type": "display_data"
    }
   ],
   "source": [
    "#reordenacion de categorias\n",
    "df['Departamento'] = df['Departamento'].cat.reorder_categories(['Marketing','IT','Ventas'], ordered=True)\n",
    "display(df['Departamento'])"
   ]
  },
  {
   "cell_type": "code",
   "execution_count": 9,
   "id": "4822324c-5ca9-403d-9eac-cb71c2214542",
   "metadata": {},
   "outputs": [
    {
     "data": {
      "text/plain": [
       "0       Ventas\n",
       "1    Marketing\n",
       "2       Ventas\n",
       "3           IT\n",
       "4    Marketing\n",
       "5           IT\n",
       "6       Ventas\n",
       "7    Marketing\n",
       "8       Ventas\n",
       "Name: Departamento, dtype: category\n",
       "Categories (4, object): ['Marketing' < 'IT' < 'Ventas' < 'Recursos Humanos']"
      ]
     },
     "metadata": {},
     "output_type": "display_data"
    }
   ],
   "source": [
    "#agregar categorias\n",
    "df['Departamento'] = df['Departamento'].cat.add_categories(['Recursos Humanos'])\n",
    "display(df['Departamento'])"
   ]
  },
  {
   "cell_type": "code",
   "execution_count": 10,
   "id": "ab672efc-724f-48d6-8cd0-0ee73b1db06e",
   "metadata": {},
   "outputs": [
    {
     "data": {
      "text/plain": [
       "0       Ventas\n",
       "1    Marketing\n",
       "2       Ventas\n",
       "3           IT\n",
       "4    Marketing\n",
       "5           IT\n",
       "6       Ventas\n",
       "7    Marketing\n",
       "8       Ventas\n",
       "Name: Departamento, dtype: category\n",
       "Categories (3, object): ['Marketing' < 'IT' < 'Ventas']"
      ]
     },
     "metadata": {},
     "output_type": "display_data"
    }
   ],
   "source": [
    "#remover categorias\n",
    "df['Departamento'] = df['Departamento'].cat.remove_categories(['Recursos Humanos'])\n",
    "display(df['Departamento'])"
   ]
  },
  {
   "cell_type": "code",
   "execution_count": 13,
   "id": "306e2f85-c0e3-4a9e-b12f-faecfcb03f02",
   "metadata": {},
   "outputs": [
    {
     "data": {
      "text/html": [
       "<div>\n",
       "<style scoped>\n",
       "    .dataframe tbody tr th:only-of-type {\n",
       "        vertical-align: middle;\n",
       "    }\n",
       "\n",
       "    .dataframe tbody tr th {\n",
       "        vertical-align: top;\n",
       "    }\n",
       "\n",
       "    .dataframe thead th {\n",
       "        text-align: right;\n",
       "    }\n",
       "</style>\n",
       "<table border=\"1\" class=\"dataframe\">\n",
       "  <thead>\n",
       "    <tr style=\"text-align: right;\">\n",
       "      <th></th>\n",
       "      <th>Departamento_Marketing</th>\n",
       "      <th>Departamento_IT</th>\n",
       "      <th>Departamento_Ventas</th>\n",
       "    </tr>\n",
       "  </thead>\n",
       "  <tbody>\n",
       "    <tr>\n",
       "      <th>0</th>\n",
       "      <td>False</td>\n",
       "      <td>False</td>\n",
       "      <td>True</td>\n",
       "    </tr>\n",
       "    <tr>\n",
       "      <th>1</th>\n",
       "      <td>True</td>\n",
       "      <td>False</td>\n",
       "      <td>False</td>\n",
       "    </tr>\n",
       "    <tr>\n",
       "      <th>2</th>\n",
       "      <td>False</td>\n",
       "      <td>False</td>\n",
       "      <td>True</td>\n",
       "    </tr>\n",
       "    <tr>\n",
       "      <th>3</th>\n",
       "      <td>False</td>\n",
       "      <td>True</td>\n",
       "      <td>False</td>\n",
       "    </tr>\n",
       "    <tr>\n",
       "      <th>4</th>\n",
       "      <td>True</td>\n",
       "      <td>False</td>\n",
       "      <td>False</td>\n",
       "    </tr>\n",
       "    <tr>\n",
       "      <th>5</th>\n",
       "      <td>False</td>\n",
       "      <td>True</td>\n",
       "      <td>False</td>\n",
       "    </tr>\n",
       "    <tr>\n",
       "      <th>6</th>\n",
       "      <td>False</td>\n",
       "      <td>False</td>\n",
       "      <td>True</td>\n",
       "    </tr>\n",
       "    <tr>\n",
       "      <th>7</th>\n",
       "      <td>True</td>\n",
       "      <td>False</td>\n",
       "      <td>False</td>\n",
       "    </tr>\n",
       "    <tr>\n",
       "      <th>8</th>\n",
       "      <td>False</td>\n",
       "      <td>False</td>\n",
       "      <td>True</td>\n",
       "    </tr>\n",
       "  </tbody>\n",
       "</table>\n",
       "</div>"
      ],
      "text/plain": [
       "   Departamento_Marketing  Departamento_IT  Departamento_Ventas\n",
       "0                   False            False                 True\n",
       "1                    True            False                False\n",
       "2                   False            False                 True\n",
       "3                   False             True                False\n",
       "4                    True            False                False\n",
       "5                   False             True                False\n",
       "6                   False            False                 True\n",
       "7                    True            False                False\n",
       "8                   False            False                 True"
      ]
     },
     "metadata": {},
     "output_type": "display_data"
    }
   ],
   "source": [
    "#conversion de categorias a datos numericos (usado para machine learning)\n",
    "#codificacion one_hot\n",
    "one_hot = pd.get_dummies(df['Departamento'], prefix='Departamento')\n",
    "display(one_hot)"
   ]
  },
  {
   "cell_type": "code",
   "execution_count": 14,
   "id": "ae385ce6-ed69-487e-b989-a99c2f4cb6ab",
   "metadata": {},
   "outputs": [
    {
     "name": "stderr",
     "output_type": "stream",
     "text": [
      "C:\\Users\\fach7\\AppData\\Local\\Temp\\ipykernel_23012\\1750946515.py:2: FutureWarning: The default of observed=False is deprecated and will be changed to True in a future version of pandas. Pass observed=False to retain current behavior or observed=True to adopt the future default and silence this warning.\n",
      "  agrupacion_categorica = df.groupby('Departamento')['Salario'].sum()\n"
     ]
    },
    {
     "data": {
      "text/plain": [
       "Departamento\n",
       "Marketing    180000\n",
       "IT           118000\n",
       "Ventas       222000\n",
       "Name: Salario, dtype: int64"
      ]
     },
     "metadata": {},
     "output_type": "display_data"
    }
   ],
   "source": [
    "#uso de funciones en agrupaciones categoricas\n",
    "agrupacion_categorica = df.groupby('Departamento')['Salario'].sum()\n",
    "display(agrupacion_categorica)"
   ]
  },
  {
   "cell_type": "code",
   "execution_count": null,
   "id": "c9b79633-9435-41da-9817-f8d857037a29",
   "metadata": {},
   "outputs": [],
   "source": []
  }
 ],
 "metadata": {
  "kernelspec": {
   "display_name": "Python 3 (ipykernel)",
   "language": "python",
   "name": "python3"
  },
  "language_info": {
   "codemirror_mode": {
    "name": "ipython",
    "version": 3
   },
   "file_extension": ".py",
   "mimetype": "text/x-python",
   "name": "python",
   "nbconvert_exporter": "python",
   "pygments_lexer": "ipython3",
   "version": "3.13.3"
  }
 },
 "nbformat": 4,
 "nbformat_minor": 5
}
