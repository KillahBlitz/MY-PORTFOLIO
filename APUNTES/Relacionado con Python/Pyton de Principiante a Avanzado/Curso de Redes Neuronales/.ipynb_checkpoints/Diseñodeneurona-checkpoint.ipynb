{
 "cells": [
  {
   "cell_type": "code",
   "execution_count": 34,
   "id": "d089c8ad-09cb-4008-a857-e69519458cf8",
   "metadata": {},
   "outputs": [
    {
     "name": "stdout",
     "output_type": "stream",
     "text": [
      "PESOS OBTENIDOS[-0.7312715117751976, 0.6948674738744653, 0.5275492379532281]\n",
      "Nuevos pesos: [1.0441870287527987e-06, 2.9010679861156236e-06, 0.02806838459089911]\n",
      "respuesta dada por la neurona: 0.9999990134585226\n"
     ]
    }
   ],
   "source": [
    "import random as rd\n",
    "import math as math\n",
    "\n",
    "class Neurona():\n",
    "    def __init__(self): #inicializacion de la neurona\n",
    "        rd.seed(1) #semilla\n",
    "        #Inicializacion de la neurona\n",
    "        self.pesos = [rd.uniform(-1,1),rd.uniform(-1,1),rd.uniform(-1,1)]\n",
    "        self.bias = rd.uniform(-1,1)\n",
    "\n",
    "    #sumatoria de las entradas, el procesamiento de la neurona\n",
    "    def __sumatoria(self,neurona_entrada):\n",
    "        suma = 0\n",
    "        for indice, neurona_entrada in enumerate(neurona_entrada):\n",
    "            #sumatoria de las entradas por los pesos respectivos\n",
    "            suma += self.pesos[indice]*neurona_entrada\n",
    "        return suma\n",
    "\n",
    "    #procesamiento del error de la neurona    \n",
    "    def __sigmoide(self,suma):\n",
    "        return 1/(1+math.exp(-suma))\n",
    "\n",
    "    #declaracion de la respuesta en salida\n",
    "    def respuesta(self,neurona_entrada):\n",
    "        suma = self.__sumatoria(neurona_entrada)\n",
    "        neurona_respuesta = self.__sigmoide(suma) + self.bias\n",
    "        return neurona_respuesta\n",
    "\n",
    "    #declaracion del gradiente\n",
    "    def __gradiente(self,neurona_respuesta):\n",
    "        return neurona_respuesta * (1-neurona_respuesta)\n",
    "\n",
    "    #definicion del entrenamiento de la neurona\n",
    "    def entrenamiento(self,ejemplos,epocas):\n",
    "        for iteracion in range(epocas):\n",
    "            for ejemplo in ejemplos:\n",
    "                prediccion = self.respuesta(ejemplo[\"entradas\"])\n",
    "                error = (1/2)*(ejemplo[\"salida\"]-prediccion)**2\n",
    "\n",
    "                for indice in range(len(self.pesos)):\n",
    "                    neurona_entrada = ejemplo[\"entradas\"][indice]\n",
    "                    ajustar_peso = neurona_entrada *error*self.__gradiente(prediccion)\n",
    "                    self.pesos[indice] += ajustar_peso\n",
    "                    self.bias += error * self.__gradiente(prediccion)\n",
    "\n",
    "\n",
    "\n",
    "#uso de la neurona\n",
    "#declaracion de la primera neurona\n",
    "neurona1= Neurona()\n",
    "print(\"PESOS OBTENIDOS\" + str(neurona1.pesos))\n",
    "\n",
    "\n",
    "#ejercicios para entrenar la neurona\n",
    "ejemplos = [\n",
    "           {\"entradas\": [0,0,1],\"salida\":1},\n",
    "           {\"entradas\": [0,1,0],\"salida\":0},\n",
    "           {\"entradas\": [0,1,1],\"salida\":1},\n",
    "           {\"entradas\": [1,0,0],\"salida\":0},\n",
    "           {\"entradas\": [0,1,1],\"salida\":1},\n",
    "           {\"entradas\": [1,0,0],\"salida\":0},\n",
    "           {\"entradas\": [1,0,1],\"salida\":1},\n",
    "           {\"entradas\": [1,1,0],\"salida\":0}]\n",
    "\n",
    "\n",
    "neurona1.entrenamiento(ejemplos, epocas= 20000)\n",
    "print(\"Nuevos pesos: \" + str(neurona1.pesos))\n",
    "\n",
    "#ejercicio a resolver\n",
    "examen = [1,0,0]\n",
    "\n",
    "valor_predecido = neurona1.respuesta(examen)\n",
    "print(\"respuesta dada por la neurona: \" + str(valor_predecido))"
   ]
  },
  {
   "cell_type": "code",
   "execution_count": null,
   "id": "bfe9bc52-adcd-486b-9c1a-05a7498476a7",
   "metadata": {},
   "outputs": [],
   "source": []
  }
 ],
 "metadata": {
  "kernelspec": {
   "display_name": "Python 3 (ipykernel)",
   "language": "python",
   "name": "python3"
  },
  "language_info": {
   "codemirror_mode": {
    "name": "ipython",
    "version": 3
   },
   "file_extension": ".py",
   "mimetype": "text/x-python",
   "name": "python",
   "nbconvert_exporter": "python",
   "pygments_lexer": "ipython3",
   "version": "3.13.2"
  }
 },
 "nbformat": 4,
 "nbformat_minor": 5
}
