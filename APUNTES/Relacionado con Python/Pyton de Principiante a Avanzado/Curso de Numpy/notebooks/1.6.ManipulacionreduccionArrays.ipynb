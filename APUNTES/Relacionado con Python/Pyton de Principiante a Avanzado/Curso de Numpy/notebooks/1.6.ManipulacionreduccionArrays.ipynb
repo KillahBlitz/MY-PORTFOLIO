{
 "cells": [
  {
   "cell_type": "code",
   "execution_count": 1,
   "id": "fe8c446c-04b0-4026-ac1a-84b88031f8d6",
   "metadata": {},
   "outputs": [],
   "source": [
    "import numpy as np"
   ]
  },
  {
   "cell_type": "code",
   "execution_count": 5,
   "id": "54c57295-d5ba-4793-8646-88e5f91848b4",
   "metadata": {},
   "outputs": [
    {
     "name": "stdout",
     "output_type": "stream",
     "text": [
      "x:  [2 3 4]\n",
      "z:  [2 3 4]\n"
     ]
    }
   ],
   "source": [
    "z = np.array([2,3,4])\n",
    "x = z\n",
    "print('x: ', x)\n",
    "print('z: ', z)"
   ]
  },
  {
   "cell_type": "code",
   "execution_count": 6,
   "id": "d73683d1-68c0-40b1-9cfc-fd0b591a49fe",
   "metadata": {},
   "outputs": [
    {
     "name": "stdout",
     "output_type": "stream",
     "text": [
      "x:  [2 9 4]\n",
      "z:  [2 9 4]\n"
     ]
    }
   ],
   "source": [
    "#pero que pasa si cambio un elemento en z?\n",
    "z[1] = 9\n",
    "print('x: ', x)\n",
    "print('z: ', z)"
   ]
  },
  {
   "cell_type": "code",
   "execution_count": 7,
   "id": "92b1a693-d3c4-4c2f-a24b-3df5e381a210",
   "metadata": {},
   "outputs": [],
   "source": [
    "#ambos cambian, que lo que haga en x o z van a ser afectados por su paralelo\n",
    "#para evitar esto ocupamos el metodo copy()\n",
    "x = z.copy()"
   ]
  },
  {
   "cell_type": "code",
   "execution_count": 9,
   "id": "7286ae06-0522-42b2-bfb9-6f96d9aba800",
   "metadata": {},
   "outputs": [
    {
     "name": "stdout",
     "output_type": "stream",
     "text": [
      "x:  [2 9 4]\n",
      "z:  [2 3 4]\n"
     ]
    }
   ],
   "source": [
    "#demostracion del cambio\n",
    "#pero esto consume mas memoria\n",
    "z[1] = 3\n",
    "print('x: ', x)\n",
    "print('z: ', z)"
   ]
  },
  {
   "cell_type": "code",
   "execution_count": 10,
   "id": "8ddfeb3e-11a2-4306-b069-e9d5494c41a8",
   "metadata": {},
   "outputs": [
    {
     "name": "stdout",
     "output_type": "stream",
     "text": [
      "[1 2 3 4 5 6 7 8 9]\n"
     ]
    }
   ],
   "source": [
    "#cambiar la forma de un arreglo \n",
    "a = np.arange(1,10)\n",
    "print(a)"
   ]
  },
  {
   "cell_type": "code",
   "execution_count": 14,
   "id": "8080a362-0c48-4039-8989-0a3afa99a808",
   "metadata": {},
   "outputs": [
    {
     "name": "stdout",
     "output_type": "stream",
     "text": [
      "[[1 2 3]\n",
      " [4 5 6]\n",
      " [7 8 9]]\n"
     ]
    }
   ],
   "source": [
    "#cambiar la forma a 3x3\n",
    "b = a.reshape(3,3)\n",
    "#no se puede cambiar la forma a una mayor, puesto que se necesita el espacio de los elementos que hay en la lista\n",
    "#es decir, si tengo n elementos debo hacer un array que ixj=n elementos\n",
    "print(b)"
   ]
  },
  {
   "cell_type": "code",
   "execution_count": 17,
   "id": "b655752c-9bbf-409e-be1c-52b9970ad7e2",
   "metadata": {},
   "outputs": [
    {
     "name": "stdout",
     "output_type": "stream",
     "text": [
      "[1 2 3 4 5 6 7 8 9]\n"
     ]
    }
   ],
   "source": [
    "#para aplanar el arreglo\n",
    "c = b.flatten() #primer metodo, donde crea una copia del array\n",
    "c = c.ravel() #segundo metodo, donde apunta a los elementos del array\n",
    "print(c)"
   ]
  },
  {
   "cell_type": "code",
   "execution_count": 21,
   "id": "63769e81-a53e-4231-b0af-4bd37fb8b47c",
   "metadata": {},
   "outputs": [
    {
     "name": "stdout",
     "output_type": "stream",
     "text": [
      "[[1 4 7]\n",
      " [2 5 8]\n",
      " [3 6 9]]\n",
      "[1 2 3 4 5 6 7 8 9]\n"
     ]
    }
   ],
   "source": [
    "#sacar matriz transpuesta\n",
    "print(b.transpose()) #primer metodo\n",
    "print(c.T) #Segundo metodo"
   ]
  },
  {
   "cell_type": "code",
   "execution_count": 22,
   "id": "15ca10ed-eb01-4dd6-8acd-62aca3564c8c",
   "metadata": {},
   "outputs": [
    {
     "data": {
      "text/plain": [
       "np.float64(2.581988897471611)"
      ]
     },
     "execution_count": 22,
     "metadata": {},
     "output_type": "execute_result"
    }
   ],
   "source": [
    "#reduccion de arreglos\n",
    "np.sum(b) #suma de todos los elementos\n",
    "np.min(b) #valor mas pequenio de todos los elementos\n",
    "np.max(b) #valor mas grande de todos los elementos\n",
    "np.mean(b) #media de todos los elementos\n",
    "np.std(b) #desviacion estandar de todos los elementos"
   ]
  },
  {
   "cell_type": "code",
   "execution_count": 26,
   "id": "1d4f2259-67de-4d51-8f77-b5c761a4fbdc",
   "metadata": {},
   "outputs": [
    {
     "data": {
      "text/plain": [
       "array([2.44948974, 2.44948974, 2.44948974])"
      ]
     },
     "execution_count": 26,
     "metadata": {},
     "output_type": "execute_result"
    }
   ],
   "source": [
    "#reduccion de arreglos por columnas o filas que decidamos\n",
    "np.sum(b, axis = 0) #suma de los elementos por filas\n",
    "np.min(b, axis = 0) #valor mas pequenio de los elementos por filas\n",
    "np.max(b, axis = 0) #valor mas grande de los elementos por filas\n",
    "np.mean(b, axis = 0) #media de los elementos por filas\n",
    "np.std(b, axis = 0) #desviacion estandar de los elementos por filas\n",
    "#es lo mismo para las columnas pero el eje es 1 en vez de 0"
   ]
  },
  {
   "cell_type": "code",
   "execution_count": null,
   "id": "5556a407-2604-48c2-9448-0f42fbbe3c66",
   "metadata": {},
   "outputs": [],
   "source": []
  }
 ],
 "metadata": {
  "kernelspec": {
   "display_name": "Python 3 (ipykernel)",
   "language": "python",
   "name": "python3"
  },
  "language_info": {
   "codemirror_mode": {
    "name": "ipython",
    "version": 3
   },
   "file_extension": ".py",
   "mimetype": "text/x-python",
   "name": "python",
   "nbconvert_exporter": "python",
   "pygments_lexer": "ipython3",
   "version": "3.13.1"
  }
 },
 "nbformat": 4,
 "nbformat_minor": 5
}
