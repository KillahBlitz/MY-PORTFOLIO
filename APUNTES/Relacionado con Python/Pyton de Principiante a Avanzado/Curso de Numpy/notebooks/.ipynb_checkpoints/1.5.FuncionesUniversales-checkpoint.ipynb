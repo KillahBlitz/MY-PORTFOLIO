{
 "cells": [
  {
   "cell_type": "code",
   "execution_count": 1,
   "id": "3054d144-5bf9-435d-9e53-f185d85983ac",
   "metadata": {},
   "outputs": [],
   "source": [
    "import numpy as np"
   ]
  },
  {
   "cell_type": "code",
   "execution_count": 2,
   "id": "c0d80198-8b6c-428e-ab46-6dabac3ee225",
   "metadata": {},
   "outputs": [],
   "source": [
    "#definicion de arreglos de prueba\n",
    "A = np.array([1,2,3])\n",
    "B = np.array([4,5,6])"
   ]
  },
  {
   "cell_type": "code",
   "execution_count": 4,
   "id": "bdf2f084-b363-499b-935b-d8f23249edce",
   "metadata": {},
   "outputs": [
    {
     "data": {
      "text/plain": [
       "array([5, 7, 9])"
      ]
     },
     "execution_count": 4,
     "metadata": {},
     "output_type": "execute_result"
    }
   ],
   "source": [
    "#suma convencional\n",
    "A+B\n",
    "#suma de arreglos con funciones\n",
    "np.add(A,B)"
   ]
  },
  {
   "cell_type": "code",
   "execution_count": 6,
   "id": "d9a83daa-37d4-4268-bf4d-eebfc4246c84",
   "metadata": {},
   "outputs": [
    {
     "data": {
      "text/plain": [
       "array([-3, -3, -3])"
      ]
     },
     "execution_count": 6,
     "metadata": {},
     "output_type": "execute_result"
    }
   ],
   "source": [
    "#resta convencional\n",
    "A-B\n",
    "#resta de arreglos con funciones\n",
    "np.subtract(A,B)"
   ]
  },
  {
   "cell_type": "code",
   "execution_count": 7,
   "id": "e8b59daf-2a25-4bd0-bdad-45f13ddeb15c",
   "metadata": {},
   "outputs": [
    {
     "data": {
      "text/plain": [
       "array([ 4, 10, 18])"
      ]
     },
     "execution_count": 7,
     "metadata": {},
     "output_type": "execute_result"
    }
   ],
   "source": [
    "#multiplicacion convencional\n",
    "A*B\n",
    "#multiplicacion de arreglos con funciones\n",
    "np.multiply(A,B)"
   ]
  },
  {
   "cell_type": "code",
   "execution_count": 8,
   "id": "3c8381bf-dc94-4d92-b57a-45e74d82d478",
   "metadata": {},
   "outputs": [
    {
     "data": {
      "text/plain": [
       "array([0.25, 0.4 , 0.5 ])"
      ]
     },
     "execution_count": 8,
     "metadata": {},
     "output_type": "execute_result"
    }
   ],
   "source": [
    "#Division convencional\n",
    "A/B\n",
    "#division de arreglos con funciones\n",
    "np.divide(A,B)"
   ]
  },
  {
   "cell_type": "code",
   "execution_count": 9,
   "id": "023e7ee2-25ca-4e87-af59-ed48f106e9cc",
   "metadata": {},
   "outputs": [],
   "source": [
    "#funciones trigonometricas y logicas\n",
    "angles = np.array([0,30,60,90])"
   ]
  },
  {
   "cell_type": "code",
   "execution_count": 10,
   "id": "c73b2959-832d-4ea2-abe4-22863b8dffa4",
   "metadata": {},
   "outputs": [
    {
     "data": {
      "text/plain": [
       "array([ 0.        , -0.98803162, -0.30481062,  0.89399666])"
      ]
     },
     "execution_count": 10,
     "metadata": {},
     "output_type": "execute_result"
    }
   ],
   "source": [
    "#la funcion lo toma como radianes\n",
    "np.sin(angles)"
   ]
  },
  {
   "cell_type": "code",
   "execution_count": 18,
   "id": "c4c091be-69e7-48b0-a4f3-4075ee243128",
   "metadata": {},
   "outputs": [
    {
     "data": {
      "text/plain": [
       "array([0.00000000e+00, 5.77350269e-01, 1.73205081e+00, 1.63312394e+16])"
      ]
     },
     "execution_count": 18,
     "metadata": {},
     "output_type": "execute_result"
    }
   ],
   "source": [
    "#declarar el arreglo para radianes y convertir los grados\n",
    "angles_rad = np.radians(angles)\n",
    "#las tres funciones trigonometricas escenciales\n",
    "np.sin(angles_rad)\n",
    "np.cos(angles_rad)\n",
    "np.tan(angles_rad)"
   ]
  },
  {
   "cell_type": "code",
   "execution_count": 19,
   "id": "79818b98-2525-41b9-b438-65b81c3d1bf0",
   "metadata": {},
   "outputs": [
    {
     "data": {
      "text/plain": [
       "array([False, False, False])"
      ]
     },
     "execution_count": 19,
     "metadata": {},
     "output_type": "execute_result"
    }
   ],
   "source": [
    "#funciones logicas booleanas\n",
    "np.greater(A,B) #A es mayor que B?"
   ]
  },
  {
   "cell_type": "code",
   "execution_count": 20,
   "id": "21abad81-89d1-4531-a524-ca7dc0b88339",
   "metadata": {},
   "outputs": [
    {
     "data": {
      "text/plain": [
       "array([ True,  True,  True])"
      ]
     },
     "execution_count": 20,
     "metadata": {},
     "output_type": "execute_result"
    }
   ],
   "source": [
    "np.less(A,B) #A es menor que B?"
   ]
  },
  {
   "cell_type": "code",
   "execution_count": 21,
   "id": "068fa3b8-3470-453a-90fc-f263f208e144",
   "metadata": {},
   "outputs": [
    {
     "data": {
      "text/plain": [
       "array([False, False, False])"
      ]
     },
     "execution_count": 21,
     "metadata": {},
     "output_type": "execute_result"
    }
   ],
   "source": [
    "np.equal(A,B) #A es igual que B?"
   ]
  },
  {
   "cell_type": "code",
   "execution_count": 23,
   "id": "28077af0-cb66-46bc-8735-31a7e0a0b75d",
   "metadata": {},
   "outputs": [
    {
     "data": {
      "text/plain": [
       "array([1, 4, 9])"
      ]
     },
     "execution_count": 23,
     "metadata": {},
     "output_type": "execute_result"
    }
   ],
   "source": [
    "#funciones exponenciales\n",
    "np.power(A,2) #eleva al cuadrado pero puedo poner un arreglo que potencie a A"
   ]
  },
  {
   "cell_type": "code",
   "execution_count": 25,
   "id": "1d1d0927-c7a7-484b-8c70-c14808be4728",
   "metadata": {},
   "outputs": [
    {
     "data": {
      "text/plain": [
       "np.float64(0.816496580927726)"
      ]
     },
     "execution_count": 25,
     "metadata": {},
     "output_type": "execute_result"
    }
   ],
   "source": [
    "#para sacar medias\n",
    "np.mean(B)\n",
    "#la desviacion estandar\n",
    "np.std(B)"
   ]
  },
  {
   "cell_type": "code",
   "execution_count": 29,
   "id": "859f91b3-98d0-43e8-bcce-b24c4e669282",
   "metadata": {},
   "outputs": [
    {
     "name": "stdout",
     "output_type": "stream",
     "text": [
      "<class 'numpy.int64'>\n",
      "<class 'numpy.int32'>\n"
     ]
    }
   ],
   "source": [
    "#que finalidad tienen estas funciones?\n",
    "#si podemos hacer lo mismo con operadores?\n",
    "#estos metodos sirven para tareas mas especificas como por ejemplo\n",
    "z = A+B\n",
    "w = np.add(A,B, dtype = np.int32) #cambio el tipado de 64 a 32\n",
    "print(type(z[0]))\n",
    "print(type(w[0]))"
   ]
  },
  {
   "cell_type": "code",
   "execution_count": null,
   "id": "8acfc75a-9e72-4fc6-aa04-984a65388a01",
   "metadata": {},
   "outputs": [],
   "source": []
  }
 ],
 "metadata": {
  "kernelspec": {
   "display_name": "Python 3 (ipykernel)",
   "language": "python",
   "name": "python3"
  },
  "language_info": {
   "codemirror_mode": {
    "name": "ipython",
    "version": 3
   },
   "file_extension": ".py",
   "mimetype": "text/x-python",
   "name": "python",
   "nbconvert_exporter": "python",
   "pygments_lexer": "ipython3",
   "version": "3.13.1"
  }
 },
 "nbformat": 4,
 "nbformat_minor": 5
}
