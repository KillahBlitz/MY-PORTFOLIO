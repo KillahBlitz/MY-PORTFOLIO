{
 "cells": [
  {
   "cell_type": "code",
   "execution_count": 1,
   "id": "8f301e24-ed5a-42f5-9606-66dcb3a84e96",
   "metadata": {},
   "outputs": [],
   "source": [
    "import numpy as np"
   ]
  },
  {
   "cell_type": "code",
   "execution_count": 4,
   "id": "cce0de7c-2337-4ae3-a292-e27723e12b49",
   "metadata": {},
   "outputs": [
    {
     "name": "stdout",
     "output_type": "stream",
     "text": [
      "[[1 2]\n",
      " [3 4]]\n",
      "[[2 0]\n",
      " [1 2]]\n"
     ]
    }
   ],
   "source": [
    "A = np.array([[1,2],[3,4]])\n",
    "B = np.array([[2,0],[1,2]])\n",
    "print(A)\n",
    "print(B)"
   ]
  },
  {
   "cell_type": "code",
   "execution_count": 7,
   "id": "ba389760-27be-46e9-afad-e53eb0415130",
   "metadata": {},
   "outputs": [
    {
     "name": "stdout",
     "output_type": "stream",
     "text": [
      "[[ 4  4]\n",
      " [10  8]]\n"
     ]
    }
   ],
   "source": [
    "#multiplicacion de matrices\n",
    "#por sintaxis\n",
    "C = A @ B\n",
    "#por funciones de numpy\n",
    "C = np.dot(A,B)\n",
    "print(C)"
   ]
  },
  {
   "cell_type": "code",
   "execution_count": 11,
   "id": "136d1058-0556-44bf-ae98-f3f86d7a0b84",
   "metadata": {},
   "outputs": [
    {
     "data": {
      "text/plain": [
       "np.float64(4.0)"
      ]
     },
     "execution_count": 11,
     "metadata": {},
     "output_type": "execute_result"
    }
   ],
   "source": [
    "#hay que recordar las leyes de la algebra lineal\n",
    "#como el producto punto\n",
    "x = np.array([2,3])\n",
    "y = np.array([5,2])\n",
    "x@y\n",
    "#determinante de matrices\n",
    "np.linalg.det(B)"
   ]
  },
  {
   "cell_type": "code",
   "execution_count": 13,
   "id": "407140b2-9fde-4053-bafb-e0191fd27381",
   "metadata": {},
   "outputs": [
    {
     "name": "stdout",
     "output_type": "stream",
     "text": [
      "Inversa de B:\n",
      " [[ 0.5   0.  ]\n",
      " [-0.25  0.5 ]]\n"
     ]
    }
   ],
   "source": [
    "#inversa de una matriz\n",
    "#una matris nxn siempre tiene inversa siempre y cuando DetMatriz != 0\n",
    "#ejemplo\n",
    "det_B = np.linalg.det(B)\n",
    "if det_B != 0:\n",
    "    inv_B = np.linalg.inv(B)\n",
    "    print(\"Inversa de B:\\n\", inv_B)\n",
    "else:\n",
    "    print(\"B no es invertible\")"
   ]
  },
  {
   "cell_type": "code",
   "execution_count": 14,
   "id": "b6c20115-338f-438b-bc8a-6f3a1f1a3fba",
   "metadata": {},
   "outputs": [
    {
     "name": "stdout",
     "output_type": "stream",
     "text": [
      "[[1 2]\n",
      " [3 4]]\n",
      "Factor Q:\n",
      " [[-0.31622777 -0.9486833 ]\n",
      " [-0.9486833   0.31622777]]\n",
      "Factor R:\n",
      " [[-3.16227766 -4.42718872]\n",
      " [ 0.         -0.63245553]]\n"
     ]
    }
   ],
   "source": [
    "#descomposicion de matrices\n",
    "print(A)\n",
    "Q,R= np.linalg.qr(A)\n",
    "#matriz Ortogonal\n",
    "print(\"Factor Q:\\n\", Q)\n",
    "#Matriz Triangular Superior\n",
    "print(\"Factor R:\\n\", R)"
   ]
  },
  {
   "cell_type": "code",
   "execution_count": 16,
   "id": "c7d776ba-dfc4-4459-8474-b8e43792d017",
   "metadata": {},
   "outputs": [
    {
     "data": {
      "text/plain": [
       "array([[1., 2.],\n",
       "       [3., 4.]])"
      ]
     },
     "execution_count": 16,
     "metadata": {},
     "output_type": "execute_result"
    }
   ],
   "source": [
    "Q@R"
   ]
  },
  {
   "cell_type": "code",
   "execution_count": null,
   "id": "01582292-a7af-467c-b1f5-45288f412314",
   "metadata": {},
   "outputs": [],
   "source": []
  }
 ],
 "metadata": {
  "kernelspec": {
   "display_name": "Python 3 (ipykernel)",
   "language": "python",
   "name": "python3"
  },
  "language_info": {
   "codemirror_mode": {
    "name": "ipython",
    "version": 3
   },
   "file_extension": ".py",
   "mimetype": "text/x-python",
   "name": "python",
   "nbconvert_exporter": "python",
   "pygments_lexer": "ipython3",
   "version": "3.13.1"
  }
 },
 "nbformat": 4,
 "nbformat_minor": 5
}
