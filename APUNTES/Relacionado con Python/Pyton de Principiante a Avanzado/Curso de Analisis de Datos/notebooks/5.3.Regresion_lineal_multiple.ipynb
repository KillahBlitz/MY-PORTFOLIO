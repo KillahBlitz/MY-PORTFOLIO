{
 "cells": [
  {
   "cell_type": "code",
   "execution_count": 1,
   "id": "572c7a68-3ca4-4e6a-ac9a-02c7bb432f92",
   "metadata": {},
   "outputs": [],
   "source": [
    "from sklearn.linear_model import LinearRegression\n",
    "import numpy as np\n",
    "import pandas as pd\n",
    "import matplotlib.pyplot as plt\n",
    "import seaborn as sns"
   ]
  },
  {
   "cell_type": "code",
   "execution_count": 2,
   "id": "23b8a53d-19fe-4964-a519-b317f6901a86",
   "metadata": {},
   "outputs": [
    {
     "data": {
      "text/html": [
       "<div>\n",
       "<style scoped>\n",
       "    .dataframe tbody tr th:only-of-type {\n",
       "        vertical-align: middle;\n",
       "    }\n",
       "\n",
       "    .dataframe tbody tr th {\n",
       "        vertical-align: top;\n",
       "    }\n",
       "\n",
       "    .dataframe thead th {\n",
       "        text-align: right;\n",
       "    }\n",
       "</style>\n",
       "<table border=\"1\" class=\"dataframe\">\n",
       "  <thead>\n",
       "    <tr style=\"text-align: right;\">\n",
       "      <th></th>\n",
       "      <th>Order ID</th>\n",
       "      <th>Product</th>\n",
       "      <th>Price Each</th>\n",
       "      <th>Order Date</th>\n",
       "      <th>Purchase Address</th>\n",
       "      <th>Quantity Ordered</th>\n",
       "    </tr>\n",
       "  </thead>\n",
       "  <tbody>\n",
       "    <tr>\n",
       "      <th>0</th>\n",
       "      <td>176633</td>\n",
       "      <td>Flatscreen TV</td>\n",
       "      <td>13.69</td>\n",
       "      <td>2023-01-01</td>\n",
       "      <td>492 Main St, Phoenix, AZ</td>\n",
       "      <td>4</td>\n",
       "    </tr>\n",
       "    <tr>\n",
       "      <th>1</th>\n",
       "      <td>176592</td>\n",
       "      <td>Wired Headphones</td>\n",
       "      <td>13.28</td>\n",
       "      <td>2023-01-02</td>\n",
       "      <td>910 Main St, Dallas, TX</td>\n",
       "      <td>4</td>\n",
       "    </tr>\n",
       "    <tr>\n",
       "      <th>2</th>\n",
       "      <td>176655</td>\n",
       "      <td>Macbook Pro Laptop</td>\n",
       "      <td>14.27</td>\n",
       "      <td>2023-01-03</td>\n",
       "      <td>345 Main St, Portland, OR</td>\n",
       "      <td>4</td>\n",
       "    </tr>\n",
       "    <tr>\n",
       "      <th>3</th>\n",
       "      <td>176586</td>\n",
       "      <td>Flatscreen TV</td>\n",
       "      <td>15.77</td>\n",
       "      <td>2023-01-04</td>\n",
       "      <td>275 Main St, Los Angeles, CA</td>\n",
       "      <td>3</td>\n",
       "    </tr>\n",
       "    <tr>\n",
       "      <th>4</th>\n",
       "      <td>176626</td>\n",
       "      <td>Google Phone</td>\n",
       "      <td>12.30</td>\n",
       "      <td>2023-01-05</td>\n",
       "      <td>138 Main St, San Francisco, CA</td>\n",
       "      <td>4</td>\n",
       "    </tr>\n",
       "  </tbody>\n",
       "</table>\n",
       "</div>"
      ],
      "text/plain": [
       "   Order ID             Product  Price Each  Order Date  \\\n",
       "0    176633       Flatscreen TV       13.69  2023-01-01   \n",
       "1    176592    Wired Headphones       13.28  2023-01-02   \n",
       "2    176655  Macbook Pro Laptop       14.27  2023-01-03   \n",
       "3    176586       Flatscreen TV       15.77  2023-01-04   \n",
       "4    176626        Google Phone       12.30  2023-01-05   \n",
       "\n",
       "                 Purchase Address  Quantity Ordered  \n",
       "0        492 Main St, Phoenix, AZ                 4  \n",
       "1         910 Main St, Dallas, TX                 4  \n",
       "2       345 Main St, Portland, OR                 4  \n",
       "3    275 Main St, Los Angeles, CA                 3  \n",
       "4  138 Main St, San Francisco, CA                 4  "
      ]
     },
     "execution_count": 2,
     "metadata": {},
     "output_type": "execute_result"
    }
   ],
   "source": [
    "df = pd.read_csv('sales_data_correlated.csv')\n",
    "df.head()"
   ]
  },
  {
   "cell_type": "code",
   "execution_count": 3,
   "id": "b2181d2f-f50e-46c1-ba70-e7b32cf5a51f",
   "metadata": {},
   "outputs": [],
   "source": [
    "X = df[['Price Each']]  # Variable independiente\n",
    "y = df['Quantity Ordered'] # Variable dependiente"
   ]
  },
  {
   "cell_type": "code",
   "execution_count": 9,
   "id": "a8b187f2-5c38-45ca-9721-f7bffc89ca9a",
   "metadata": {},
   "outputs": [
    {
     "name": "stdout",
     "output_type": "stream",
     "text": [
      "Coeficientes: [-0.01065119]\n",
      "Intersección: 2.0130469151899097\n"
     ]
    },
    {
     "data": {
      "image/png": "[encoded data removed]",
      "text/plain": [
       "<Figure size 500x300 with 1 Axes>"
      ]
     },
     "metadata": {},
     "output_type": "display_data"
    }
   ],
   "source": [
    "model = LinearRegression()\n",
    "model.fit(X, y)\n",
    "y_pred = model.predict(X)\n",
    "\n",
    "print(f\"Coeficientes: {model.coef_}\")\n",
    "print(f\"Intersección: {model.intercept_}\")\n",
    "\n",
    "plt.figure(figsize=(5, 3))\n",
    "sns.scatterplot(x='Price Each', y='Quantity Ordered', data=df, alpha=0.5)\n",
    "plt.plot(X, y_pred, color='red', linewidth=2)\n",
    "plt.title('Regresión Lineal: Price Each vs. Quantity Ordered')\n",
    "plt.xlabel('Price Each')\n",
    "plt.ylabel('Quantity Ordered')\n",
    "plt.show()"
   ]
  },
  {
   "cell_type": "code",
   "execution_count": 5,
   "id": "f87025d0-ccd7-4786-a241-53fca6981145",
   "metadata": {},
   "outputs": [
    {
     "name": "stdout",
     "output_type": "stream",
     "text": [
      "R2 del modelo: 0.5846008424556153\n"
     ]
    }
   ],
   "source": [
    "r_squared = model.score(X, y)\n",
    "print(f\"R2 del modelo: {r_squared}\")"
   ]
  },
  {
   "cell_type": "code",
   "execution_count": 6,
   "id": "6a19c8d6-2c1d-4f14-b5c3-8983607726cd",
   "metadata": {},
   "outputs": [
    {
     "data": {
      "text/html": [
       "<div>\n",
       "<style scoped>\n",
       "    .dataframe tbody tr th:only-of-type {\n",
       "        vertical-align: middle;\n",
       "    }\n",
       "\n",
       "    .dataframe tbody tr th {\n",
       "        vertical-align: top;\n",
       "    }\n",
       "\n",
       "    .dataframe thead th {\n",
       "        text-align: right;\n",
       "    }\n",
       "</style>\n",
       "<table border=\"1\" class=\"dataframe\">\n",
       "  <thead>\n",
       "    <tr style=\"text-align: right;\">\n",
       "      <th></th>\n",
       "      <th>Order ID</th>\n",
       "      <th>Product</th>\n",
       "      <th>Price Each</th>\n",
       "      <th>Order Date</th>\n",
       "      <th>Purchase Address</th>\n",
       "      <th>Quantity Ordered</th>\n",
       "      <th>Order Month</th>\n",
       "    </tr>\n",
       "  </thead>\n",
       "  <tbody>\n",
       "    <tr>\n",
       "      <th>0</th>\n",
       "      <td>176633</td>\n",
       "      <td>Flatscreen TV</td>\n",
       "      <td>13.69</td>\n",
       "      <td>2023-01-01</td>\n",
       "      <td>492 Main St, Phoenix, AZ</td>\n",
       "      <td>4</td>\n",
       "      <td>1</td>\n",
       "    </tr>\n",
       "    <tr>\n",
       "      <th>1</th>\n",
       "      <td>176592</td>\n",
       "      <td>Wired Headphones</td>\n",
       "      <td>13.28</td>\n",
       "      <td>2023-01-02</td>\n",
       "      <td>910 Main St, Dallas, TX</td>\n",
       "      <td>4</td>\n",
       "      <td>1</td>\n",
       "    </tr>\n",
       "    <tr>\n",
       "      <th>2</th>\n",
       "      <td>176655</td>\n",
       "      <td>Macbook Pro Laptop</td>\n",
       "      <td>14.27</td>\n",
       "      <td>2023-01-03</td>\n",
       "      <td>345 Main St, Portland, OR</td>\n",
       "      <td>4</td>\n",
       "      <td>1</td>\n",
       "    </tr>\n",
       "    <tr>\n",
       "      <th>3</th>\n",
       "      <td>176586</td>\n",
       "      <td>Flatscreen TV</td>\n",
       "      <td>15.77</td>\n",
       "      <td>2023-01-04</td>\n",
       "      <td>275 Main St, Los Angeles, CA</td>\n",
       "      <td>3</td>\n",
       "      <td>1</td>\n",
       "    </tr>\n",
       "    <tr>\n",
       "      <th>4</th>\n",
       "      <td>176626</td>\n",
       "      <td>Google Phone</td>\n",
       "      <td>12.30</td>\n",
       "      <td>2023-01-05</td>\n",
       "      <td>138 Main St, San Francisco, CA</td>\n",
       "      <td>4</td>\n",
       "      <td>1</td>\n",
       "    </tr>\n",
       "  </tbody>\n",
       "</table>\n",
       "</div>"
      ],
      "text/plain": [
       "   Order ID             Product  Price Each  Order Date  \\\n",
       "0    176633       Flatscreen TV       13.69  2023-01-01   \n",
       "1    176592    Wired Headphones       13.28  2023-01-02   \n",
       "2    176655  Macbook Pro Laptop       14.27  2023-01-03   \n",
       "3    176586       Flatscreen TV       15.77  2023-01-04   \n",
       "4    176626        Google Phone       12.30  2023-01-05   \n",
       "\n",
       "                 Purchase Address  Quantity Ordered  Order Month  \n",
       "0        492 Main St, Phoenix, AZ                 4            1  \n",
       "1         910 Main St, Dallas, TX                 4            1  \n",
       "2       345 Main St, Portland, OR                 4            1  \n",
       "3    275 Main St, Los Angeles, CA                 3            1  \n",
       "4  138 Main St, San Francisco, CA                 4            1  "
      ]
     },
     "execution_count": 6,
     "metadata": {},
     "output_type": "execute_result"
    }
   ],
   "source": [
    "df['Order Month'] = pd.to_datetime(df['Order Date'], errors='coerce').dt.month\n",
    "df.head()"
   ]
  },
  {
   "cell_type": "code",
   "execution_count": 7,
   "id": "5c25941e-fec7-4eb7-9e1d-36968fadbdbc",
   "metadata": {},
   "outputs": [
    {
     "name": "stdout",
     "output_type": "stream",
     "text": [
      "Coeficientes: [-0.01734583  0.49836503]\n",
      "Intersección: 1.7859373562829823\n"
     ]
    }
   ],
   "source": [
    "X_multiple = df[['Price Each', 'Order Month']]\n",
    "model_multiple = LinearRegression()\n",
    "model_multiple.fit(X_multiple, y)\n",
    "\n",
    "print(f\"Coeficientes: {model_multiple.coef_}\")\n",
    "print(f\"Intersección: {model_multiple.intercept_}\")"
   ]
  },
  {
   "cell_type": "code",
   "execution_count": 10,
   "id": "804d0f8f-ded0-40bb-aa72-51435fcf3ea4",
   "metadata": {},
   "outputs": [
    {
     "name": "stdout",
     "output_type": "stream",
     "text": [
      "R2 del modelo múltiple: 0.6090281242096193\n"
     ]
    }
   ],
   "source": [
    "r_squared_multiple = model_multiple.score(X_multiple, y)\n",
    "print(f\"R2 del modelo múltiple: {r_squared_multiple}\")"
   ]
  },
  {
   "cell_type": "code",
   "execution_count": 11,
   "id": "670b474b-5c3d-4c8b-9488-176800635216",
   "metadata": {},
   "outputs": [
    {
     "data": {
      "image/png": "[encoded data removed]",
      "text/plain": [
       "<Figure size 500x300 with 1 Axes>"
      ]
     },
     "metadata": {},
     "output_type": "display_data"
    }
   ],
   "source": [
    "residuals = y - model_multiple.predict(X_multiple)\n",
    "plt.figure(figsize=(5, 3))\n",
    "sns.scatterplot(x=model_multiple.predict(X_multiple), y=residuals)\n",
    "plt.axhline(0, color='red', linestyle='--')\n",
    "plt.title('Gráfico de Residuos')\n",
    "plt.xlabel('Predicciones')\n",
    "plt.ylabel('Residuos')\n",
    "plt.show()"
   ]
  },
  {
   "cell_type": "code",
   "execution_count": null,
   "id": "d15dd124-f752-4225-9908-b3accf9a8ba8",
   "metadata": {},
   "outputs": [],
   "source": []
  }
 ],
 "metadata": {
  "kernelspec": {
   "display_name": "env_curso",
   "language": "python",
   "name": "env"
  },
  "language_info": {
   "codemirror_mode": {
    "name": "ipython",
    "version": 3
   },
   "file_extension": ".py",
   "mimetype": "text/x-python",
   "name": "python",
   "nbconvert_exporter": "python",
   "pygments_lexer": "ipython3",
   "version": "3.12.7"
  }
 },
 "nbformat": 4,
 "nbformat_minor": 5
}
