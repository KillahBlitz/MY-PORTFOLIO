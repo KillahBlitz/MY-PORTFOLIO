{
 "cells": [
  {
   "cell_type": "code",
   "execution_count": null,
   "id": "40fb5894-6d5b-43ec-8e1e-b3b1977b5370",
   "metadata": {},
   "outputs": [],
   "source": [
    "## Configuración de Delimitadores y Encabezados en CSV\n",
    "df.to_csv('datos_delimitado.csv', sep=';', index=False)\n",
    "df.to_csv('datos_sin_encabezado.csv', header=False, index=False)\n",
    "\n",
    "## Control de la Precisión y el Formato de los Datos Numéricos\n",
    "df.to_csv('datos_precision.csv', float_format='%.2f', index=False)\n",
    "\n",
    "## Opciones de Compresión al Exportar\n",
    "df.to_csv('datos.csv.gz', compression='gzip', index=False)\n",
    "\n",
    "df.to_excel('datos.xlsx', compression={'method': 'zip', 'archive_name': 'datos_comprimido.xlsx'}, index=False)\n",
    "\n",
    "## Configuración de Opciones de Codificación de Caracteres\n",
    "\n",
    "df.to_csv('datos_utf8.csv', encoding='utf-8', index=False)\n",
    "df.to_csv('datos_latin1.csv', encoding='latin1', index=False)\n",
    "\n",
    "## Manejo de Datos Nulos y Opciones de Exportación\n",
    "\n",
    "df.to_csv('datos_null.csv', na_rep='N/A', index=False)\n",
    "\n"
   ]
  }
 ],
 "metadata": {
  "kernelspec": {
   "display_name": "env_curso",
   "language": "python",
   "name": "env"
  },
  "language_info": {
   "codemirror_mode": {
    "name": "ipython",
    "version": 3
   },
   "file_extension": ".py",
   "mimetype": "text/x-python",
   "name": "python",
   "nbconvert_exporter": "python",
   "pygments_lexer": "ipython3",
   "version": "3.12.4"
  }
 },
 "nbformat": 4,
 "nbformat_minor": 5
}
