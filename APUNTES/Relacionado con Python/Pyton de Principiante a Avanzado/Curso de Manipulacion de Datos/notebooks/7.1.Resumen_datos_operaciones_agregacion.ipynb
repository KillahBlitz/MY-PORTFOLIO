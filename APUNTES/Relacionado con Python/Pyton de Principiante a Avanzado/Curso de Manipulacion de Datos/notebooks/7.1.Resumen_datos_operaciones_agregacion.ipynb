{
 "cells": [
  {
   "cell_type": "code",
   "execution_count": 2,
   "id": "184a9aec-e3e9-4386-8bef-293e458fde56",
   "metadata": {},
   "outputs": [],
   "source": [
    "import pandas as pd\n",
    "import numpy as np"
   ]
  },
  {
   "cell_type": "code",
   "execution_count": 10,
   "id": "02b57231-724c-499b-971b-c2d1b4e3039d",
   "metadata": {},
   "outputs": [
    {
     "data": {
      "text/html": [
       "<div>\n",
       "<style scoped>\n",
       "    .dataframe tbody tr th:only-of-type {\n",
       "        vertical-align: middle;\n",
       "    }\n",
       "\n",
       "    .dataframe tbody tr th {\n",
       "        vertical-align: top;\n",
       "    }\n",
       "\n",
       "    .dataframe thead th {\n",
       "        text-align: right;\n",
       "    }\n",
       "</style>\n",
       "<table border=\"1\" class=\"dataframe\">\n",
       "  <thead>\n",
       "    <tr style=\"text-align: right;\">\n",
       "      <th></th>\n",
       "      <th>producto</th>\n",
       "      <th>categoría</th>\n",
       "      <th>ventas</th>\n",
       "      <th>precio_unitario</th>\n",
       "      <th>fecha</th>\n",
       "    </tr>\n",
       "  </thead>\n",
       "  <tbody>\n",
       "    <tr>\n",
       "      <th>0</th>\n",
       "      <td>Manzana</td>\n",
       "      <td>Fruta</td>\n",
       "      <td>50</td>\n",
       "      <td>0.5</td>\n",
       "      <td>2024-01-01</td>\n",
       "    </tr>\n",
       "    <tr>\n",
       "      <th>1</th>\n",
       "      <td>Manzana</td>\n",
       "      <td>Fruta</td>\n",
       "      <td>30</td>\n",
       "      <td>0.5</td>\n",
       "      <td>2024-01-02</td>\n",
       "    </tr>\n",
       "    <tr>\n",
       "      <th>2</th>\n",
       "      <td>Banana</td>\n",
       "      <td>Fruta</td>\n",
       "      <td>20</td>\n",
       "      <td>0.3</td>\n",
       "      <td>2024-01-03</td>\n",
       "    </tr>\n",
       "    <tr>\n",
       "      <th>3</th>\n",
       "      <td>Banana</td>\n",
       "      <td>Legumbre</td>\n",
       "      <td>15</td>\n",
       "      <td>0.3</td>\n",
       "      <td>2024-01-04</td>\n",
       "    </tr>\n",
       "    <tr>\n",
       "      <th>4</th>\n",
       "      <td>Cereza</td>\n",
       "      <td>Fruta</td>\n",
       "      <td>10</td>\n",
       "      <td>0.8</td>\n",
       "      <td>2024-01-05</td>\n",
       "    </tr>\n",
       "    <tr>\n",
       "      <th>5</th>\n",
       "      <td>Cereza</td>\n",
       "      <td>Fruta</td>\n",
       "      <td>25</td>\n",
       "      <td>0.8</td>\n",
       "      <td>2024-01-06</td>\n",
       "    </tr>\n",
       "    <tr>\n",
       "      <th>6</th>\n",
       "      <td>Manzana</td>\n",
       "      <td>Fruta</td>\n",
       "      <td>45</td>\n",
       "      <td>0.5</td>\n",
       "      <td>2024-01-07</td>\n",
       "    </tr>\n",
       "    <tr>\n",
       "      <th>7</th>\n",
       "      <td>Banana</td>\n",
       "      <td>Legumbre</td>\n",
       "      <td>55</td>\n",
       "      <td>0.3</td>\n",
       "      <td>2024-01-08</td>\n",
       "    </tr>\n",
       "    <tr>\n",
       "      <th>8</th>\n",
       "      <td>Cereza</td>\n",
       "      <td>Fruta</td>\n",
       "      <td>40</td>\n",
       "      <td>0.8</td>\n",
       "      <td>2024-01-09</td>\n",
       "    </tr>\n",
       "  </tbody>\n",
       "</table>\n",
       "</div>"
      ],
      "text/plain": [
       "  producto categoría  ventas  precio_unitario      fecha\n",
       "0  Manzana     Fruta      50              0.5 2024-01-01\n",
       "1  Manzana     Fruta      30              0.5 2024-01-02\n",
       "2   Banana     Fruta      20              0.3 2024-01-03\n",
       "3   Banana  Legumbre      15              0.3 2024-01-04\n",
       "4   Cereza     Fruta      10              0.8 2024-01-05\n",
       "5   Cereza     Fruta      25              0.8 2024-01-06\n",
       "6  Manzana     Fruta      45              0.5 2024-01-07\n",
       "7   Banana  Legumbre      55              0.3 2024-01-08\n",
       "8   Cereza     Fruta      40              0.8 2024-01-09"
      ]
     },
     "metadata": {},
     "output_type": "display_data"
    }
   ],
   "source": [
    "data = {\n",
    "    'producto': ['Manzana', 'Manzana', 'Banana', 'Banana', 'Cereza', 'Cereza', 'Manzana', 'Banana', 'Cereza'],\n",
    "    'categoría': ['Fruta', 'Fruta', 'Fruta', 'Legumbre', 'Fruta', 'Fruta', 'Fruta', 'Legumbre', 'Fruta'],\n",
    "    'ventas': [50, 30, 20, 15, 10, 25, 45, 55, 40],\n",
    "    'precio_unitario': [0.5, 0.5, 0.3, 0.3, 0.8, 0.8, 0.5, 0.3, 0.8],\n",
    "    'fecha': pd.date_range(start='2024-01-01', periods=9, freq='D')\n",
    "}\n",
    "\n",
    "df = pd.DataFrame(data)\n",
    "display(df)"
   ]
  },
  {
   "cell_type": "code",
   "execution_count": 4,
   "id": "9b08cc33-4f1b-42ae-bf21-f95c4a0047c7",
   "metadata": {},
   "outputs": [
    {
     "data": {
      "text/plain": [
       "producto\n",
       "Banana      90\n",
       "Cereza      75\n",
       "Manzana    125\n",
       "Name: ventas, dtype: int64"
      ]
     },
     "metadata": {},
     "output_type": "display_data"
    }
   ],
   "source": [
    "total_ventas_por_producto = df.groupby('producto')['ventas'].sum()\n",
    "display(total_ventas_por_producto)"
   ]
  },
  {
   "cell_type": "code",
   "execution_count": 5,
   "id": "7e5df238-2dfb-4e7e-aaf9-14f6155133d4",
   "metadata": {},
   "outputs": [
    {
     "data": {
      "text/plain": [
       "producto\n",
       "Banana     0.3\n",
       "Cereza     0.8\n",
       "Manzana    0.5\n",
       "Name: precio_unitario, dtype: float64"
      ]
     },
     "metadata": {},
     "output_type": "display_data"
    }
   ],
   "source": [
    "precio_promedio_por_producto = df.groupby('producto')['precio_unitario'].mean()\n",
    "display(precio_promedio_por_producto)"
   ]
  },
  {
   "cell_type": "code",
   "execution_count": 7,
   "id": "95fca7c0-4794-403a-8237-45ebd4df7d99",
   "metadata": {},
   "outputs": [
    {
     "data": {
      "text/html": [
       "<div>\n",
       "<style scoped>\n",
       "    .dataframe tbody tr th:only-of-type {\n",
       "        vertical-align: middle;\n",
       "    }\n",
       "\n",
       "    .dataframe tbody tr th {\n",
       "        vertical-align: top;\n",
       "    }\n",
       "\n",
       "    .dataframe thead th {\n",
       "        text-align: right;\n",
       "    }\n",
       "</style>\n",
       "<table border=\"1\" class=\"dataframe\">\n",
       "  <thead>\n",
       "    <tr style=\"text-align: right;\">\n",
       "      <th></th>\n",
       "      <th>sum</th>\n",
       "      <th>mean</th>\n",
       "      <th>min</th>\n",
       "    </tr>\n",
       "    <tr>\n",
       "      <th>producto</th>\n",
       "      <th></th>\n",
       "      <th></th>\n",
       "      <th></th>\n",
       "    </tr>\n",
       "  </thead>\n",
       "  <tbody>\n",
       "    <tr>\n",
       "      <th>Banana</th>\n",
       "      <td>90</td>\n",
       "      <td>30.000000</td>\n",
       "      <td>15</td>\n",
       "    </tr>\n",
       "    <tr>\n",
       "      <th>Cereza</th>\n",
       "      <td>75</td>\n",
       "      <td>25.000000</td>\n",
       "      <td>10</td>\n",
       "    </tr>\n",
       "    <tr>\n",
       "      <th>Manzana</th>\n",
       "      <td>125</td>\n",
       "      <td>41.666667</td>\n",
       "      <td>30</td>\n",
       "    </tr>\n",
       "  </tbody>\n",
       "</table>\n",
       "</div>"
      ],
      "text/plain": [
       "          sum       mean  min\n",
       "producto                     \n",
       "Banana     90  30.000000   15\n",
       "Cereza     75  25.000000   10\n",
       "Manzana   125  41.666667   30"
      ]
     },
     "metadata": {},
     "output_type": "display_data"
    }
   ],
   "source": [
    "resumen_ventas = df.groupby('producto')['ventas'].agg(['sum', 'mean','min'])\n",
    "display(resumen_ventas)"
   ]
  },
  {
   "cell_type": "code",
   "execution_count": 11,
   "id": "fa5bd163-8c98-465f-a91b-a3897b8bd6e2",
   "metadata": {},
   "outputs": [
    {
     "data": {
      "text/html": [
       "<div>\n",
       "<style scoped>\n",
       "    .dataframe tbody tr th:only-of-type {\n",
       "        vertical-align: middle;\n",
       "    }\n",
       "\n",
       "    .dataframe tbody tr th {\n",
       "        vertical-align: top;\n",
       "    }\n",
       "\n",
       "    .dataframe thead th {\n",
       "        text-align: right;\n",
       "    }\n",
       "</style>\n",
       "<table border=\"1\" class=\"dataframe\">\n",
       "  <thead>\n",
       "    <tr style=\"text-align: right;\">\n",
       "      <th></th>\n",
       "      <th></th>\n",
       "      <th>total_ventas</th>\n",
       "      <th>precio_promedio</th>\n",
       "    </tr>\n",
       "    <tr>\n",
       "      <th>categoría</th>\n",
       "      <th>producto</th>\n",
       "      <th></th>\n",
       "      <th></th>\n",
       "    </tr>\n",
       "  </thead>\n",
       "  <tbody>\n",
       "    <tr>\n",
       "      <th rowspan=\"3\" valign=\"top\">Fruta</th>\n",
       "      <th>Banana</th>\n",
       "      <td>20</td>\n",
       "      <td>0.3</td>\n",
       "    </tr>\n",
       "    <tr>\n",
       "      <th>Cereza</th>\n",
       "      <td>75</td>\n",
       "      <td>0.8</td>\n",
       "    </tr>\n",
       "    <tr>\n",
       "      <th>Manzana</th>\n",
       "      <td>125</td>\n",
       "      <td>0.5</td>\n",
       "    </tr>\n",
       "    <tr>\n",
       "      <th>Legumbre</th>\n",
       "      <th>Banana</th>\n",
       "      <td>70</td>\n",
       "      <td>0.3</td>\n",
       "    </tr>\n",
       "  </tbody>\n",
       "</table>\n",
       "</div>"
      ],
      "text/plain": [
       "                    total_ventas  precio_promedio\n",
       "categoría producto                               \n",
       "Fruta     Banana              20              0.3\n",
       "          Cereza              75              0.8\n",
       "          Manzana            125              0.5\n",
       "Legumbre  Banana              70              0.3"
      ]
     },
     "metadata": {},
     "output_type": "display_data"
    }
   ],
   "source": [
    "resumen_categoria = df.groupby(['categoría', 'producto']).agg(\n",
    "    total_ventas=('ventas', 'sum'),\n",
    "    precio_promedio=('precio_unitario', 'mean')\n",
    ")\n",
    "display(resumen_categoria)"
   ]
  },
  {
   "cell_type": "code",
   "execution_count": 12,
   "id": "2f397aa5-da44-45de-891c-c9cd48831cdc",
   "metadata": {},
   "outputs": [
    {
     "data": {
      "image/png": "[encoded data removed]",
      "text/plain": [
       "<Figure size 640x480 with 1 Axes>"
      ]
     },
     "metadata": {},
     "output_type": "display_data"
    }
   ],
   "source": [
    "import matplotlib.pyplot as plt\n",
    "total_ventas_por_producto.plot(kind='bar')\n",
    "plt.title('Total de Ventas por Producto')\n",
    "plt.ylabel('Total Ventas')\n",
    "plt.show()"
   ]
  },
  {
   "cell_type": "code",
   "execution_count": null,
   "id": "2bfbf281-3612-4a3e-bf05-10cbccd2845e",
   "metadata": {},
   "outputs": [],
   "source": []
  }
 ],
 "metadata": {
  "kernelspec": {
   "display_name": "env_curso",
   "language": "python",
   "name": "env"
  },
  "language_info": {
   "codemirror_mode": {
    "name": "ipython",
    "version": 3
   },
   "file_extension": ".py",
   "mimetype": "text/x-python",
   "name": "python",
   "nbconvert_exporter": "python",
   "pygments_lexer": "ipython3",
   "version": "3.12.4"
  }
 },
 "nbformat": 4,
 "nbformat_minor": 5
}
