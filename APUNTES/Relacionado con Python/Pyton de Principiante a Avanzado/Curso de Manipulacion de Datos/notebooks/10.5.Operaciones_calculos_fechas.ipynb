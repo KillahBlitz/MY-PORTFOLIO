{
 "cells": [
  {
   "cell_type": "code",
   "execution_count": 16,
   "id": "7754225c-b3f1-4162-b055-b4a1516ebb74",
   "metadata": {},
   "outputs": [],
   "source": [
    "import pandas as pd"
   ]
  },
  {
   "cell_type": "code",
   "execution_count": 21,
   "id": "87e37b84-6bbd-4c62-8c72-d45bbfca763d",
   "metadata": {},
   "outputs": [],
   "source": [
    "df = pd.DataFrame({\n",
    "    'fecha_inicio': pd.to_datetime(['2024-08-01', '2023-12-15', '2025-07-20']),\n",
    "    'fecha_fin': pd.to_datetime(['2024-08-10', '2021-12-25', '2025-08-01'])\n",
    "})"
   ]
  },
  {
   "cell_type": "code",
   "execution_count": 22,
   "id": "489ac913-10e0-4553-90ae-799d5f4bef3c",
   "metadata": {},
   "outputs": [
    {
     "data": {
      "text/html": [
       "<div>\n",
       "<style scoped>\n",
       "    .dataframe tbody tr th:only-of-type {\n",
       "        vertical-align: middle;\n",
       "    }\n",
       "\n",
       "    .dataframe tbody tr th {\n",
       "        vertical-align: top;\n",
       "    }\n",
       "\n",
       "    .dataframe thead th {\n",
       "        text-align: right;\n",
       "    }\n",
       "</style>\n",
       "<table border=\"1\" class=\"dataframe\">\n",
       "  <thead>\n",
       "    <tr style=\"text-align: right;\">\n",
       "      <th></th>\n",
       "      <th>fecha_inicio</th>\n",
       "      <th>fecha_fin</th>\n",
       "      <th>diferencia_dias</th>\n",
       "    </tr>\n",
       "  </thead>\n",
       "  <tbody>\n",
       "    <tr>\n",
       "      <th>0</th>\n",
       "      <td>2024-08-01</td>\n",
       "      <td>2024-08-10</td>\n",
       "      <td>9 days</td>\n",
       "    </tr>\n",
       "    <tr>\n",
       "      <th>1</th>\n",
       "      <td>2023-12-15</td>\n",
       "      <td>2021-12-25</td>\n",
       "      <td>-720 days</td>\n",
       "    </tr>\n",
       "    <tr>\n",
       "      <th>2</th>\n",
       "      <td>2025-07-20</td>\n",
       "      <td>2025-08-01</td>\n",
       "      <td>12 days</td>\n",
       "    </tr>\n",
       "  </tbody>\n",
       "</table>\n",
       "</div>"
      ],
      "text/plain": [
       "  fecha_inicio  fecha_fin diferencia_dias\n",
       "0   2024-08-01 2024-08-10          9 days\n",
       "1   2023-12-15 2021-12-25       -720 days\n",
       "2   2025-07-20 2025-08-01         12 days"
      ]
     },
     "metadata": {},
     "output_type": "display_data"
    }
   ],
   "source": [
    "df['diferencia_dias'] = df['fecha_fin'] - df['fecha_inicio']\n",
    "display(df)"
   ]
  },
  {
   "cell_type": "code",
   "execution_count": 23,
   "id": "8d3740d1-2858-420e-95d4-0b1a64e73c4b",
   "metadata": {},
   "outputs": [
    {
     "data": {
      "text/html": [
       "<div>\n",
       "<style scoped>\n",
       "    .dataframe tbody tr th:only-of-type {\n",
       "        vertical-align: middle;\n",
       "    }\n",
       "\n",
       "    .dataframe tbody tr th {\n",
       "        vertical-align: top;\n",
       "    }\n",
       "\n",
       "    .dataframe thead th {\n",
       "        text-align: right;\n",
       "    }\n",
       "</style>\n",
       "<table border=\"1\" class=\"dataframe\">\n",
       "  <thead>\n",
       "    <tr style=\"text-align: right;\">\n",
       "      <th></th>\n",
       "      <th>fecha_inicio</th>\n",
       "      <th>fecha_fin</th>\n",
       "      <th>diferencia_dias</th>\n",
       "      <th>fecha_mas_7_dias</th>\n",
       "      <th>fecha_menos_1_mes</th>\n",
       "      <th>fecha_mas_2_años</th>\n",
       "    </tr>\n",
       "  </thead>\n",
       "  <tbody>\n",
       "    <tr>\n",
       "      <th>0</th>\n",
       "      <td>2024-08-01</td>\n",
       "      <td>2024-08-10</td>\n",
       "      <td>9 days</td>\n",
       "      <td>2024-08-08</td>\n",
       "      <td>2024-07-10</td>\n",
       "      <td>2026-08-01</td>\n",
       "    </tr>\n",
       "    <tr>\n",
       "      <th>1</th>\n",
       "      <td>2023-12-15</td>\n",
       "      <td>2021-12-25</td>\n",
       "      <td>-720 days</td>\n",
       "      <td>2023-12-22</td>\n",
       "      <td>2021-11-25</td>\n",
       "      <td>2025-12-15</td>\n",
       "    </tr>\n",
       "    <tr>\n",
       "      <th>2</th>\n",
       "      <td>2025-07-20</td>\n",
       "      <td>2025-08-01</td>\n",
       "      <td>12 days</td>\n",
       "      <td>2025-07-27</td>\n",
       "      <td>2025-07-01</td>\n",
       "      <td>2027-07-20</td>\n",
       "    </tr>\n",
       "  </tbody>\n",
       "</table>\n",
       "</div>"
      ],
      "text/plain": [
       "  fecha_inicio  fecha_fin diferencia_dias fecha_mas_7_dias fecha_menos_1_mes  \\\n",
       "0   2024-08-01 2024-08-10          9 days       2024-08-08        2024-07-10   \n",
       "1   2023-12-15 2021-12-25       -720 days       2023-12-22        2021-11-25   \n",
       "2   2025-07-20 2025-08-01         12 days       2025-07-27        2025-07-01   \n",
       "\n",
       "  fecha_mas_2_años  \n",
       "0       2026-08-01  \n",
       "1       2025-12-15  \n",
       "2       2027-07-20  "
      ]
     },
     "metadata": {},
     "output_type": "display_data"
    }
   ],
   "source": [
    "df['fecha_mas_7_dias'] = df['fecha_inicio'] + pd.DateOffset(days=7)\n",
    "df['fecha_menos_1_mes'] = df['fecha_fin'] - pd.DateOffset(months=1)\n",
    "df['fecha_mas_2_años'] = df['fecha_inicio'] + pd.DateOffset(years=2)\n",
    "display(df)"
   ]
  },
  {
   "cell_type": "code",
   "execution_count": 24,
   "id": "098dd0ad-ef8f-477c-bcfe-c10a7455356f",
   "metadata": {},
   "outputs": [
    {
     "data": {
      "text/html": [
       "<div>\n",
       "<style scoped>\n",
       "    .dataframe tbody tr th:only-of-type {\n",
       "        vertical-align: middle;\n",
       "    }\n",
       "\n",
       "    .dataframe tbody tr th {\n",
       "        vertical-align: top;\n",
       "    }\n",
       "\n",
       "    .dataframe thead th {\n",
       "        text-align: right;\n",
       "    }\n",
       "</style>\n",
       "<table border=\"1\" class=\"dataframe\">\n",
       "  <thead>\n",
       "    <tr style=\"text-align: right;\">\n",
       "      <th></th>\n",
       "      <th>fecha_inicio</th>\n",
       "      <th>fecha_fin</th>\n",
       "      <th>diferencia_dias</th>\n",
       "      <th>fecha_mas_7_dias</th>\n",
       "      <th>fecha_menos_1_mes</th>\n",
       "      <th>fecha_mas_2_años</th>\n",
       "    </tr>\n",
       "  </thead>\n",
       "  <tbody>\n",
       "    <tr>\n",
       "      <th>0</th>\n",
       "      <td>2024-08-01</td>\n",
       "      <td>2024-08-10</td>\n",
       "      <td>9 days</td>\n",
       "      <td>2024-08-08</td>\n",
       "      <td>2024-07-10</td>\n",
       "      <td>2026-08-01</td>\n",
       "    </tr>\n",
       "    <tr>\n",
       "      <th>2</th>\n",
       "      <td>2025-07-20</td>\n",
       "      <td>2025-08-01</td>\n",
       "      <td>12 days</td>\n",
       "      <td>2025-07-27</td>\n",
       "      <td>2025-07-01</td>\n",
       "      <td>2027-07-20</td>\n",
       "    </tr>\n",
       "  </tbody>\n",
       "</table>\n",
       "</div>"
      ],
      "text/plain": [
       "  fecha_inicio  fecha_fin diferencia_dias fecha_mas_7_dias fecha_menos_1_mes  \\\n",
       "0   2024-08-01 2024-08-10          9 days       2024-08-08        2024-07-10   \n",
       "2   2025-07-20 2025-08-01         12 days       2025-07-27        2025-07-01   \n",
       "\n",
       "  fecha_mas_2_años  \n",
       "0       2026-08-01  \n",
       "2       2027-07-20  "
      ]
     },
     "metadata": {},
     "output_type": "display_data"
    }
   ],
   "source": [
    "df_filtrado = df[df['fecha_fin'] > df['fecha_inicio']]\n",
    "display(df_filtrado)"
   ]
  },
  {
   "cell_type": "code",
   "execution_count": 25,
   "id": "7a56eb04-4f3f-4fee-bce2-3b150d5f3376",
   "metadata": {},
   "outputs": [
    {
     "name": "stdout",
     "output_type": "stream",
     "text": [
      "2024-01-01      0\n",
      "2024-01-02      1\n",
      "2024-01-03      2\n",
      "2024-01-04      3\n",
      "2024-01-05      4\n",
      "             ... \n",
      "2024-12-27    361\n",
      "2024-12-28    362\n",
      "2024-12-29    363\n",
      "2024-12-30    364\n",
      "2024-12-31    365\n",
      "Freq: D, Length: 366, dtype: int64\n"
     ]
    }
   ],
   "source": [
    "fechas = pd.date_range(start='2024-01-01', end='2024-12-31', freq='D')\n",
    "datos = pd.Series(range(len(fechas)), index=fechas)\n",
    "print(datos)"
   ]
  },
  {
   "cell_type": "code",
   "execution_count": 27,
   "id": "5c575f1b-87e3-4e89-ae1b-b3d956e30ed0",
   "metadata": {},
   "outputs": [
    {
     "name": "stdout",
     "output_type": "stream",
     "text": [
      "2024-01-31     15.0\n",
      "2024-02-29     45.0\n",
      "2024-03-31     75.0\n",
      "2024-04-30    105.5\n",
      "2024-05-31    136.0\n",
      "2024-06-30    166.5\n",
      "2024-07-31    197.0\n",
      "2024-08-31    228.0\n",
      "2024-09-30    258.5\n",
      "2024-10-31    289.0\n",
      "2024-11-30    319.5\n",
      "2024-12-31    350.0\n",
      "Freq: ME, dtype: float64\n"
     ]
    }
   ],
   "source": [
    "datos_mensuales = datos.resample('ME').mean()\n",
    "print(datos_mensuales)\n"
   ]
  },
  {
   "cell_type": "code",
   "execution_count": 29,
   "id": "6d4f586f-ba15-48d0-bdd6-6c7c87adce33",
   "metadata": {},
   "outputs": [
    {
     "name": "stdout",
     "output_type": "stream",
     "text": [
      "2024-01-01     NaN\n",
      "2024-01-02     NaN\n",
      "2024-01-03     NaN\n",
      "2024-01-04     NaN\n",
      "2024-01-05     NaN\n",
      "2024-01-06     NaN\n",
      "2024-01-07     3.0\n",
      "2024-01-08     4.0\n",
      "2024-01-09     5.0\n",
      "2024-01-10     6.0\n",
      "2024-01-11     7.0\n",
      "2024-01-12     8.0\n",
      "2024-01-13     9.0\n",
      "2024-01-14    10.0\n",
      "Freq: D, dtype: float64\n"
     ]
    }
   ],
   "source": [
    "datos_rolling = datos.rolling(window=7).mean()\n",
    "print(datos_rolling['2024-01-01':'2024-01-14'])\n"
   ]
  },
  {
   "cell_type": "code",
   "execution_count": null,
   "id": "c170d4b1-0f3f-4c53-83e0-9c3de49c6d23",
   "metadata": {},
   "outputs": [],
   "source": []
  }
 ],
 "metadata": {
  "kernelspec": {
   "display_name": "env_curso",
   "language": "python",
   "name": "env"
  },
  "language_info": {
   "codemirror_mode": {
    "name": "ipython",
    "version": 3
   },
   "file_extension": ".py",
   "mimetype": "text/x-python",
   "name": "python",
   "nbconvert_exporter": "python",
   "pygments_lexer": "ipython3",
   "version": "3.12.4"
  }
 },
 "nbformat": 4,
 "nbformat_minor": 5
}
