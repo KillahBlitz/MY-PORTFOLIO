{
 "cells": [
  {
   "cell_type": "code",
   "execution_count": 1,
   "id": "baf8b376-9e7b-4713-a02a-51169b1c1b7c",
   "metadata": {},
   "outputs": [],
   "source": [
    "import pandas as pd"
   ]
  },
  {
   "cell_type": "code",
   "execution_count": 3,
   "id": "24fc477d-0236-4823-b713-198a38bfd42f",
   "metadata": {},
   "outputs": [
    {
     "name": "stdout",
     "output_type": "stream",
     "text": [
      "2023-01-01    150\n",
      "2023-01-02    152\n",
      "2023-01-03    149\n",
      "2023-01-04    153\n",
      "2023-01-05    155\n",
      "2023-01-06    158\n",
      "2023-01-07    157\n",
      "2023-01-08    160\n",
      "2023-01-09    162\n",
      "2023-01-10    161\n",
      "Freq: D, dtype: int64\n"
     ]
    }
   ],
   "source": [
    "#creacion de data frame\n",
    "fechas = pd.date_range(start='2023-01-01', periods=10, freq='D')\n",
    "precios = [150, 152, 149, 153, 155, 158, 157, 160, 162, 161]\n",
    "\n",
    "serie_temporal = pd.Series(data=precios, index=fechas)\n",
    "print(serie_temporal)"
   ]
  },
  {
   "cell_type": "code",
   "execution_count": 5,
   "id": "7ad0d27e-6172-42a4-b811-a9e3f4720a0e",
   "metadata": {},
   "outputs": [
    {
     "name": "stdout",
     "output_type": "stream",
     "text": [
      "Primera mitad:\n",
      " 2023-01-01    150\n",
      "2023-01-02    152\n",
      "2023-01-03    149\n",
      "2023-01-04    153\n",
      "2023-01-05    155\n",
      "Freq: D, dtype: int64\n",
      "Segunda mitad:\n",
      " 2023-01-06    158\n",
      "2023-01-07    157\n",
      "2023-01-08    160\n",
      "2023-01-09    162\n",
      "2023-01-10    161\n",
      "Freq: D, dtype: int64\n"
     ]
    }
   ],
   "source": [
    "#tomar intervalos\n",
    "primeramitad = serie_temporal['2023-01-01':'2023-01-05']\n",
    "segundamitad = serie_temporal['2023-01-06':'2023-01-10']\n",
    "\n",
    "print(\"Primera mitad:\\n\", primeramitad)\n",
    "print(\"Segunda mitad:\\n\", segundamitad)"
   ]
  },
  {
   "cell_type": "code",
   "execution_count": 6,
   "id": "5806ed0f-2177-4a53-a6c8-401cc909db30",
   "metadata": {},
   "outputs": [
    {
     "name": "stdout",
     "output_type": "stream",
     "text": [
      "cambios significativos:\n",
      " 2023-01-04    4.0\n",
      "Freq: D, dtype: float64\n"
     ]
    }
   ],
   "source": [
    "#detectar eventos y anomalias\n",
    "#eventos claves\n",
    "cambios = serie_temporal.diff().abs()\n",
    "cambios_significativos = cambios[cambios > 3]\n",
    "print('cambios significativos:\\n', cambios_significativos)"
   ]
  },
  {
   "cell_type": "code",
   "execution_count": 9,
   "id": "f86ce708-0bdd-4e91-8715-c756af0dd957",
   "metadata": {},
   "outputs": [
    {
     "name": "stdout",
     "output_type": "stream",
     "text": [
      "Agregacion semanal:\n",
      " 2023-01-01     150\n",
      "2023-01-08    1084\n",
      "2023-01-15     323\n",
      "Freq: W-SUN, dtype: int64\n"
     ]
    }
   ],
   "source": [
    "#agregaciones temporales para toma de decisiones\n",
    "serie_semanal = serie_temporal.resample('W').sum()\n",
    "print(\"Agregacion semanal:\\n\", serie_semanal)"
   ]
  },
  {
   "cell_type": "code",
   "execution_count": null,
   "id": "ffd6ebea-4fc8-412c-84f7-c3d2e248f6fb",
   "metadata": {},
   "outputs": [],
   "source": []
  }
 ],
 "metadata": {
  "kernelspec": {
   "display_name": "Python 3 (ipykernel)",
   "language": "python",
   "name": "python3"
  },
  "language_info": {
   "codemirror_mode": {
    "name": "ipython",
    "version": 3
   },
   "file_extension": ".py",
   "mimetype": "text/x-python",
   "name": "python",
   "nbconvert_exporter": "python",
   "pygments_lexer": "ipython3",
   "version": "3.13.3"
  }
 },
 "nbformat": 4,
 "nbformat_minor": 5
}
