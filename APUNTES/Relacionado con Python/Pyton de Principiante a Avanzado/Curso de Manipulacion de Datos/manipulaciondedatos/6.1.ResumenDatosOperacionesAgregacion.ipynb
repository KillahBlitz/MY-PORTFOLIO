{
 "cells": [
  {
   "cell_type": "code",
   "execution_count": 14,
   "id": "e076d319-1fa5-49f6-b990-440108bc289b",
   "metadata": {},
   "outputs": [],
   "source": [
    "import pandas as pd\n",
    "import numpy as np\n",
    "import matplotlib.pyplot as plt"
   ]
  },
  {
   "cell_type": "code",
   "execution_count": 4,
   "id": "efdd247a-0bb9-453d-aed5-6c04c446f311",
   "metadata": {},
   "outputs": [
    {
     "data": {
      "text/html": [
       "<div>\n",
       "<style scoped>\n",
       "    .dataframe tbody tr th:only-of-type {\n",
       "        vertical-align: middle;\n",
       "    }\n",
       "\n",
       "    .dataframe tbody tr th {\n",
       "        vertical-align: top;\n",
       "    }\n",
       "\n",
       "    .dataframe thead th {\n",
       "        text-align: right;\n",
       "    }\n",
       "</style>\n",
       "<table border=\"1\" class=\"dataframe\">\n",
       "  <thead>\n",
       "    <tr style=\"text-align: right;\">\n",
       "      <th></th>\n",
       "      <th>producto</th>\n",
       "      <th>categoria</th>\n",
       "      <th>ventas</th>\n",
       "      <th>precio</th>\n",
       "      <th>fecha</th>\n",
       "    </tr>\n",
       "  </thead>\n",
       "  <tbody>\n",
       "    <tr>\n",
       "      <th>0</th>\n",
       "      <td>Manzana</td>\n",
       "      <td>Fruta</td>\n",
       "      <td>50</td>\n",
       "      <td>0.5</td>\n",
       "      <td>2024-01-01</td>\n",
       "    </tr>\n",
       "    <tr>\n",
       "      <th>1</th>\n",
       "      <td>Manzana</td>\n",
       "      <td>Fruta</td>\n",
       "      <td>30</td>\n",
       "      <td>0.5</td>\n",
       "      <td>2024-01-02</td>\n",
       "    </tr>\n",
       "    <tr>\n",
       "      <th>2</th>\n",
       "      <td>Banana</td>\n",
       "      <td>Fruta</td>\n",
       "      <td>20</td>\n",
       "      <td>0.3</td>\n",
       "      <td>2024-01-03</td>\n",
       "    </tr>\n",
       "    <tr>\n",
       "      <th>3</th>\n",
       "      <td>Banana</td>\n",
       "      <td>Fruta</td>\n",
       "      <td>15</td>\n",
       "      <td>0.3</td>\n",
       "      <td>2024-01-04</td>\n",
       "    </tr>\n",
       "    <tr>\n",
       "      <th>4</th>\n",
       "      <td>Cereza</td>\n",
       "      <td>Fruta</td>\n",
       "      <td>10</td>\n",
       "      <td>0.8</td>\n",
       "      <td>2024-01-05</td>\n",
       "    </tr>\n",
       "    <tr>\n",
       "      <th>5</th>\n",
       "      <td>Cereza</td>\n",
       "      <td>Fruta</td>\n",
       "      <td>25</td>\n",
       "      <td>0.8</td>\n",
       "      <td>2024-01-06</td>\n",
       "    </tr>\n",
       "    <tr>\n",
       "      <th>6</th>\n",
       "      <td>Manzana</td>\n",
       "      <td>Fruta</td>\n",
       "      <td>45</td>\n",
       "      <td>0.5</td>\n",
       "      <td>2024-01-07</td>\n",
       "    </tr>\n",
       "    <tr>\n",
       "      <th>7</th>\n",
       "      <td>Banana</td>\n",
       "      <td>Fruta</td>\n",
       "      <td>55</td>\n",
       "      <td>0.3</td>\n",
       "      <td>2024-01-08</td>\n",
       "    </tr>\n",
       "    <tr>\n",
       "      <th>8</th>\n",
       "      <td>Cereza</td>\n",
       "      <td>Fruta</td>\n",
       "      <td>40</td>\n",
       "      <td>0.8</td>\n",
       "      <td>2024-01-09</td>\n",
       "    </tr>\n",
       "  </tbody>\n",
       "</table>\n",
       "</div>"
      ],
      "text/plain": [
       "  producto categoria  ventas  precio      fecha\n",
       "0  Manzana     Fruta      50     0.5 2024-01-01\n",
       "1  Manzana     Fruta      30     0.5 2024-01-02\n",
       "2   Banana     Fruta      20     0.3 2024-01-03\n",
       "3   Banana     Fruta      15     0.3 2024-01-04\n",
       "4   Cereza     Fruta      10     0.8 2024-01-05\n",
       "5   Cereza     Fruta      25     0.8 2024-01-06\n",
       "6  Manzana     Fruta      45     0.5 2024-01-07\n",
       "7   Banana     Fruta      55     0.3 2024-01-08\n",
       "8   Cereza     Fruta      40     0.8 2024-01-09"
      ]
     },
     "metadata": {},
     "output_type": "display_data"
    }
   ],
   "source": [
    "data = {\n",
    "    'producto': ['Manzana', 'Manzana', 'Banana', 'Banana', 'Cereza', 'Cereza',  'Manzana', 'Banana', 'Cereza'],\n",
    "    'categoria': ['Fruta', 'Fruta', 'Fruta', 'Fruta', 'Fruta', 'Fruta', 'Fruta', 'Fruta', 'Fruta'],\n",
    "    'ventas': [50, 30, 20, 15, 10, 25, 45, 55, 40],\n",
    "    'precio': [0.5, 0.5, 0.3, 0.3, 0.8, 0.8, 0.5, 0.3, 0.8],\n",
    "    'fecha': pd.date_range(start='2024-01-01', periods=9, freq='D')\n",
    "}\n",
    "\n",
    "df = pd.DataFrame(data)\n",
    "display(df)"
   ]
  },
  {
   "cell_type": "code",
   "execution_count": 6,
   "id": "4b7b0017-8777-4ad9-a809-82d7e7cdcb6f",
   "metadata": {},
   "outputs": [
    {
     "data": {
      "text/plain": [
       "producto\n",
       "Banana      90\n",
       "Cereza      75\n",
       "Manzana    125\n",
       "Name: ventas, dtype: int64"
      ]
     },
     "metadata": {},
     "output_type": "display_data"
    }
   ],
   "source": [
    "#Operaciones de Agregaciones: cuando realizamos una agrupacion respecto a alguna categoria del dataframe\n",
    "#y a esa cierta agrupacion se le realiza alguna operacion tipica\n",
    "#total de ventas por producto\n",
    "total_ventas_por_producto = df.groupby('producto')['ventas'].sum()\n",
    "display(total_ventas_por_producto)"
   ]
  },
  {
   "cell_type": "code",
   "execution_count": 8,
   "id": "189be399-523e-461b-86a2-9d46d6ad587a",
   "metadata": {},
   "outputs": [
    {
     "data": {
      "text/plain": [
       "producto\n",
       "Banana     0.3\n",
       "Cereza     0.8\n",
       "Manzana    0.5\n",
       "Name: precio, dtype: float64"
      ]
     },
     "metadata": {},
     "output_type": "display_data"
    }
   ],
   "source": [
    "#promedio de precio unitario por producto\n",
    "precio_promedio_por_producto = df.groupby('producto')['precio'].mean()\n",
    "display(precio_promedio_por_producto)"
   ]
  },
  {
   "cell_type": "code",
   "execution_count": 12,
   "id": "5a141141-cc8f-4127-86df-72705ff0644c",
   "metadata": {},
   "outputs": [
    {
     "data": {
      "text/html": [
       "<div>\n",
       "<style scoped>\n",
       "    .dataframe tbody tr th:only-of-type {\n",
       "        vertical-align: middle;\n",
       "    }\n",
       "\n",
       "    .dataframe tbody tr th {\n",
       "        vertical-align: top;\n",
       "    }\n",
       "\n",
       "    .dataframe thead th {\n",
       "        text-align: right;\n",
       "    }\n",
       "</style>\n",
       "<table border=\"1\" class=\"dataframe\">\n",
       "  <thead>\n",
       "    <tr style=\"text-align: right;\">\n",
       "      <th></th>\n",
       "      <th>sum</th>\n",
       "      <th>mean</th>\n",
       "      <th>min</th>\n",
       "      <th>max</th>\n",
       "    </tr>\n",
       "    <tr>\n",
       "      <th>producto</th>\n",
       "      <th></th>\n",
       "      <th></th>\n",
       "      <th></th>\n",
       "      <th></th>\n",
       "    </tr>\n",
       "  </thead>\n",
       "  <tbody>\n",
       "    <tr>\n",
       "      <th>Banana</th>\n",
       "      <td>90</td>\n",
       "      <td>30.000000</td>\n",
       "      <td>15</td>\n",
       "      <td>55</td>\n",
       "    </tr>\n",
       "    <tr>\n",
       "      <th>Cereza</th>\n",
       "      <td>75</td>\n",
       "      <td>25.000000</td>\n",
       "      <td>10</td>\n",
       "      <td>40</td>\n",
       "    </tr>\n",
       "    <tr>\n",
       "      <th>Manzana</th>\n",
       "      <td>125</td>\n",
       "      <td>41.666667</td>\n",
       "      <td>30</td>\n",
       "      <td>50</td>\n",
       "    </tr>\n",
       "  </tbody>\n",
       "</table>\n",
       "</div>"
      ],
      "text/plain": [
       "          sum       mean  min  max\n",
       "producto                          \n",
       "Banana     90  30.000000   15   55\n",
       "Cereza     75  25.000000   10   40\n",
       "Manzana   125  41.666667   30   50"
      ]
     },
     "metadata": {},
     "output_type": "display_data"
    }
   ],
   "source": [
    "#podemos realizar multiples funciones\n",
    "resumen_ventas = df.groupby('producto')['ventas'].agg(['sum','mean','min','max'])\n",
    "display(resumen_ventas)"
   ]
  },
  {
   "cell_type": "code",
   "execution_count": 13,
   "id": "b3cd5c25-a975-46d2-bd8f-4e2fb216e94a",
   "metadata": {},
   "outputs": [
    {
     "data": {
      "text/html": [
       "<div>\n",
       "<style scoped>\n",
       "    .dataframe tbody tr th:only-of-type {\n",
       "        vertical-align: middle;\n",
       "    }\n",
       "\n",
       "    .dataframe tbody tr th {\n",
       "        vertical-align: top;\n",
       "    }\n",
       "\n",
       "    .dataframe thead th {\n",
       "        text-align: right;\n",
       "    }\n",
       "</style>\n",
       "<table border=\"1\" class=\"dataframe\">\n",
       "  <thead>\n",
       "    <tr style=\"text-align: right;\">\n",
       "      <th></th>\n",
       "      <th></th>\n",
       "      <th>total_ventas</th>\n",
       "      <th>precio_promedio</th>\n",
       "    </tr>\n",
       "    <tr>\n",
       "      <th>categoria</th>\n",
       "      <th>producto</th>\n",
       "      <th></th>\n",
       "      <th></th>\n",
       "    </tr>\n",
       "  </thead>\n",
       "  <tbody>\n",
       "    <tr>\n",
       "      <th rowspan=\"3\" valign=\"top\">Fruta</th>\n",
       "      <th>Banana</th>\n",
       "      <td>90</td>\n",
       "      <td>0.3</td>\n",
       "    </tr>\n",
       "    <tr>\n",
       "      <th>Cereza</th>\n",
       "      <td>75</td>\n",
       "      <td>0.8</td>\n",
       "    </tr>\n",
       "    <tr>\n",
       "      <th>Manzana</th>\n",
       "      <td>125</td>\n",
       "      <td>0.5</td>\n",
       "    </tr>\n",
       "  </tbody>\n",
       "</table>\n",
       "</div>"
      ],
      "text/plain": [
       "                    total_ventas  precio_promedio\n",
       "categoria producto                               \n",
       "Fruta     Banana              90              0.3\n",
       "          Cereza              75              0.8\n",
       "          Manzana            125              0.5"
      ]
     },
     "metadata": {},
     "output_type": "display_data"
    }
   ],
   "source": [
    "#realizarlo a mas de una columna\n",
    "resumen_categoria = df.groupby(['categoria', 'producto']).agg(\n",
    "    total_ventas=('ventas','sum'),\n",
    "    precio_promedio=('precio','mean')\n",
    ")\n",
    "display(resumen_categoria)"
   ]
  },
  {
   "cell_type": "code",
   "execution_count": 15,
   "id": "a2317500-27d5-4ecf-8e1e-a8db17de832e",
   "metadata": {},
   "outputs": [
    {
     "data": {
      "image/png": "[encoded data removed]",
      "text/plain": [
       "<Figure size 640x480 with 1 Axes>"
      ]
     },
     "metadata": {},
     "output_type": "display_data"
    }
   ],
   "source": [
    "#visualizar los resultados\n",
    "total_ventas_por_producto.plot(kind='bar')\n",
    "plt.title('Total de ventas por producto')\n",
    "plt.ylabel('Total Ventas')\n",
    "plt.show()"
   ]
  },
  {
   "cell_type": "code",
   "execution_count": null,
   "id": "740af731-f5c3-4500-8a8d-5357665018e0",
   "metadata": {},
   "outputs": [],
   "source": []
  }
 ],
 "metadata": {
  "kernelspec": {
   "display_name": "Python 3 (ipykernel)",
   "language": "python",
   "name": "python3"
  },
  "language_info": {
   "codemirror_mode": {
    "name": "ipython",
    "version": 3
   },
   "file_extension": ".py",
   "mimetype": "text/x-python",
   "name": "python",
   "nbconvert_exporter": "python",
   "pygments_lexer": "ipython3",
   "version": "3.13.3"
  }
 },
 "nbformat": 4,
 "nbformat_minor": 5
}
