{
 "cells": [
  {
   "cell_type": "code",
   "execution_count": 1,
   "id": "f92cca7f-5329-433e-9c87-3d6a6bfc9fcd",
   "metadata": {},
   "outputs": [],
   "source": [
    "import pandas as pd\n",
    "import numpy as np"
   ]
  },
  {
   "cell_type": "code",
   "execution_count": 2,
   "id": "b1848796-4db9-47c1-9dac-c032f12e356e",
   "metadata": {},
   "outputs": [
    {
     "data": {
      "text/plain": [
       "0    1\n",
       "1    2\n",
       "2    3\n",
       "3    4\n",
       "4    5\n",
       "dtype: int64"
      ]
     },
     "execution_count": 2,
     "metadata": {},
     "output_type": "execute_result"
    }
   ],
   "source": [
    "#crear una serie simple de datos\n",
    "numeros = pd.Series([1,2,3,4,5])\n",
    "numeros"
   ]
  },
  {
   "cell_type": "code",
   "execution_count": 6,
   "id": "b9a67f35-faf6-4c20-bc18-331786d176c9",
   "metadata": {},
   "outputs": [
    {
     "data": {
      "text/plain": [
       "a    1\n",
       "b    2\n",
       "c    3\n",
       "d    4\n",
       "e    5\n",
       "dtype: int64"
      ]
     },
     "execution_count": 6,
     "metadata": {},
     "output_type": "execute_result"
    }
   ],
   "source": [
    "#crear uan serie simple de datos modificando su index\n",
    "numeros = pd.Series([1,2,3,4,5], index=['a','b','c','d','e'])\n",
    "numeros"
   ]
  },
  {
   "cell_type": "code",
   "execution_count": 11,
   "id": "a9f00ca7-2edc-45f6-bf1f-24bc8d091598",
   "metadata": {},
   "outputs": [
    {
     "data": {
      "text/plain": [
       "a    1\n",
       "b    2\n",
       "c    3\n",
       "dtype: int64"
      ]
     },
     "execution_count": 11,
     "metadata": {},
     "output_type": "execute_result"
    }
   ],
   "source": [
    "#serie a partir de un diccionario \n",
    "datos = {'a': 1,'b': 2,'c': 3}\n",
    "series_dict = pd.Series(datos)\n",
    "series_dict"
   ]
  },
  {
   "cell_type": "code",
   "execution_count": 14,
   "id": "835087d7-353e-4c79-9805-630b0006e5c4",
   "metadata": {},
   "outputs": [
    {
     "data": {
      "text/plain": [
       "np.int64(3)"
      ]
     },
     "execution_count": 14,
     "metadata": {},
     "output_type": "execute_result"
    }
   ],
   "source": [
    "#consultar un dato en indice n\n",
    "numeros['c']"
   ]
  },
  {
   "cell_type": "code",
   "execution_count": 17,
   "id": "228f29f4-3b00-4f2a-8297-4342a0fb20d2",
   "metadata": {},
   "outputs": [
    {
     "data": {
      "text/plain": [
       "a    10\n",
       "b     2\n",
       "c     3\n",
       "d     4\n",
       "e     5\n",
       "dtype: int64"
      ]
     },
     "execution_count": 17,
     "metadata": {},
     "output_type": "execute_result"
    }
   ],
   "source": [
    "#cambiar un dato con su indice\n",
    "numeros['a']=10\n",
    "numeros"
   ]
  },
  {
   "cell_type": "code",
   "execution_count": 18,
   "id": "c8226823-118a-4a4d-bcbf-f49f062c985f",
   "metadata": {},
   "outputs": [
    {
     "data": {
      "text/plain": [
       "a    13\n",
       "b     5\n",
       "c     6\n",
       "d     7\n",
       "e     8\n",
       "dtype: int64"
      ]
     },
     "execution_count": 18,
     "metadata": {},
     "output_type": "execute_result"
    }
   ],
   "source": [
    "#desarrollo de operaciones matematicas\n",
    "numeros**2 #potencia a cada elemento\n",
    "numeros + 3 #sumar a cada elemento\n",
    "#aqui no altero los datos iniciales"
   ]
  },
  {
   "cell_type": "code",
   "execution_count": 20,
   "id": "6c856a52-059e-42d9-a02b-d7750f75c2bd",
   "metadata": {},
   "outputs": [
    {
     "name": "stdout",
     "output_type": "stream",
     "text": [
      "media  4.8\n",
      "sumatoria  24\n",
      "maximo  10\n",
      "minimp  2\n"
     ]
    }
   ],
   "source": [
    "#funciones estadisticas para aplicar a los datos\n",
    "a = numeros.mean() #sacar la media\n",
    "print(\"media \",a)\n",
    "a = numeros.sum() #sumatoria de los elementos\n",
    "print(\"sumatoria \",a)\n",
    "a = numeros.max() #maximo de los elementos\n",
    "print(\"maximo \",a)\n",
    "a = numeros.min() #minimo de los elementos\n",
    "print(\"minimp \",a)"
   ]
  },
  {
   "cell_type": "code",
   "execution_count": 22,
   "id": "26a92854-a5b8-46e1-938e-ac70ce9a4a51",
   "metadata": {},
   "outputs": [
    {
     "name": "stdout",
     "output_type": "stream",
     "text": [
      "menores\n",
      "  b    2\n",
      "dtype: int64\n",
      "mayores\n",
      "  a    10\n",
      "d     4\n",
      "e     5\n",
      "dtype: int64\n",
      "iguales\n",
      "  c    3\n",
      "dtype: int64\n",
      "distintos\n",
      "  a    10\n",
      "b     2\n",
      "d     4\n",
      "e     5\n",
      "dtype: int64\n"
     ]
    }
   ],
   "source": [
    "#condicionales \n",
    "##podemos poner condicionales mayor, menores, iguales o distintos de n elemento\n",
    "a=numeros[numeros<3]\n",
    "print(\"menores\\n \",a)\n",
    "a=numeros[numeros>3]\n",
    "print(\"mayores\\n \",a)\n",
    "a=numeros[numeros==3]\n",
    "print(\"iguales\\n \",a)\n",
    "a=numeros[numeros!=3]\n",
    "print(\"distintos\\n \",a)"
   ]
  },
  {
   "cell_type": "code",
   "execution_count": 23,
   "id": "51663097-fd3f-4d90-b357-a05b40a5a1f0",
   "metadata": {},
   "outputs": [
    {
     "data": {
      "text/plain": [
       "a    2.302585\n",
       "b    0.693147\n",
       "c    1.098612\n",
       "d    1.386294\n",
       "e    1.609438\n",
       "dtype: float64"
      ]
     },
     "execution_count": 23,
     "metadata": {},
     "output_type": "execute_result"
    }
   ],
   "source": [
    "#funcion apply\n",
    "#nos permite aplicar a los elementos funciones que querramos\n",
    "#ejemplo con logaritmo\n",
    "numeros.apply(np.log)"
   ]
  },
  {
   "cell_type": "code",
   "execution_count": 26,
   "id": "0e482825-6e8d-44c7-8b56-2ddc7f25738c",
   "metadata": {},
   "outputs": [
    {
     "data": {
      "text/html": [
       "<div>\n",
       "<style scoped>\n",
       "    .dataframe tbody tr th:only-of-type {\n",
       "        vertical-align: middle;\n",
       "    }\n",
       "\n",
       "    .dataframe tbody tr th {\n",
       "        vertical-align: top;\n",
       "    }\n",
       "\n",
       "    .dataframe thead th {\n",
       "        text-align: right;\n",
       "    }\n",
       "</style>\n",
       "<table border=\"1\" class=\"dataframe\">\n",
       "  <thead>\n",
       "    <tr style=\"text-align: right;\">\n",
       "      <th></th>\n",
       "      <th>Nombre</th>\n",
       "      <th>Edad</th>\n",
       "    </tr>\n",
       "  </thead>\n",
       "  <tbody>\n",
       "    <tr>\n",
       "      <th>0</th>\n",
       "      <td>Ana</td>\n",
       "      <td>25</td>\n",
       "    </tr>\n",
       "    <tr>\n",
       "      <th>1</th>\n",
       "      <td>Lola</td>\n",
       "      <td>30</td>\n",
       "    </tr>\n",
       "    <tr>\n",
       "      <th>2</th>\n",
       "      <td>Pedro</td>\n",
       "      <td>35</td>\n",
       "    </tr>\n",
       "  </tbody>\n",
       "</table>\n",
       "</div>"
      ],
      "text/plain": [
       "  Nombre  Edad\n",
       "0    Ana    25\n",
       "1   Lola    30\n",
       "2  Pedro    35"
      ]
     },
     "execution_count": 26,
     "metadata": {},
     "output_type": "execute_result"
    }
   ],
   "source": [
    "#combinacion de series\n",
    "#serie de nombres\n",
    "nombres = pd.Series([\"Ana\",\"Lola\",\"Pedro\"])\n",
    "#serie de edades\n",
    "edades = pd.Series([25,30,35])\n",
    "##constructor llamado data frame para unir las series\n",
    "df_personas = pd.DataFrame({\"Nombre\": nombres, \"Edad\": edades}) #argumentamos con un diccionario para implementar las series\n",
    "df_personas"
   ]
  },
  {
   "cell_type": "code",
   "execution_count": null,
   "id": "e5b4ba2e-a6df-4fc1-9300-c086adb6d975",
   "metadata": {},
   "outputs": [],
   "source": []
  }
 ],
 "metadata": {
  "kernelspec": {
   "display_name": "Python 3 (ipykernel)",
   "language": "python",
   "name": "python3"
  },
  "language_info": {
   "codemirror_mode": {
    "name": "ipython",
    "version": 3
   },
   "file_extension": ".py",
   "mimetype": "text/x-python",
   "name": "python",
   "nbconvert_exporter": "python",
   "pygments_lexer": "ipython3",
   "version": "3.13.2"
  }
 },
 "nbformat": 4,
 "nbformat_minor": 5
}
