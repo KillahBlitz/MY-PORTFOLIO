{
 "cells": [
  {
   "cell_type": "code",
   "execution_count": 1,
   "id": "17737ef5-e0bb-4d64-b38c-97bca3765dfc",
   "metadata": {},
   "outputs": [],
   "source": [
    "import pandas as pd"
   ]
  },
  {
   "cell_type": "code",
   "execution_count": 2,
   "id": "d18613a4-2af8-4e08-b657-c2054372682c",
   "metadata": {},
   "outputs": [
    {
     "data": {
      "text/html": [
       "<div>\n",
       "<style scoped>\n",
       "    .dataframe tbody tr th:only-of-type {\n",
       "        vertical-align: middle;\n",
       "    }\n",
       "\n",
       "    .dataframe tbody tr th {\n",
       "        vertical-align: top;\n",
       "    }\n",
       "\n",
       "    .dataframe thead th {\n",
       "        text-align: right;\n",
       "    }\n",
       "</style>\n",
       "<table border=\"1\" class=\"dataframe\">\n",
       "  <thead>\n",
       "    <tr style=\"text-align: right;\">\n",
       "      <th></th>\n",
       "      <th>A</th>\n",
       "      <th>B</th>\n",
       "      <th>C</th>\n",
       "    </tr>\n",
       "  </thead>\n",
       "  <tbody>\n",
       "    <tr>\n",
       "      <th>0</th>\n",
       "      <td>1.0</td>\n",
       "      <td>NaN</td>\n",
       "      <td>1.0</td>\n",
       "    </tr>\n",
       "    <tr>\n",
       "      <th>1</th>\n",
       "      <td>2.0</td>\n",
       "      <td>2.0</td>\n",
       "      <td>2.0</td>\n",
       "    </tr>\n",
       "    <tr>\n",
       "      <th>2</th>\n",
       "      <td>NaN</td>\n",
       "      <td>3.0</td>\n",
       "      <td>3.0</td>\n",
       "    </tr>\n",
       "    <tr>\n",
       "      <th>3</th>\n",
       "      <td>4.0</td>\n",
       "      <td>4.0</td>\n",
       "      <td>NaN</td>\n",
       "    </tr>\n",
       "    <tr>\n",
       "      <th>4</th>\n",
       "      <td>5.0</td>\n",
       "      <td>NaN</td>\n",
       "      <td>5.0</td>\n",
       "    </tr>\n",
       "  </tbody>\n",
       "</table>\n",
       "</div>"
      ],
      "text/plain": [
       "     A    B    C\n",
       "0  1.0  NaN  1.0\n",
       "1  2.0  2.0  2.0\n",
       "2  NaN  3.0  3.0\n",
       "3  4.0  4.0  NaN\n",
       "4  5.0  NaN  5.0"
      ]
     },
     "execution_count": 2,
     "metadata": {},
     "output_type": "execute_result"
    }
   ],
   "source": [
    "#Definicion del data frame\n",
    "\n",
    "data = {\n",
    "    \"A\": [1,2,None,4,5],\n",
    "    \"B\": [None,2,3,4,None],\n",
    "    \"C\": [1,2,3,None,5]\n",
    "}\n",
    "\n",
    "df = pd.DataFrame(data)\n",
    "df"
   ]
  },
  {
   "cell_type": "code",
   "execution_count": 3,
   "id": "b5a929f2-aeb6-4115-a076-4d8d0e999986",
   "metadata": {},
   "outputs": [
    {
     "name": "stdout",
     "output_type": "stream",
     "text": [
      "Numero de valores faltantes por columna:\n",
      " A    1\n",
      "B    2\n",
      "C    1\n",
      "dtype: int64\n"
     ]
    }
   ],
   "source": [
    "#conteo de datos faltantes por columnas\n",
    "faltantes_columna = df.isnull().sum()\n",
    "print(\"Numero de valores faltantes por columna:\\n\", faltantes_columna)"
   ]
  },
  {
   "cell_type": "code",
   "execution_count": 7,
   "id": "67c764e0-5e02-4157-ae59-d217595bb186",
   "metadata": {},
   "outputs": [
    {
     "name": "stdout",
     "output_type": "stream",
     "text": [
      "DataFrame sin filas con valors faltantes:\n",
      "      A    B    C\n",
      "1  2.0  2.0  2.0\n",
      "DataFrame sin columnas con valores faltantes:\n",
      " Empty DataFrame\n",
      "Columns: []\n",
      "Index: [0, 1, 2, 3, 4]\n"
     ]
    }
   ],
   "source": [
    "#eliminacion de datos con dropna\n",
    "#este metodo es agresivo porque elimina toda la fila en donde encuentra la NaN\n",
    "df_sin_filas_faltantes = df.dropna()\n",
    "print(\"DataFrame sin filas con valors faltantes:\\n\", df_sin_filas_faltantes)\n",
    "\n",
    "#eliminacion por columnas\n",
    "df_sin_columnas_faltantes = df.dropna(axis=1)\n",
    "print(\"DataFrame sin columnas con valores faltantes:\\n\", df_sin_columnas_faltantes)"
   ]
  },
  {
   "cell_type": "code",
   "execution_count": 13,
   "id": "b739d54c-6e01-48b9-99ba-bc6395b80c2f",
   "metadata": {},
   "outputs": [
    {
     "name": "stdout",
     "output_type": "stream",
     "text": [
      "DataFrame con valores faltantes rellenados con 0:\n",
      "      A    B    C\n",
      "0  1.0  0.0  1.0\n",
      "1  2.0  2.0  2.0\n",
      "2  0.0  3.0  3.0\n",
      "3  4.0  4.0  0.0\n",
      "4  5.0  0.0  5.0\n"
     ]
    }
   ],
   "source": [
    "#rellenar datos faltantes con valor predeterminado\n",
    "#funciona igual para columnas\n",
    "df_rellenado = df.fillna(0)\n",
    "print(\"DataFrame con valores faltantes rellenados con 0:\\n\", df_rellenado)\n",
    "#rellenado con la media\n",
    "df_rellenado = df.fillna(df.mean())"
   ]
  },
  {
   "cell_type": "code",
   "execution_count": 15,
   "id": "8dc3e207-d8e5-45ca-940a-ea53fe8de52f",
   "metadata": {},
   "outputs": [
    {
     "name": "stdout",
     "output_type": "stream",
     "text": [
      "DataFrame con valores faltantes rellenados con el valor anterior:\n",
      "      A    B    C\n",
      "0  1.0  NaN  1.0\n",
      "1  2.0  2.0  2.0\n",
      "2  2.0  3.0  3.0\n",
      "3  4.0  4.0  3.0\n",
      "4  5.0  4.0  5.0\n",
      "DataFrame con valores faltantes rellenados con el valor siguiente:\n",
      "      A    B    C\n",
      "0  1.0  2.0  1.0\n",
      "1  2.0  2.0  2.0\n",
      "2  4.0  3.0  3.0\n",
      "3  4.0  4.0  5.0\n",
      "4  5.0  NaN  5.0\n"
     ]
    },
    {
     "name": "stderr",
     "output_type": "stream",
     "text": [
      "C:\\Users\\fach7\\AppData\\Local\\Temp\\ipykernel_14800\\206032338.py:4: FutureWarning: DataFrame.fillna with 'method' is deprecated and will raise in a future version. Use obj.ffill() or obj.bfill() instead.\n",
      "  df_rellenado_ffill = df.fillna(method=\"ffill\")\n",
      "C:\\Users\\fach7\\AppData\\Local\\Temp\\ipykernel_14800\\206032338.py:6: FutureWarning: DataFrame.fillna with 'method' is deprecated and will raise in a future version. Use obj.ffill() or obj.bfill() instead.\n",
      "  df_rellenado_bfill = df.fillna(method=\"bfill\")\n"
     ]
    }
   ],
   "source": [
    "#uso de metodos respecto a un valor especifico\n",
    "#es decir, dentro del metodo hay casos para hacer x algoritmo \n",
    "#lo podemos poner en el argumento \n",
    "df_rellenado_ffill = df.fillna(method=\"ffill\")\n",
    "print(\"DataFrame con valores faltantes rellenados con el valor anterior:\\n\", df_rellenado_ffill)\n",
    "df_rellenado_bfill = df.fillna(method=\"bfill\")\n",
    "print(\"DataFrame con valores faltantes rellenados con el valor siguiente:\\n\", df_rellenado_bfill)"
   ]
  },
  {
   "cell_type": "code",
   "execution_count": null,
   "id": "c7e9608e-a46c-4616-a3ae-34ea49f45fcc",
   "metadata": {},
   "outputs": [],
   "source": []
  }
 ],
 "metadata": {
  "kernelspec": {
   "display_name": "Python 3 (ipykernel)",
   "language": "python",
   "name": "python3"
  },
  "language_info": {
   "codemirror_mode": {
    "name": "ipython",
    "version": 3
   },
   "file_extension": ".py",
   "mimetype": "text/x-python",
   "name": "python",
   "nbconvert_exporter": "python",
   "pygments_lexer": "ipython3",
   "version": "3.13.2"
  }
 },
 "nbformat": 4,
 "nbformat_minor": 5
}
