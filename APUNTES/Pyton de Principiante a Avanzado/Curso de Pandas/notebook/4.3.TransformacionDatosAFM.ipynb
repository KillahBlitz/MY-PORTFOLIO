{
 "cells": [
  {
   "cell_type": "code",
   "execution_count": 1,
   "id": "10183ceb-c0e2-410e-820a-5b77e5afb21a",
   "metadata": {},
   "outputs": [],
   "source": [
    "import pandas as pd"
   ]
  },
  {
   "cell_type": "code",
   "execution_count": 2,
   "id": "3a0b352b-b7d7-4ab2-8193-934f10b4ff6d",
   "metadata": {},
   "outputs": [
    {
     "name": "stdout",
     "output_type": "stream",
     "text": [
      "DataFrame Original:\n",
      "   Empleado  Salario  Anios_Experiencia\n",
      "0     Juan    50000                  5\n",
      "1      Ana    60000                  7\n",
      "2    Pedro    55000                  6\n",
      "3     Luis    58000                  8\n",
      "4    Maria    62000                  9\n"
     ]
    }
   ],
   "source": [
    "data = {\n",
    "    'Empleado': ['Juan','Ana','Pedro','Luis','Maria'],\n",
    "    'Salario': [50000, 60000, 55000, 58000, 62000],\n",
    "    'Anios_Experiencia': [5,7,6,8,9]\n",
    "}\n",
    "df = pd.DataFrame(data)\n",
    "print(\"DataFrame Original:\\n\", df)"
   ]
  },
  {
   "cell_type": "code",
   "execution_count": 3,
   "id": "e2f05c05-61a9-4112-bf61-9fe89051f444",
   "metadata": {},
   "outputs": [
    {
     "name": "stdout",
     "output_type": "stream",
     "text": [
      "DataFrame con salario ajustado:\n",
      "   Empleado  Salario  Anios_Experiencia  Salario_Ajustado\n",
      "0     Juan    50000                  5           62500.0\n",
      "1      Ana    60000                  7           81000.0\n",
      "2    Pedro    55000                  6           71500.0\n",
      "3     Luis    58000                  8           81200.0\n",
      "4    Maria    62000                  9           89900.0\n"
     ]
    }
   ],
   "source": [
    "#realizar un ajuste de salarios con una funcion \n",
    "def calcular_salario_ajustado(row):\n",
    "    salario = row['Salario']\n",
    "    anios_experiencia = row['Anios_Experiencia']\n",
    "    bono = 0.05 * anios_experiencia * salario\n",
    "    salario_ajustado = salario + bono\n",
    "    return salario_ajustado\n",
    "\n",
    "df['Salario_Ajustado'] = df.apply(calcular_salario_ajustado, axis=1)\n",
    "print(\"DataFrame con salario ajustado:\\n\", df)"
   ]
  },
  {
   "cell_type": "code",
   "execution_count": 5,
   "id": "667b2211-e325-478e-a615-7781f97ae304",
   "metadata": {},
   "outputs": [
    {
     "name": "stdout",
     "output_type": "stream",
     "text": [
      "DataFrame con salarios y anios de experiencia normalizados:\n",
      "   Empleado  Salario  Anios_Experiencia  Salario_Ajustado  Salario_Normalizado  \\\n",
      "0     Juan    50000                  5           62500.0            -1.492405   \n",
      "1      Ana    60000                  7           81000.0             0.639602   \n",
      "2    Pedro    55000                  6           71500.0            -0.426401   \n",
      "3     Luis    58000                  8           81200.0             0.213201   \n",
      "4    Maria    62000                  9           89900.0             1.066004   \n",
      "\n",
      "   Anios_Experiencia_Normalizado  \n",
      "0                      -1.264911  \n",
      "1                       0.000000  \n",
      "2                      -0.632456  \n",
      "3                       0.632456  \n",
      "4                       1.264911  \n"
     ]
    }
   ],
   "source": [
    "#normalizar columnas\n",
    "def normalizar(serie):\n",
    "    return (serie - serie.mean()) / serie.std()\n",
    "\n",
    "df[['Salario_Normalizado', 'Anios_Experiencia_Normalizado']] = df[['Salario', 'Anios_Experiencia']].apply(normalizar)\n",
    "print(\"DataFrame con salarios y anios de experiencia normalizados:\\n\", df)"
   ]
  },
  {
   "cell_type": "code",
   "execution_count": 6,
   "id": "5985c445-fb82-4158-84b0-bc030069cf1b",
   "metadata": {},
   "outputs": [
    {
     "name": "stdout",
     "output_type": "stream",
     "text": [
      "DataFrame con categoria de salario:\n",
      "   Empleado  Salario  Anios_Experiencia  Salario_Ajustado  Salario_Normalizado  \\\n",
      "0     Juan    50000                  5           62500.0            -1.492405   \n",
      "1      Ana    60000                  7           81000.0             0.639602   \n",
      "2    Pedro    55000                  6           71500.0            -0.426401   \n",
      "3     Luis    58000                  8           81200.0             0.213201   \n",
      "4    Maria    62000                  9           89900.0             1.066004   \n",
      "\n",
      "   Anios_Experiencia_Normalizado Categoria_Salario  \n",
      "0                      -1.264911              Bajo  \n",
      "1                       0.000000             Medio  \n",
      "2                      -0.632456              Bajo  \n",
      "3                       0.632456             Medio  \n",
      "4                       1.264911              Alto  \n"
     ]
    }
   ],
   "source": [
    "#categorizacion de salarios\n",
    "def categorizar_salario(salario):\n",
    "    if salario > 60000:\n",
    "        return 'Alto'\n",
    "    elif salario > 55000:\n",
    "        return 'Medio'\n",
    "    else:\n",
    "        return 'Bajo'\n",
    "\n",
    "df['Categoria_Salario'] = df['Salario'].map(categorizar_salario)\n",
    "print(\"DataFrame con categoria de salario:\\n\", df)"
   ]
  },
  {
   "cell_type": "code",
   "execution_count": 7,
   "id": "35972472-6975-42a7-a62b-a5ca87fb983b",
   "metadata": {},
   "outputs": [
    {
     "data": {
      "text/html": [
       "<div>\n",
       "<style scoped>\n",
       "    .dataframe tbody tr th:only-of-type {\n",
       "        vertical-align: middle;\n",
       "    }\n",
       "\n",
       "    .dataframe tbody tr th {\n",
       "        vertical-align: top;\n",
       "    }\n",
       "\n",
       "    .dataframe thead th {\n",
       "        text-align: right;\n",
       "    }\n",
       "</style>\n",
       "<table border=\"1\" class=\"dataframe\">\n",
       "  <thead>\n",
       "    <tr style=\"text-align: right;\">\n",
       "      <th></th>\n",
       "      <th>Empleado</th>\n",
       "      <th>Salario</th>\n",
       "      <th>Anios_Experiencia</th>\n",
       "      <th>Salario_Ajustado</th>\n",
       "      <th>Salario_Normalizado</th>\n",
       "      <th>Anios_Experiencia_Normalizado</th>\n",
       "      <th>Categoria_Salario</th>\n",
       "    </tr>\n",
       "  </thead>\n",
       "  <tbody>\n",
       "    <tr>\n",
       "      <th>0</th>\n",
       "      <td>Juan</td>\n",
       "      <td>50000</td>\n",
       "      <td>5</td>\n",
       "      <td>62500.0</td>\n",
       "      <td>-1.492405</td>\n",
       "      <td>-1.264911</td>\n",
       "      <td>Bajo</td>\n",
       "    </tr>\n",
       "    <tr>\n",
       "      <th>1</th>\n",
       "      <td>Ana</td>\n",
       "      <td>60000</td>\n",
       "      <td>7</td>\n",
       "      <td>81000.0</td>\n",
       "      <td>0.639602</td>\n",
       "      <td>0.000000</td>\n",
       "      <td>Medio</td>\n",
       "    </tr>\n",
       "    <tr>\n",
       "      <th>2</th>\n",
       "      <td>Pedro</td>\n",
       "      <td>55000</td>\n",
       "      <td>6</td>\n",
       "      <td>71500.0</td>\n",
       "      <td>-0.426401</td>\n",
       "      <td>-0.632456</td>\n",
       "      <td>Bajo</td>\n",
       "    </tr>\n",
       "    <tr>\n",
       "      <th>3</th>\n",
       "      <td>Luis</td>\n",
       "      <td>58000</td>\n",
       "      <td>8</td>\n",
       "      <td>81200.0</td>\n",
       "      <td>0.213201</td>\n",
       "      <td>0.632456</td>\n",
       "      <td>Medio</td>\n",
       "    </tr>\n",
       "    <tr>\n",
       "      <th>4</th>\n",
       "      <td>Maria</td>\n",
       "      <td>62000</td>\n",
       "      <td>9</td>\n",
       "      <td>89900.0</td>\n",
       "      <td>1.066004</td>\n",
       "      <td>1.264911</td>\n",
       "      <td>Alto</td>\n",
       "    </tr>\n",
       "  </tbody>\n",
       "</table>\n",
       "</div>"
      ],
      "text/plain": [
       "  Empleado  Salario  Anios_Experiencia  Salario_Ajustado  Salario_Normalizado  \\\n",
       "0     Juan    50000                  5           62500.0            -1.492405   \n",
       "1      Ana    60000                  7           81000.0             0.639602   \n",
       "2    Pedro    55000                  6           71500.0            -0.426401   \n",
       "3     Luis    58000                  8           81200.0             0.213201   \n",
       "4    Maria    62000                  9           89900.0             1.066004   \n",
       "\n",
       "   Anios_Experiencia_Normalizado Categoria_Salario  \n",
       "0                      -1.264911              Bajo  \n",
       "1                       0.000000             Medio  \n",
       "2                      -0.632456              Bajo  \n",
       "3                       0.632456             Medio  \n",
       "4                       1.264911              Alto  "
      ]
     },
     "execution_count": 7,
     "metadata": {},
     "output_type": "execute_result"
    }
   ],
   "source": [
    "df"
   ]
  },
  {
   "cell_type": "code",
   "execution_count": 16,
   "id": "57d66f00-d0e2-42f3-a121-b04c6650de09",
   "metadata": {},
   "outputs": [
    {
     "name": "stderr",
     "output_type": "stream",
     "text": [
      "C:\\Users\\fach7\\AppData\\Local\\Temp\\ipykernel_6488\\2876367261.py:11: FutureWarning: DataFrame.applymap has been deprecated. Use DataFrame.map instead.\n",
      "  df_formateado = df.applymap(formatear_valor)\n"
     ]
    },
    {
     "data": {
      "text/html": [
       "<div>\n",
       "<style scoped>\n",
       "    .dataframe tbody tr th:only-of-type {\n",
       "        vertical-align: middle;\n",
       "    }\n",
       "\n",
       "    .dataframe tbody tr th {\n",
       "        vertical-align: top;\n",
       "    }\n",
       "\n",
       "    .dataframe thead th {\n",
       "        text-align: right;\n",
       "    }\n",
       "</style>\n",
       "<table border=\"1\" class=\"dataframe\">\n",
       "  <thead>\n",
       "    <tr style=\"text-align: right;\">\n",
       "      <th></th>\n",
       "      <th>Empleado</th>\n",
       "      <th>Salario</th>\n",
       "      <th>Anios_Experiencia</th>\n",
       "      <th>Salario_Ajustado</th>\n",
       "      <th>Salario_Normalizado</th>\n",
       "      <th>Anios_Experiencia_Normalizado</th>\n",
       "      <th>Categoria_Salario</th>\n",
       "    </tr>\n",
       "  </thead>\n",
       "  <tbody>\n",
       "    <tr>\n",
       "      <th>0</th>\n",
       "      <td>Juan</td>\n",
       "      <td>$50,000.00</td>\n",
       "      <td>$5.00</td>\n",
       "      <td>$62,500.00</td>\n",
       "      <td>$-1.49</td>\n",
       "      <td>$-1.26</td>\n",
       "      <td>Bajo</td>\n",
       "    </tr>\n",
       "    <tr>\n",
       "      <th>1</th>\n",
       "      <td>Ana</td>\n",
       "      <td>$60,000.00</td>\n",
       "      <td>$7.00</td>\n",
       "      <td>$81,000.00</td>\n",
       "      <td>$0.64</td>\n",
       "      <td>$0.00</td>\n",
       "      <td>Medio</td>\n",
       "    </tr>\n",
       "    <tr>\n",
       "      <th>2</th>\n",
       "      <td>Pedro</td>\n",
       "      <td>$55,000.00</td>\n",
       "      <td>$6.00</td>\n",
       "      <td>$71,500.00</td>\n",
       "      <td>$-0.43</td>\n",
       "      <td>$-0.63</td>\n",
       "      <td>Bajo</td>\n",
       "    </tr>\n",
       "    <tr>\n",
       "      <th>3</th>\n",
       "      <td>Luis</td>\n",
       "      <td>$58,000.00</td>\n",
       "      <td>$8.00</td>\n",
       "      <td>$81,200.00</td>\n",
       "      <td>$0.21</td>\n",
       "      <td>$0.63</td>\n",
       "      <td>Medio</td>\n",
       "    </tr>\n",
       "    <tr>\n",
       "      <th>4</th>\n",
       "      <td>Maria</td>\n",
       "      <td>$62,000.00</td>\n",
       "      <td>$9.00</td>\n",
       "      <td>$89,900.00</td>\n",
       "      <td>$1.07</td>\n",
       "      <td>$1.26</td>\n",
       "      <td>Alto</td>\n",
       "    </tr>\n",
       "  </tbody>\n",
       "</table>\n",
       "</div>"
      ],
      "text/plain": [
       "  Empleado     Salario Anios_Experiencia Salario_Ajustado Salario_Normalizado  \\\n",
       "0     Juan  $50,000.00             $5.00       $62,500.00              $-1.49   \n",
       "1      Ana  $60,000.00             $7.00       $81,000.00               $0.64   \n",
       "2    Pedro  $55,000.00             $6.00       $71,500.00              $-0.43   \n",
       "3     Luis  $58,000.00             $8.00       $81,200.00               $0.21   \n",
       "4    Maria  $62,000.00             $9.00       $89,900.00               $1.07   \n",
       "\n",
       "  Anios_Experiencia_Normalizado Categoria_Salario  \n",
       "0                        $-1.26              Bajo  \n",
       "1                         $0.00             Medio  \n",
       "2                        $-0.63              Bajo  \n",
       "3                         $0.63             Medio  \n",
       "4                         $1.26              Alto  "
      ]
     },
     "execution_count": 16,
     "metadata": {},
     "output_type": "execute_result"
    }
   ],
   "source": [
    "# Función para formatear un valor numérico en formato monetario\n",
    "def formatear_valor(x):\n",
    "    # Verificamos si el valor ingresado es un número (entero o decimal)\n",
    "    if isinstance(x, (int, float)):\n",
    "        # Si es un número, lo devolvemos como cadena con formato monetario:\n",
    "        # - $ al inicio - Comas como separadores de miles - Dos decimales\n",
    "        return f\"${x:,.2f}\"\n",
    "     # Si no es un número, simplemente devolvemos el valor original sin cambios\n",
    "    return x\n",
    "# Llamada a la función con un número decimal\n",
    "df_formateado = df.applymap(formatear_valor)\n",
    "df_formateado"
   ]
  },
  {
   "cell_type": "code",
   "execution_count": null,
   "id": "87a22f40-44bf-470f-91b4-33a632a66a25",
   "metadata": {},
   "outputs": [],
   "source": []
  }
 ],
 "metadata": {
  "kernelspec": {
   "display_name": "Python 3 (ipykernel)",
   "language": "python",
   "name": "python3"
  },
  "language_info": {
   "codemirror_mode": {
    "name": "ipython",
    "version": 3
   },
   "file_extension": ".py",
   "mimetype": "text/x-python",
   "name": "python",
   "nbconvert_exporter": "python",
   "pygments_lexer": "ipython3",
   "version": "3.13.3"
  }
 },
 "nbformat": 4,
 "nbformat_minor": 5
}
