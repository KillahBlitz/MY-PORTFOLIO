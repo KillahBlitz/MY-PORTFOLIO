{
 "cells": [
  {
   "cell_type": "code",
   "execution_count": 1,
   "id": "0aefacd8-d61d-46b0-8f0f-04bc5fda2678",
   "metadata": {},
   "outputs": [],
   "source": [
    "import pandas as pd"
   ]
  },
  {
   "cell_type": "code",
   "execution_count": 2,
   "id": "b42af5a9-d7b8-40c5-a9ed-ab15a65adfca",
   "metadata": {},
   "outputs": [],
   "source": [
    "#La correlacion mide la relacion entre dos variables\n",
    "#distintas definiciones pero va en si sobre 2 valores\n",
    "#mide la relacion lineal entre dos variables. Los valores pueden variar entre -1 y 1\n",
    "#Pearson: 1 indica una correlacion lineal positiva perfecta. -1 indica una correlacion lineal negativa perfecta\n",
    "#0 indica que no hay correlacion lineal\n",
    "#Kendall: 1 indica una concordancia perfecta. -1 indica una correlacion lineal negativa perfecta\n",
    "#0 indica que no hay correlacion lineal\n",
    "#Spearman: 1 indica una correlacion monotona positiva perfecta. -1 indica una correlacion monotona\n",
    "#negativa perfecta. 0 indica que no hay correlacion monotona\n",
    "\n",
    "#covarianza\n",
    "#la covarianza mide la relacion conjunta entre dos variables, similar a la correlacion pero no esta \n",
    "#normalizada, los valores de covarianza pueden ser cualquier numero real\n",
    "\n",
    "#valores positivos indican que las variables tienden a aumentar juntas\n",
    "#valores negativos indican que cuando una variable aumenta, la otra tiende a disminuir"
   ]
  },
  {
   "cell_type": "code",
   "execution_count": 10,
   "id": "0e597a28-2c19-4556-9517-d14e49a66f87",
   "metadata": {},
   "outputs": [
    {
     "data": {
      "text/html": [
       "<div>\n",
       "<style scoped>\n",
       "    .dataframe tbody tr th:only-of-type {\n",
       "        vertical-align: middle;\n",
       "    }\n",
       "\n",
       "    .dataframe tbody tr th {\n",
       "        vertical-align: top;\n",
       "    }\n",
       "\n",
       "    .dataframe thead th {\n",
       "        text-align: right;\n",
       "    }\n",
       "</style>\n",
       "<table border=\"1\" class=\"dataframe\">\n",
       "  <thead>\n",
       "    <tr style=\"text-align: right;\">\n",
       "      <th></th>\n",
       "      <th>A</th>\n",
       "      <th>B</th>\n",
       "      <th>C</th>\n",
       "    </tr>\n",
       "  </thead>\n",
       "  <tbody>\n",
       "    <tr>\n",
       "      <th>0</th>\n",
       "      <td>1</td>\n",
       "      <td>5</td>\n",
       "      <td>2</td>\n",
       "    </tr>\n",
       "    <tr>\n",
       "      <th>1</th>\n",
       "      <td>2</td>\n",
       "      <td>4</td>\n",
       "      <td>3</td>\n",
       "    </tr>\n",
       "    <tr>\n",
       "      <th>2</th>\n",
       "      <td>3</td>\n",
       "      <td>3</td>\n",
       "      <td>4</td>\n",
       "    </tr>\n",
       "    <tr>\n",
       "      <th>3</th>\n",
       "      <td>4</td>\n",
       "      <td>2</td>\n",
       "      <td>5</td>\n",
       "    </tr>\n",
       "    <tr>\n",
       "      <th>4</th>\n",
       "      <td>5</td>\n",
       "      <td>1</td>\n",
       "      <td>6</td>\n",
       "    </tr>\n",
       "  </tbody>\n",
       "</table>\n",
       "</div>"
      ],
      "text/plain": [
       "   A  B  C\n",
       "0  1  5  2\n",
       "1  2  4  3\n",
       "2  3  3  4\n",
       "3  4  2  5\n",
       "4  5  1  6"
      ]
     },
     "execution_count": 10,
     "metadata": {},
     "output_type": "execute_result"
    }
   ],
   "source": [
    "#definicion de los datos\n",
    "data = {\n",
    "    \"A\": [1,2,3,4,5],\n",
    "    \"B\": [5,4,3,2,1],\n",
    "    \"C\": [2,3,4,5,6]\n",
    "}\n",
    "\n",
    "df = pd.DataFrame(data)\n",
    "df"
   ]
  },
  {
   "cell_type": "code",
   "execution_count": 24,
   "id": "7defc105-53c9-445c-9758-2c428bd85d00",
   "metadata": {},
   "outputs": [
    {
     "name": "stdout",
     "output_type": "stream",
     "text": [
      "Correlacion de Pearson:\n",
      "      A    B    C\n",
      "A  1.0 -1.0  1.0\n",
      "B -1.0  1.0 -1.0\n",
      "C  1.0 -1.0  1.0\n",
      "Correlacion de kendall:\n",
      "      A    B    C\n",
      "A  1.0 -1.0  1.0\n",
      "B -1.0  1.0 -1.0\n",
      "C  1.0 -1.0  1.0\n",
      "Correlacion de spearman:\n",
      "      A    B    C\n",
      "A  1.0 -1.0  1.0\n",
      "B -1.0  1.0 -1.0\n",
      "C  1.0 -1.0  1.0\n"
     ]
    }
   ],
   "source": [
    "#correlacion de pearson\n",
    "correlacion_pearson = df.corr(method=\"pearson\")\n",
    "print(\"Correlacion de Pearson:\\n\", correlacion_pearson)\n",
    "#correlacion de kendall\n",
    "correlacion_kendall = df.corr(method=\"kendall\")\n",
    "print(\"Correlacion de kendall:\\n\", correlacion_kendall)\n",
    "#correlacion de Spearman\n",
    "correlacion_spearman = df.corr(method=\"spearman\")\n",
    "print(\"Correlacion de spearman:\\n\", correlacion_spearman)"
   ]
  },
  {
   "cell_type": "code",
   "execution_count": 25,
   "id": "5532703f-3a74-469a-bc6c-a12490b11607",
   "metadata": {},
   "outputs": [
    {
     "name": "stdout",
     "output_type": "stream",
     "text": [
      "Covarianza:\n",
      "      A    B    C\n",
      "A  2.5 -2.5  2.5\n",
      "B -2.5  2.5 -2.5\n",
      "C  2.5 -2.5  2.5\n"
     ]
    }
   ],
   "source": [
    "#covarianza\n",
    "covarianza = df.cov()\n",
    "print(\"Covarianza:\\n\", covarianza)"
   ]
  },
  {
   "cell_type": "code",
   "execution_count": null,
   "id": "d21c9bcf-bc34-49f8-8ada-55bba39f717a",
   "metadata": {},
   "outputs": [],
   "source": []
  }
 ],
 "metadata": {
  "kernelspec": {
   "display_name": "Python 3 (ipykernel)",
   "language": "python",
   "name": "python3"
  },
  "language_info": {
   "codemirror_mode": {
    "name": "ipython",
    "version": 3
   },
   "file_extension": ".py",
   "mimetype": "text/x-python",
   "name": "python",
   "nbconvert_exporter": "python",
   "pygments_lexer": "ipython3",
   "version": "3.13.2"
  }
 },
 "nbformat": 4,
 "nbformat_minor": 5
}
