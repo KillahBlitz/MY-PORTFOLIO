{
 "cells": [
  {
   "cell_type": "code",
   "execution_count": null,
   "id": "82674ac2-e18a-4637-b104-d0bb5aa47811",
   "metadata": {},
   "outputs": [],
   "source": [
    "## Compresión de Archivos CSV\n",
    "df.to_csv('datos.csv.gz', compression='gzip', index=False)\n",
    "df.to_csv('datos.csv.bz2', compression='bz2', index=False)\n",
    "\n",
    "## Compresión en Formato Parquet\n",
    "\n",
    "df.to_parquet('datos.parquet', compression='snappy')\n",
    "df.to_parquet('datos_gzip.parquet', compression='gzip')\n",
    "\n",
    "##  Almacenamiento Eficiente usando HDF5\n",
    "\n",
    "df.to_hdf('datos_comprimidos.h5', key='df', mode='w', complevel=9, complib='zlib')\n"
   ]
  }
 ],
 "metadata": {
  "kernelspec": {
   "display_name": "env_curso",
   "language": "python",
   "name": "env"
  },
  "language_info": {
   "codemirror_mode": {
    "name": "ipython",
    "version": 3
   },
   "file_extension": ".py",
   "mimetype": "text/x-python",
   "name": "python",
   "nbconvert_exporter": "python",
   "pygments_lexer": "ipython3",
   "version": "3.12.4"
  }
 },
 "nbformat": 4,
 "nbformat_minor": 5
}
