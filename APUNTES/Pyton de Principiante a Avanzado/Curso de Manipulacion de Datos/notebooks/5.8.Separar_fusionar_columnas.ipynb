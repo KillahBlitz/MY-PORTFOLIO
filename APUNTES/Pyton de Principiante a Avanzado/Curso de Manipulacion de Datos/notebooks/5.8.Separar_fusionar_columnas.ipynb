{
 "cells": [
  {
   "cell_type": "code",
   "execution_count": 1,
   "id": "c2f77476-06a0-416a-8a68-f8cd20253d1c",
   "metadata": {},
   "outputs": [],
   "source": [
    "import pandas as pd"
   ]
  },
  {
   "cell_type": "code",
   "execution_count": 2,
   "id": "6ca36c63-57a4-472f-9e59-8d441e12051b",
   "metadata": {},
   "outputs": [
    {
     "data": {
      "text/html": [
       "<div>\n",
       "<style scoped>\n",
       "    .dataframe tbody tr th:only-of-type {\n",
       "        vertical-align: middle;\n",
       "    }\n",
       "\n",
       "    .dataframe tbody tr th {\n",
       "        vertical-align: top;\n",
       "    }\n",
       "\n",
       "    .dataframe thead th {\n",
       "        text-align: right;\n",
       "    }\n",
       "</style>\n",
       "<table border=\"1\" class=\"dataframe\">\n",
       "  <thead>\n",
       "    <tr style=\"text-align: right;\">\n",
       "      <th></th>\n",
       "      <th>Nombre_Completo</th>\n",
       "    </tr>\n",
       "  </thead>\n",
       "  <tbody>\n",
       "    <tr>\n",
       "      <th>0</th>\n",
       "      <td>Juan Perez</td>\n",
       "    </tr>\n",
       "    <tr>\n",
       "      <th>1</th>\n",
       "      <td>Maria Gomez</td>\n",
       "    </tr>\n",
       "    <tr>\n",
       "      <th>2</th>\n",
       "      <td>Luis Martinez</td>\n",
       "    </tr>\n",
       "  </tbody>\n",
       "</table>\n",
       "</div>"
      ],
      "text/plain": [
       "  Nombre_Completo\n",
       "0      Juan Perez\n",
       "1     Maria Gomez\n",
       "2   Luis Martinez"
      ]
     },
     "metadata": {},
     "output_type": "display_data"
    }
   ],
   "source": [
    "data = {\n",
    "    'Nombre_Completo': ['Juan Perez', 'Maria Gomez', 'Luis Martinez']\n",
    "}\n",
    "\n",
    "df = pd.DataFrame(data)\n",
    "display(df)"
   ]
  },
  {
   "cell_type": "code",
   "execution_count": 3,
   "id": "337bde2d-c837-4497-ac56-7c0a1ac6b718",
   "metadata": {},
   "outputs": [
    {
     "data": {
      "text/html": [
       "<div>\n",
       "<style scoped>\n",
       "    .dataframe tbody tr th:only-of-type {\n",
       "        vertical-align: middle;\n",
       "    }\n",
       "\n",
       "    .dataframe tbody tr th {\n",
       "        vertical-align: top;\n",
       "    }\n",
       "\n",
       "    .dataframe thead th {\n",
       "        text-align: right;\n",
       "    }\n",
       "</style>\n",
       "<table border=\"1\" class=\"dataframe\">\n",
       "  <thead>\n",
       "    <tr style=\"text-align: right;\">\n",
       "      <th></th>\n",
       "      <th>Nombre_Completo</th>\n",
       "      <th>Nombre</th>\n",
       "      <th>Apellido</th>\n",
       "    </tr>\n",
       "  </thead>\n",
       "  <tbody>\n",
       "    <tr>\n",
       "      <th>0</th>\n",
       "      <td>Juan Perez</td>\n",
       "      <td>Juan</td>\n",
       "      <td>Perez</td>\n",
       "    </tr>\n",
       "    <tr>\n",
       "      <th>1</th>\n",
       "      <td>Maria Gomez</td>\n",
       "      <td>Maria</td>\n",
       "      <td>Gomez</td>\n",
       "    </tr>\n",
       "    <tr>\n",
       "      <th>2</th>\n",
       "      <td>Luis Martinez</td>\n",
       "      <td>Luis</td>\n",
       "      <td>Martinez</td>\n",
       "    </tr>\n",
       "  </tbody>\n",
       "</table>\n",
       "</div>"
      ],
      "text/plain": [
       "  Nombre_Completo Nombre  Apellido\n",
       "0      Juan Perez   Juan     Perez\n",
       "1     Maria Gomez  Maria     Gomez\n",
       "2   Luis Martinez   Luis  Martinez"
      ]
     },
     "metadata": {},
     "output_type": "display_data"
    }
   ],
   "source": [
    "df[['Nombre', 'Apellido']] = df['Nombre_Completo'].str.split(' ', expand=True)\n",
    "display(df)"
   ]
  },
  {
   "cell_type": "code",
   "execution_count": 4,
   "id": "8e3d2963-6fda-4709-9b45-6e1debae6fff",
   "metadata": {},
   "outputs": [
    {
     "data": {
      "text/html": [
       "<div>\n",
       "<style scoped>\n",
       "    .dataframe tbody tr th:only-of-type {\n",
       "        vertical-align: middle;\n",
       "    }\n",
       "\n",
       "    .dataframe tbody tr th {\n",
       "        vertical-align: top;\n",
       "    }\n",
       "\n",
       "    .dataframe thead th {\n",
       "        text-align: right;\n",
       "    }\n",
       "</style>\n",
       "<table border=\"1\" class=\"dataframe\">\n",
       "  <thead>\n",
       "    <tr style=\"text-align: right;\">\n",
       "      <th></th>\n",
       "      <th>Fecha</th>\n",
       "    </tr>\n",
       "  </thead>\n",
       "  <tbody>\n",
       "    <tr>\n",
       "      <th>0</th>\n",
       "      <td>01-01-2024</td>\n",
       "    </tr>\n",
       "    <tr>\n",
       "      <th>1</th>\n",
       "      <td>15-02-2024</td>\n",
       "    </tr>\n",
       "    <tr>\n",
       "      <th>2</th>\n",
       "      <td>30-03-2024</td>\n",
       "    </tr>\n",
       "  </tbody>\n",
       "</table>\n",
       "</div>"
      ],
      "text/plain": [
       "        Fecha\n",
       "0  01-01-2024\n",
       "1  15-02-2024\n",
       "2  30-03-2024"
      ]
     },
     "metadata": {},
     "output_type": "display_data"
    }
   ],
   "source": [
    "data_fechas = {\n",
    "    'Fecha': ['01-01-2024', '15-02-2024', '30-03-2024']\n",
    "}\n",
    "\n",
    "df_fechas = pd.DataFrame(data_fechas)\n",
    "display(df_fechas)"
   ]
  },
  {
   "cell_type": "code",
   "execution_count": 5,
   "id": "ba577050-070a-429b-805f-eb8a7eeb4b29",
   "metadata": {},
   "outputs": [
    {
     "data": {
      "text/html": [
       "<div>\n",
       "<style scoped>\n",
       "    .dataframe tbody tr th:only-of-type {\n",
       "        vertical-align: middle;\n",
       "    }\n",
       "\n",
       "    .dataframe tbody tr th {\n",
       "        vertical-align: top;\n",
       "    }\n",
       "\n",
       "    .dataframe thead th {\n",
       "        text-align: right;\n",
       "    }\n",
       "</style>\n",
       "<table border=\"1\" class=\"dataframe\">\n",
       "  <thead>\n",
       "    <tr style=\"text-align: right;\">\n",
       "      <th></th>\n",
       "      <th>Fecha</th>\n",
       "      <th>Día</th>\n",
       "      <th>Mes</th>\n",
       "      <th>Año</th>\n",
       "    </tr>\n",
       "  </thead>\n",
       "  <tbody>\n",
       "    <tr>\n",
       "      <th>0</th>\n",
       "      <td>01-01-2024</td>\n",
       "      <td>01</td>\n",
       "      <td>01</td>\n",
       "      <td>2024</td>\n",
       "    </tr>\n",
       "    <tr>\n",
       "      <th>1</th>\n",
       "      <td>15-02-2024</td>\n",
       "      <td>15</td>\n",
       "      <td>02</td>\n",
       "      <td>2024</td>\n",
       "    </tr>\n",
       "    <tr>\n",
       "      <th>2</th>\n",
       "      <td>30-03-2024</td>\n",
       "      <td>30</td>\n",
       "      <td>03</td>\n",
       "      <td>2024</td>\n",
       "    </tr>\n",
       "  </tbody>\n",
       "</table>\n",
       "</div>"
      ],
      "text/plain": [
       "        Fecha Día Mes   Año\n",
       "0  01-01-2024  01  01  2024\n",
       "1  15-02-2024  15  02  2024\n",
       "2  30-03-2024  30  03  2024"
      ]
     },
     "metadata": {},
     "output_type": "display_data"
    }
   ],
   "source": [
    "df_fechas[['Día', 'Mes', 'Año']] = df_fechas['Fecha'].str.split('-', expand=True)\n",
    "display(df_fechas)"
   ]
  },
  {
   "cell_type": "code",
   "execution_count": 7,
   "id": "335469d6-6346-4ea6-b63a-dafc879a4043",
   "metadata": {},
   "outputs": [
    {
     "data": {
      "text/html": [
       "<div>\n",
       "<style scoped>\n",
       "    .dataframe tbody tr th:only-of-type {\n",
       "        vertical-align: middle;\n",
       "    }\n",
       "\n",
       "    .dataframe tbody tr th {\n",
       "        vertical-align: top;\n",
       "    }\n",
       "\n",
       "    .dataframe thead th {\n",
       "        text-align: right;\n",
       "    }\n",
       "</style>\n",
       "<table border=\"1\" class=\"dataframe\">\n",
       "  <thead>\n",
       "    <tr style=\"text-align: right;\">\n",
       "      <th></th>\n",
       "      <th>Nombre_Completo</th>\n",
       "      <th>Nombre</th>\n",
       "      <th>Apellido</th>\n",
       "      <th>Nombre_Completo_nuevo</th>\n",
       "    </tr>\n",
       "  </thead>\n",
       "  <tbody>\n",
       "    <tr>\n",
       "      <th>0</th>\n",
       "      <td>Juan Perez</td>\n",
       "      <td>Juan</td>\n",
       "      <td>Perez</td>\n",
       "      <td>Juan;Perez</td>\n",
       "    </tr>\n",
       "    <tr>\n",
       "      <th>1</th>\n",
       "      <td>Maria Gomez</td>\n",
       "      <td>Maria</td>\n",
       "      <td>Gomez</td>\n",
       "      <td>Maria;Gomez</td>\n",
       "    </tr>\n",
       "    <tr>\n",
       "      <th>2</th>\n",
       "      <td>Luis Martinez</td>\n",
       "      <td>Luis</td>\n",
       "      <td>Martinez</td>\n",
       "      <td>Luis;Martinez</td>\n",
       "    </tr>\n",
       "  </tbody>\n",
       "</table>\n",
       "</div>"
      ],
      "text/plain": [
       "  Nombre_Completo Nombre  Apellido Nombre_Completo_nuevo\n",
       "0      Juan Perez   Juan     Perez            Juan;Perez\n",
       "1     Maria Gomez  Maria     Gomez           Maria;Gomez\n",
       "2   Luis Martinez   Luis  Martinez         Luis;Martinez"
      ]
     },
     "metadata": {},
     "output_type": "display_data"
    }
   ],
   "source": [
    "df['Nombre_Completo_nuevo'] = df['Nombre'] + ';' + df['Apellido']\n",
    "display(df)"
   ]
  },
  {
   "cell_type": "code",
   "execution_count": 9,
   "id": "c05b9d6e-ad56-476d-b109-2a95d9201a26",
   "metadata": {},
   "outputs": [
    {
     "data": {
      "text/html": [
       "<div>\n",
       "<style scoped>\n",
       "    .dataframe tbody tr th:only-of-type {\n",
       "        vertical-align: middle;\n",
       "    }\n",
       "\n",
       "    .dataframe tbody tr th {\n",
       "        vertical-align: top;\n",
       "    }\n",
       "\n",
       "    .dataframe thead th {\n",
       "        text-align: right;\n",
       "    }\n",
       "</style>\n",
       "<table border=\"1\" class=\"dataframe\">\n",
       "  <thead>\n",
       "    <tr style=\"text-align: right;\">\n",
       "      <th></th>\n",
       "      <th>Fecha</th>\n",
       "      <th>Día</th>\n",
       "      <th>Mes</th>\n",
       "      <th>Año</th>\n",
       "      <th>Fecha_Completa</th>\n",
       "    </tr>\n",
       "  </thead>\n",
       "  <tbody>\n",
       "    <tr>\n",
       "      <th>0</th>\n",
       "      <td>01-01-2024</td>\n",
       "      <td>01</td>\n",
       "      <td>01</td>\n",
       "      <td>2024</td>\n",
       "      <td>01/01/2024</td>\n",
       "    </tr>\n",
       "    <tr>\n",
       "      <th>1</th>\n",
       "      <td>15-02-2024</td>\n",
       "      <td>15</td>\n",
       "      <td>02</td>\n",
       "      <td>2024</td>\n",
       "      <td>15/02/2024</td>\n",
       "    </tr>\n",
       "    <tr>\n",
       "      <th>2</th>\n",
       "      <td>30-03-2024</td>\n",
       "      <td>30</td>\n",
       "      <td>03</td>\n",
       "      <td>2024</td>\n",
       "      <td>30/03/2024</td>\n",
       "    </tr>\n",
       "  </tbody>\n",
       "</table>\n",
       "</div>"
      ],
      "text/plain": [
       "        Fecha Día Mes   Año Fecha_Completa\n",
       "0  01-01-2024  01  01  2024     01/01/2024\n",
       "1  15-02-2024  15  02  2024     15/02/2024\n",
       "2  30-03-2024  30  03  2024     30/03/2024"
      ]
     },
     "metadata": {},
     "output_type": "display_data"
    }
   ],
   "source": [
    "df_fechas['Fecha_Completa'] = df_fechas[['Día', 'Mes', 'Año']].agg('/'.join, axis=1)\n",
    "display(df_fechas)"
   ]
  },
  {
   "cell_type": "code",
   "execution_count": 10,
   "id": "45ef16dd-613c-4da0-b861-a25c6f44261e",
   "metadata": {},
   "outputs": [
    {
     "data": {
      "text/html": [
       "<div>\n",
       "<style scoped>\n",
       "    .dataframe tbody tr th:only-of-type {\n",
       "        vertical-align: middle;\n",
       "    }\n",
       "\n",
       "    .dataframe tbody tr th {\n",
       "        vertical-align: top;\n",
       "    }\n",
       "\n",
       "    .dataframe thead th {\n",
       "        text-align: right;\n",
       "    }\n",
       "</style>\n",
       "<table border=\"1\" class=\"dataframe\">\n",
       "  <thead>\n",
       "    <tr style=\"text-align: right;\">\n",
       "      <th></th>\n",
       "      <th>Dirección</th>\n",
       "    </tr>\n",
       "  </thead>\n",
       "  <tbody>\n",
       "    <tr>\n",
       "      <th>0</th>\n",
       "      <td>Calle 123, Lima</td>\n",
       "    </tr>\n",
       "    <tr>\n",
       "      <th>1</th>\n",
       "      <td>Avenida 45, Bogotá</td>\n",
       "    </tr>\n",
       "  </tbody>\n",
       "</table>\n",
       "</div>"
      ],
      "text/plain": [
       "            Dirección\n",
       "0     Calle 123, Lima\n",
       "1  Avenida 45, Bogotá"
      ]
     },
     "metadata": {},
     "output_type": "display_data"
    }
   ],
   "source": [
    "df_direcciones = pd.DataFrame({'Dirección': ['Calle 123, Lima', 'Avenida 45, Bogotá']})\n",
    "display(df_direcciones)"
   ]
  },
  {
   "cell_type": "code",
   "execution_count": 11,
   "id": "ed693a4a-a657-4f01-9522-54fa98c81ccc",
   "metadata": {},
   "outputs": [
    {
     "data": {
      "text/html": [
       "<div>\n",
       "<style scoped>\n",
       "    .dataframe tbody tr th:only-of-type {\n",
       "        vertical-align: middle;\n",
       "    }\n",
       "\n",
       "    .dataframe tbody tr th {\n",
       "        vertical-align: top;\n",
       "    }\n",
       "\n",
       "    .dataframe thead th {\n",
       "        text-align: right;\n",
       "    }\n",
       "</style>\n",
       "<table border=\"1\" class=\"dataframe\">\n",
       "  <thead>\n",
       "    <tr style=\"text-align: right;\">\n",
       "      <th></th>\n",
       "      <th>Dirección</th>\n",
       "      <th>Calle</th>\n",
       "      <th>Número</th>\n",
       "      <th>Ciudad</th>\n",
       "    </tr>\n",
       "  </thead>\n",
       "  <tbody>\n",
       "    <tr>\n",
       "      <th>0</th>\n",
       "      <td>Calle 123, Lima</td>\n",
       "      <td>Calle</td>\n",
       "      <td>123</td>\n",
       "      <td>Lima</td>\n",
       "    </tr>\n",
       "    <tr>\n",
       "      <th>1</th>\n",
       "      <td>Avenida 45, Bogotá</td>\n",
       "      <td>Avenida</td>\n",
       "      <td>45</td>\n",
       "      <td>Bogotá</td>\n",
       "    </tr>\n",
       "  </tbody>\n",
       "</table>\n",
       "</div>"
      ],
      "text/plain": [
       "            Dirección    Calle Número  Ciudad\n",
       "0     Calle 123, Lima    Calle    123    Lima\n",
       "1  Avenida 45, Bogotá  Avenida     45  Bogotá"
      ]
     },
     "metadata": {},
     "output_type": "display_data"
    }
   ],
   "source": [
    "df_direcciones[['Calle', 'Número', 'Ciudad']] = df_direcciones['Dirección'].str.extract(r'(\\D+)\\s(\\d+),\\s(\\D+)')\n",
    "display(df_direcciones)"
   ]
  },
  {
   "cell_type": "code",
   "execution_count": null,
   "id": "7be52dec-f16e-4648-a17f-a298a07d8d56",
   "metadata": {},
   "outputs": [],
   "source": []
  }
 ],
 "metadata": {
  "kernelspec": {
   "display_name": "env_curso",
   "language": "python",
   "name": "env"
  },
  "language_info": {
   "codemirror_mode": {
    "name": "ipython",
    "version": 3
   },
   "file_extension": ".py",
   "mimetype": "text/x-python",
   "name": "python",
   "nbconvert_exporter": "python",
   "pygments_lexer": "ipython3",
   "version": "3.12.5"
  }
 },
 "nbformat": 4,
 "nbformat_minor": 5
}
