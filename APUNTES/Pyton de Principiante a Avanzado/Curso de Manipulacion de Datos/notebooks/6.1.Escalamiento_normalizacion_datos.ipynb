{
 "cells": [
  {
   "cell_type": "markdown",
   "id": "061e3b30-75cb-41b4-86d4-b04252a39061",
   "metadata": {},
   "source": [
    "## Escalamiento de datos:\n",
    "\n",
    "El escalamiento ajusta los datos para que se encuentren dentro de un rango específico, generalmente entre 0 y 1, o entre -1 y 1. Esto es útil cuando las variables tienen rangos muy diferentes, lo que podría afectar los modelos de machine learning.\n",
    "\n",
    "## Normalización de datos:\n",
    "\n",
    "La normalización transforma los datos para que tengan una media de 0 y una desviación estándar de 1. Esto es útil cuando quieres que tus datos tengan una distribución normal o centrada"
   ]
  },
  {
   "cell_type": "code",
   "execution_count": 7,
   "id": "a49ec118-d1e7-4965-8fa7-dd68afb2083b",
   "metadata": {},
   "outputs": [],
   "source": [
    "import pandas as pd\n",
    "import numpy as np"
   ]
  },
  {
   "cell_type": "code",
   "execution_count": 8,
   "id": "9115520d-cae7-4d28-93dc-b7f6a286fbed",
   "metadata": {},
   "outputs": [
    {
     "data": {
      "text/html": [
       "<div>\n",
       "<style scoped>\n",
       "    .dataframe tbody tr th:only-of-type {\n",
       "        vertical-align: middle;\n",
       "    }\n",
       "\n",
       "    .dataframe tbody tr th {\n",
       "        vertical-align: top;\n",
       "    }\n",
       "\n",
       "    .dataframe thead th {\n",
       "        text-align: right;\n",
       "    }\n",
       "</style>\n",
       "<table border=\"1\" class=\"dataframe\">\n",
       "  <thead>\n",
       "    <tr style=\"text-align: right;\">\n",
       "      <th></th>\n",
       "      <th>producto</th>\n",
       "      <th>precio_unitario</th>\n",
       "      <th>ventas</th>\n",
       "      <th>descuento</th>\n",
       "    </tr>\n",
       "  </thead>\n",
       "  <tbody>\n",
       "    <tr>\n",
       "      <th>0</th>\n",
       "      <td>Manzana</td>\n",
       "      <td>0.5</td>\n",
       "      <td>50</td>\n",
       "      <td>5</td>\n",
       "    </tr>\n",
       "    <tr>\n",
       "      <th>1</th>\n",
       "      <td>Banana</td>\n",
       "      <td>0.3</td>\n",
       "      <td>30</td>\n",
       "      <td>2</td>\n",
       "    </tr>\n",
       "    <tr>\n",
       "      <th>2</th>\n",
       "      <td>Cereza</td>\n",
       "      <td>0.8</td>\n",
       "      <td>70</td>\n",
       "      <td>7</td>\n",
       "    </tr>\n",
       "    <tr>\n",
       "      <th>3</th>\n",
       "      <td>Durazno</td>\n",
       "      <td>1.2</td>\n",
       "      <td>85</td>\n",
       "      <td>8</td>\n",
       "    </tr>\n",
       "    <tr>\n",
       "      <th>4</th>\n",
       "      <td>Pera</td>\n",
       "      <td>0.9</td>\n",
       "      <td>40</td>\n",
       "      <td>5</td>\n",
       "    </tr>\n",
       "  </tbody>\n",
       "</table>\n",
       "</div>"
      ],
      "text/plain": [
       "  producto  precio_unitario  ventas  descuento\n",
       "0  Manzana              0.5      50          5\n",
       "1   Banana              0.3      30          2\n",
       "2   Cereza              0.8      70          7\n",
       "3  Durazno              1.2      85          8\n",
       "4     Pera              0.9      40          5"
      ]
     },
     "metadata": {},
     "output_type": "display_data"
    }
   ],
   "source": [
    "data = {\n",
    "    'producto': ['Manzana', 'Banana', 'Cereza', 'Durazno', 'Pera'],\n",
    "    'precio_unitario': [0.5, 0.3, 0.8, 1.2, 0.9],\n",
    "    'ventas': [50, 30, 70, 85, 40],\n",
    "    'descuento': [5, 2, 7, 8, 5]\n",
    "}\n",
    "df = pd.DataFrame(data)\n",
    "display(df)"
   ]
  },
  {
   "cell_type": "code",
   "execution_count": 9,
   "id": "5e54a757-af8e-4cc3-8ab6-e6c71f42c124",
   "metadata": {},
   "outputs": [
    {
     "data": {
      "text/html": [
       "<div>\n",
       "<style scoped>\n",
       "    .dataframe tbody tr th:only-of-type {\n",
       "        vertical-align: middle;\n",
       "    }\n",
       "\n",
       "    .dataframe tbody tr th {\n",
       "        vertical-align: top;\n",
       "    }\n",
       "\n",
       "    .dataframe thead th {\n",
       "        text-align: right;\n",
       "    }\n",
       "</style>\n",
       "<table border=\"1\" class=\"dataframe\">\n",
       "  <thead>\n",
       "    <tr style=\"text-align: right;\">\n",
       "      <th></th>\n",
       "      <th>producto</th>\n",
       "      <th>precio_unitario</th>\n",
       "      <th>ventas</th>\n",
       "      <th>descuento</th>\n",
       "    </tr>\n",
       "  </thead>\n",
       "  <tbody>\n",
       "    <tr>\n",
       "      <th>0</th>\n",
       "      <td>Manzana</td>\n",
       "      <td>0.222222</td>\n",
       "      <td>0.363636</td>\n",
       "      <td>0.500000</td>\n",
       "    </tr>\n",
       "    <tr>\n",
       "      <th>1</th>\n",
       "      <td>Banana</td>\n",
       "      <td>0.000000</td>\n",
       "      <td>0.000000</td>\n",
       "      <td>0.000000</td>\n",
       "    </tr>\n",
       "    <tr>\n",
       "      <th>2</th>\n",
       "      <td>Cereza</td>\n",
       "      <td>0.555556</td>\n",
       "      <td>0.727273</td>\n",
       "      <td>0.833333</td>\n",
       "    </tr>\n",
       "    <tr>\n",
       "      <th>3</th>\n",
       "      <td>Durazno</td>\n",
       "      <td>1.000000</td>\n",
       "      <td>1.000000</td>\n",
       "      <td>1.000000</td>\n",
       "    </tr>\n",
       "    <tr>\n",
       "      <th>4</th>\n",
       "      <td>Pera</td>\n",
       "      <td>0.666667</td>\n",
       "      <td>0.181818</td>\n",
       "      <td>0.500000</td>\n",
       "    </tr>\n",
       "  </tbody>\n",
       "</table>\n",
       "</div>"
      ],
      "text/plain": [
       "  producto  precio_unitario    ventas  descuento\n",
       "0  Manzana         0.222222  0.363636   0.500000\n",
       "1   Banana         0.000000  0.000000   0.000000\n",
       "2   Cereza         0.555556  0.727273   0.833333\n",
       "3  Durazno         1.000000  1.000000   1.000000\n",
       "4     Pera         0.666667  0.181818   0.500000"
      ]
     },
     "metadata": {},
     "output_type": "display_data"
    }
   ],
   "source": [
    "from sklearn.preprocessing import MinMaxScaler\n",
    "scaler = MinMaxScaler()\n",
    "columnas_numericas = ['precio_unitario', 'ventas', 'descuento']\n",
    "df_escalado = df.copy()\n",
    "\n",
    "df_escalado[columnas_numericas] = scaler.fit_transform(df[columnas_numericas])\n",
    "display(df_escalado)"
   ]
  },
  {
   "cell_type": "code",
   "execution_count": 10,
   "id": "6ae95a21-5d64-4192-9aed-534934c668ac",
   "metadata": {},
   "outputs": [
    {
     "data": {
      "text/html": [
       "<div>\n",
       "<style scoped>\n",
       "    .dataframe tbody tr th:only-of-type {\n",
       "        vertical-align: middle;\n",
       "    }\n",
       "\n",
       "    .dataframe tbody tr th {\n",
       "        vertical-align: top;\n",
       "    }\n",
       "\n",
       "    .dataframe thead th {\n",
       "        text-align: right;\n",
       "    }\n",
       "</style>\n",
       "<table border=\"1\" class=\"dataframe\">\n",
       "  <thead>\n",
       "    <tr style=\"text-align: right;\">\n",
       "      <th></th>\n",
       "      <th>producto</th>\n",
       "      <th>precio_unitario</th>\n",
       "      <th>ventas</th>\n",
       "      <th>descuento</th>\n",
       "    </tr>\n",
       "  </thead>\n",
       "  <tbody>\n",
       "    <tr>\n",
       "      <th>0</th>\n",
       "      <td>Manzana</td>\n",
       "      <td>-0.765092</td>\n",
       "      <td>-0.25</td>\n",
       "      <td>-0.194257</td>\n",
       "    </tr>\n",
       "    <tr>\n",
       "      <th>1</th>\n",
       "      <td>Banana</td>\n",
       "      <td>-1.402669</td>\n",
       "      <td>-1.25</td>\n",
       "      <td>-1.651186</td>\n",
       "    </tr>\n",
       "    <tr>\n",
       "      <th>2</th>\n",
       "      <td>Cereza</td>\n",
       "      <td>0.191273</td>\n",
       "      <td>0.75</td>\n",
       "      <td>0.777029</td>\n",
       "    </tr>\n",
       "    <tr>\n",
       "      <th>3</th>\n",
       "      <td>Durazno</td>\n",
       "      <td>1.466426</td>\n",
       "      <td>1.50</td>\n",
       "      <td>1.262672</td>\n",
       "    </tr>\n",
       "    <tr>\n",
       "      <th>4</th>\n",
       "      <td>Pera</td>\n",
       "      <td>0.510061</td>\n",
       "      <td>-0.75</td>\n",
       "      <td>-0.194257</td>\n",
       "    </tr>\n",
       "  </tbody>\n",
       "</table>\n",
       "</div>"
      ],
      "text/plain": [
       "  producto  precio_unitario  ventas  descuento\n",
       "0  Manzana        -0.765092   -0.25  -0.194257\n",
       "1   Banana        -1.402669   -1.25  -1.651186\n",
       "2   Cereza         0.191273    0.75   0.777029\n",
       "3  Durazno         1.466426    1.50   1.262672\n",
       "4     Pera         0.510061   -0.75  -0.194257"
      ]
     },
     "metadata": {},
     "output_type": "display_data"
    }
   ],
   "source": [
    "from sklearn.preprocessing import StandardScaler\n",
    "scaler_normalizacion = StandardScaler()\n",
    "df_normalizado = df.copy() \n",
    "df_normalizado[columnas_numericas] = scaler_normalizacion.fit_transform(df[columnas_numericas])\n",
    "display(df_normalizado)"
   ]
  },
  {
   "cell_type": "code",
   "execution_count": 11,
   "id": "f1ba7010-76aa-4d30-9c72-8ee7bfb334c6",
   "metadata": {},
   "outputs": [
    {
     "data": {
      "image/png": "[encoded data removed]",
      "text/plain": [
       "<Figure size 1000x500 with 2 Axes>"
      ]
     },
     "metadata": {},
     "output_type": "display_data"
    }
   ],
   "source": [
    "import matplotlib.pyplot as plt\n",
    "fig, axes = plt.subplots(1, 2, figsize=(10, 5))\n",
    "df[columnas_numericas].plot(kind='box', title=\"Original\", ax=axes[0])\n",
    "df_escalado[columnas_numericas].plot(kind='box', title=\"Escalado\", ax=axes[1])\n",
    "plt.show()\n"
   ]
  },
  {
   "cell_type": "code",
   "execution_count": null,
   "id": "54235a28-5a64-4be1-aee2-8e9bda4d3456",
   "metadata": {},
   "outputs": [],
   "source": []
  }
 ],
 "metadata": {
  "kernelspec": {
   "display_name": "env_curso",
   "language": "python",
   "name": "env"
  },
  "language_info": {
   "codemirror_mode": {
    "name": "ipython",
    "version": 3
   },
   "file_extension": ".py",
   "mimetype": "text/x-python",
   "name": "python",
   "nbconvert_exporter": "python",
   "pygments_lexer": "ipython3",
   "version": "3.12.5"
  }
 },
 "nbformat": 4,
 "nbformat_minor": 5
}
