{
 "cells": [
  {
   "cell_type": "markdown",
   "id": "5a399439-e85f-4af1-83a3-c5e461f97f90",
   "metadata": {},
   "source": [
    "## Datos categóricos\n",
    "Son variables que toman valores de un conjunto finito de categorías (por ejemplo, colores: rojo, azul, verde). Muchos modelos de machine learning no pueden procesar datos categóricos directamente, por lo que es necesario convertirlos en valores numéricos.\n",
    "## Codificación Ordinal\n",
    "Asigna un número entero a cada categoría. Esto es útil si hay un orden inherente en las categorías (como \"bajo\", \"medio\", \"alto\").\n",
    "## Codificación One-Hot\n",
    "Convierte cada categoría en una columna binaria (0 o 1). Esta es la técnica más utilizada cuando no hay un orden natural en las categorías."
   ]
  },
  {
   "cell_type": "code",
   "execution_count": 1,
   "id": "603b7d2e-f7e5-41d5-b39b-898bdbb2d854",
   "metadata": {},
   "outputs": [],
   "source": [
    "import pandas as pd\n"
   ]
  },
  {
   "cell_type": "code",
   "execution_count": 2,
   "id": "463fc47d-8bcc-4591-829b-29962fb961e6",
   "metadata": {},
   "outputs": [
    {
     "data": {
      "text/html": [
       "<div>\n",
       "<style scoped>\n",
       "    .dataframe tbody tr th:only-of-type {\n",
       "        vertical-align: middle;\n",
       "    }\n",
       "\n",
       "    .dataframe tbody tr th {\n",
       "        vertical-align: top;\n",
       "    }\n",
       "\n",
       "    .dataframe thead th {\n",
       "        text-align: right;\n",
       "    }\n",
       "</style>\n",
       "<table border=\"1\" class=\"dataframe\">\n",
       "  <thead>\n",
       "    <tr style=\"text-align: right;\">\n",
       "      <th></th>\n",
       "      <th>producto</th>\n",
       "      <th>categoria</th>\n",
       "      <th>calidad</th>\n",
       "      <th>ventas</th>\n",
       "    </tr>\n",
       "  </thead>\n",
       "  <tbody>\n",
       "    <tr>\n",
       "      <th>0</th>\n",
       "      <td>Manzana</td>\n",
       "      <td>Fruta</td>\n",
       "      <td>Alta</td>\n",
       "      <td>50</td>\n",
       "    </tr>\n",
       "    <tr>\n",
       "      <th>1</th>\n",
       "      <td>Banana</td>\n",
       "      <td>Fruta</td>\n",
       "      <td>Media</td>\n",
       "      <td>30</td>\n",
       "    </tr>\n",
       "    <tr>\n",
       "      <th>2</th>\n",
       "      <td>Cereza</td>\n",
       "      <td>Fruta</td>\n",
       "      <td>Baja</td>\n",
       "      <td>70</td>\n",
       "    </tr>\n",
       "    <tr>\n",
       "      <th>3</th>\n",
       "      <td>Durazno</td>\n",
       "      <td>Fruta</td>\n",
       "      <td>Alta</td>\n",
       "      <td>85</td>\n",
       "    </tr>\n",
       "    <tr>\n",
       "      <th>4</th>\n",
       "      <td>Pera</td>\n",
       "      <td>Fruta</td>\n",
       "      <td>Media</td>\n",
       "      <td>40</td>\n",
       "    </tr>\n",
       "  </tbody>\n",
       "</table>\n",
       "</div>"
      ],
      "text/plain": [
       "  producto categoria calidad  ventas\n",
       "0  Manzana     Fruta    Alta      50\n",
       "1   Banana     Fruta   Media      30\n",
       "2   Cereza     Fruta    Baja      70\n",
       "3  Durazno     Fruta    Alta      85\n",
       "4     Pera     Fruta   Media      40"
      ]
     },
     "metadata": {},
     "output_type": "display_data"
    }
   ],
   "source": [
    "data = {\n",
    "    'producto': ['Manzana', 'Banana', 'Cereza', 'Durazno', 'Pera'],\n",
    "    'categoria': ['Fruta', 'Fruta', 'Fruta', 'Fruta', 'Fruta'],\n",
    "    'calidad': ['Alta', 'Media', 'Baja', 'Alta', 'Media'],  # Columna categórica\n",
    "    'ventas': [50, 30, 70, 85, 40]\n",
    "}\n",
    "\n",
    "df = pd.DataFrame(data)\n",
    "display(df)"
   ]
  },
  {
   "cell_type": "code",
   "execution_count": 3,
   "id": "3de0f694-14fc-46ae-a753-ee897f232cf3",
   "metadata": {},
   "outputs": [
    {
     "data": {
      "text/html": [
       "<div>\n",
       "<style scoped>\n",
       "    .dataframe tbody tr th:only-of-type {\n",
       "        vertical-align: middle;\n",
       "    }\n",
       "\n",
       "    .dataframe tbody tr th {\n",
       "        vertical-align: top;\n",
       "    }\n",
       "\n",
       "    .dataframe thead th {\n",
       "        text-align: right;\n",
       "    }\n",
       "</style>\n",
       "<table border=\"1\" class=\"dataframe\">\n",
       "  <thead>\n",
       "    <tr style=\"text-align: right;\">\n",
       "      <th></th>\n",
       "      <th>producto</th>\n",
       "      <th>categoria</th>\n",
       "      <th>calidad</th>\n",
       "      <th>ventas</th>\n",
       "      <th>calidad_ordinal</th>\n",
       "    </tr>\n",
       "  </thead>\n",
       "  <tbody>\n",
       "    <tr>\n",
       "      <th>0</th>\n",
       "      <td>Manzana</td>\n",
       "      <td>Fruta</td>\n",
       "      <td>Alta</td>\n",
       "      <td>50</td>\n",
       "      <td>3</td>\n",
       "    </tr>\n",
       "    <tr>\n",
       "      <th>1</th>\n",
       "      <td>Banana</td>\n",
       "      <td>Fruta</td>\n",
       "      <td>Media</td>\n",
       "      <td>30</td>\n",
       "      <td>2</td>\n",
       "    </tr>\n",
       "    <tr>\n",
       "      <th>2</th>\n",
       "      <td>Cereza</td>\n",
       "      <td>Fruta</td>\n",
       "      <td>Baja</td>\n",
       "      <td>70</td>\n",
       "      <td>1</td>\n",
       "    </tr>\n",
       "    <tr>\n",
       "      <th>3</th>\n",
       "      <td>Durazno</td>\n",
       "      <td>Fruta</td>\n",
       "      <td>Alta</td>\n",
       "      <td>85</td>\n",
       "      <td>3</td>\n",
       "    </tr>\n",
       "    <tr>\n",
       "      <th>4</th>\n",
       "      <td>Pera</td>\n",
       "      <td>Fruta</td>\n",
       "      <td>Media</td>\n",
       "      <td>40</td>\n",
       "      <td>2</td>\n",
       "    </tr>\n",
       "  </tbody>\n",
       "</table>\n",
       "</div>"
      ],
      "text/plain": [
       "  producto categoria calidad  ventas  calidad_ordinal\n",
       "0  Manzana     Fruta    Alta      50                3\n",
       "1   Banana     Fruta   Media      30                2\n",
       "2   Cereza     Fruta    Baja      70                1\n",
       "3  Durazno     Fruta    Alta      85                3\n",
       "4     Pera     Fruta   Media      40                2"
      ]
     },
     "metadata": {},
     "output_type": "display_data"
    }
   ],
   "source": [
    "mapa_calidad = {'Baja': 1, 'Media': 2, 'Alta': 3}\n",
    "df['calidad_ordinal'] = df['calidad'].map(mapa_calidad)\n",
    "display(df)"
   ]
  },
  {
   "cell_type": "code",
   "execution_count": 4,
   "id": "b5ba27f1-2d4a-4a82-996f-86404bdbc54e",
   "metadata": {},
   "outputs": [
    {
     "data": {
      "text/html": [
       "<div>\n",
       "<style scoped>\n",
       "    .dataframe tbody tr th:only-of-type {\n",
       "        vertical-align: middle;\n",
       "    }\n",
       "\n",
       "    .dataframe tbody tr th {\n",
       "        vertical-align: top;\n",
       "    }\n",
       "\n",
       "    .dataframe thead th {\n",
       "        text-align: right;\n",
       "    }\n",
       "</style>\n",
       "<table border=\"1\" class=\"dataframe\">\n",
       "  <thead>\n",
       "    <tr style=\"text-align: right;\">\n",
       "      <th></th>\n",
       "      <th>producto</th>\n",
       "      <th>categoria</th>\n",
       "      <th>ventas</th>\n",
       "      <th>calidad_ordinal</th>\n",
       "      <th>calidad_Alta</th>\n",
       "      <th>calidad_Baja</th>\n",
       "      <th>calidad_Media</th>\n",
       "    </tr>\n",
       "  </thead>\n",
       "  <tbody>\n",
       "    <tr>\n",
       "      <th>0</th>\n",
       "      <td>Manzana</td>\n",
       "      <td>Fruta</td>\n",
       "      <td>50</td>\n",
       "      <td>3</td>\n",
       "      <td>True</td>\n",
       "      <td>False</td>\n",
       "      <td>False</td>\n",
       "    </tr>\n",
       "    <tr>\n",
       "      <th>1</th>\n",
       "      <td>Banana</td>\n",
       "      <td>Fruta</td>\n",
       "      <td>30</td>\n",
       "      <td>2</td>\n",
       "      <td>False</td>\n",
       "      <td>False</td>\n",
       "      <td>True</td>\n",
       "    </tr>\n",
       "    <tr>\n",
       "      <th>2</th>\n",
       "      <td>Cereza</td>\n",
       "      <td>Fruta</td>\n",
       "      <td>70</td>\n",
       "      <td>1</td>\n",
       "      <td>False</td>\n",
       "      <td>True</td>\n",
       "      <td>False</td>\n",
       "    </tr>\n",
       "    <tr>\n",
       "      <th>3</th>\n",
       "      <td>Durazno</td>\n",
       "      <td>Fruta</td>\n",
       "      <td>85</td>\n",
       "      <td>3</td>\n",
       "      <td>True</td>\n",
       "      <td>False</td>\n",
       "      <td>False</td>\n",
       "    </tr>\n",
       "    <tr>\n",
       "      <th>4</th>\n",
       "      <td>Pera</td>\n",
       "      <td>Fruta</td>\n",
       "      <td>40</td>\n",
       "      <td>2</td>\n",
       "      <td>False</td>\n",
       "      <td>False</td>\n",
       "      <td>True</td>\n",
       "    </tr>\n",
       "  </tbody>\n",
       "</table>\n",
       "</div>"
      ],
      "text/plain": [
       "  producto categoria  ventas  calidad_ordinal  calidad_Alta  calidad_Baja  \\\n",
       "0  Manzana     Fruta      50                3          True         False   \n",
       "1   Banana     Fruta      30                2         False         False   \n",
       "2   Cereza     Fruta      70                1         False          True   \n",
       "3  Durazno     Fruta      85                3          True         False   \n",
       "4     Pera     Fruta      40                2         False         False   \n",
       "\n",
       "   calidad_Media  \n",
       "0          False  \n",
       "1           True  \n",
       "2          False  \n",
       "3          False  \n",
       "4           True  "
      ]
     },
     "metadata": {},
     "output_type": "display_data"
    }
   ],
   "source": [
    "df_one_hot = pd.get_dummies(df, columns=['calidad'])\n",
    "display(df_one_hot)"
   ]
  },
  {
   "cell_type": "code",
   "execution_count": 5,
   "id": "e59c2e4a-f2f5-4fd0-97fe-d536a745310e",
   "metadata": {},
   "outputs": [
    {
     "data": {
      "image/png": "[encoded data removed]",
      "text/plain": [
       "<Figure size 640x480 with 1 Axes>"
      ]
     },
     "metadata": {},
     "output_type": "display_data"
    }
   ],
   "source": [
    "import matplotlib.pyplot as plt\n",
    "plt.bar(df['producto'], df['calidad_ordinal'])\n",
    "plt.title(\"Codificación Ordinal de Calidad\")\n",
    "plt.show()\n"
   ]
  },
  {
   "cell_type": "code",
   "execution_count": null,
   "id": "b3707d21-9348-4e03-bfd4-70f769175240",
   "metadata": {},
   "outputs": [],
   "source": []
  },
  {
   "cell_type": "code",
   "execution_count": null,
   "id": "91cb0c42-83af-4d2e-b2e6-78e557f9cc5f",
   "metadata": {},
   "outputs": [],
   "source": []
  },
  {
   "cell_type": "code",
   "execution_count": null,
   "id": "0f1b0f2e-8448-4de2-96bb-2adb6b7e12d9",
   "metadata": {},
   "outputs": [],
   "source": []
  }
 ],
 "metadata": {
  "kernelspec": {
   "display_name": "env_curso",
   "language": "python",
   "name": "env"
  },
  "language_info": {
   "codemirror_mode": {
    "name": "ipython",
    "version": 3
   },
   "file_extension": ".py",
   "mimetype": "text/x-python",
   "name": "python",
   "nbconvert_exporter": "python",
   "pygments_lexer": "ipython3",
   "version": "3.12.5"
  }
 },
 "nbformat": 4,
 "nbformat_minor": 5
}
