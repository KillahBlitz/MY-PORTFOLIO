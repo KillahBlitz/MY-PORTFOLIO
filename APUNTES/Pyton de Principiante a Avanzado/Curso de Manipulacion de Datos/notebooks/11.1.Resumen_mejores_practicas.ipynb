{
 "cells": [
  {
   "cell_type": "code",
   "execution_count": null,
   "id": "2c734ca7-6bb1-4e10-a045-7da95a5fb3e7",
   "metadata": {},
   "outputs": [],
   "source": [
    "import pandas as pd\n"
   ]
  },
  {
   "cell_type": "code",
   "execution_count": null,
   "id": "b3181860-eb97-4cf4-8855-094a759a24e1",
   "metadata": {},
   "outputs": [],
   "source": [
    "df_csv = pd.read_csv('data.csv', delimiter=';')\n",
    "df_txt = pd.read_csv('data.txt', delimiter='\\t')\n",
    "display(df_csv.head(), df_txt.head())"
   ]
  },
  {
   "cell_type": "code",
   "execution_count": null,
   "id": "eb38f6b3-5939-4c82-9031-33608f9e85e7",
   "metadata": {},
   "outputs": [],
   "source": [
    "df_excel = pd.read_excel('data.xlsx', sheet_name='Sheet1')\n",
    "display(df_excel.head())"
   ]
  },
  {
   "cell_type": "code",
   "execution_count": null,
   "id": "77a25a85-ce3d-42ab-a444-c62b07ec2d6a",
   "metadata": {},
   "outputs": [],
   "source": [
    "missing_data = df_csv.isnull().sum()\n",
    "display(missing_data)\n",
    "df_csv.fillna(value=0, inplace=True)"
   ]
  },
  {
   "cell_type": "code",
   "execution_count": null,
   "id": "67ae5270-1bd1-49d9-aded-898e3ca6df7f",
   "metadata": {},
   "outputs": [],
   "source": [
    "import seaborn as sns\n",
    "sns.heatmap(df_csv.isnull(), cbar=False)"
   ]
  },
  {
   "cell_type": "code",
   "execution_count": null,
   "id": "b22c1e58-3c31-4ddb-b9b5-235a06f0010c",
   "metadata": {},
   "outputs": [],
   "source": [
    "df_clean = df_csv.drop_duplicates()\n",
    "display(df_clean.head())"
   ]
  },
  {
   "cell_type": "code",
   "execution_count": null,
   "id": "16069791-e1e2-4dcf-b645-5adfc8d06583",
   "metadata": {},
   "outputs": [],
   "source": [
    "df_clean['new_column'] = df_clean['existing_column'] * 2\n",
    "display(df_clean.head())"
   ]
  },
  {
   "cell_type": "code",
   "execution_count": null,
   "id": "b8d846ca-8098-4063-8e99-8fd6ba31eada",
   "metadata": {},
   "outputs": [],
   "source": [
    "df_grouped = df_clean.groupby('category').sum()\n",
    "display(df_grouped)"
   ]
  },
  {
   "cell_type": "code",
   "execution_count": null,
   "id": "4d3e2fdf-4614-4a5e-9feb-6e654c10d4bf",
   "metadata": {},
   "outputs": [],
   "source": [
    "df_dummies = pd.get_dummies(df_clean, columns=['category'])\n",
    "display(df_dummies.head())"
   ]
  },
  {
   "cell_type": "code",
   "execution_count": null,
   "id": "532afe28-c233-4d9e-b146-ab2583e199e0",
   "metadata": {},
   "outputs": [],
   "source": [
    "df_clean.to_csv('clean_data.csv', index=False)\n",
    "df_clean.to_excel('clean_data.xlsx', index=False)"
   ]
  },
  {
   "cell_type": "code",
   "execution_count": null,
   "id": "3b4da541-ce1d-4f21-ac5b-109630072a95",
   "metadata": {},
   "outputs": [],
   "source": [
    "df_clean.to_csv('clean_data.csv.gz', compression='gzip')\n"
   ]
  }
 ],
 "metadata": {
  "kernelspec": {
   "display_name": "env_curso",
   "language": "python",
   "name": "env"
  },
  "language_info": {
   "codemirror_mode": {
    "name": "ipython",
    "version": 3
   },
   "file_extension": ".py",
   "mimetype": "text/x-python",
   "name": "python",
   "nbconvert_exporter": "python",
   "pygments_lexer": "ipython3",
   "version": "3.12.6"
  }
 },
 "nbformat": 4,
 "nbformat_minor": 5
}
