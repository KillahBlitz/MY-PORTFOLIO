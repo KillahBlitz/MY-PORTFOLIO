{
 "cells": [
  {
   "cell_type": "code",
   "execution_count": 1,
   "id": "436df616-3e7d-4c42-a8b9-b25db1e24c37",
   "metadata": {},
   "outputs": [],
   "source": [
    "import pandas as pd"
   ]
  },
  {
   "cell_type": "code",
   "execution_count": 2,
   "id": "bd352258-b654-4acb-bd52-f0dd83fc1c56",
   "metadata": {},
   "outputs": [
    {
     "name": "stdout",
     "output_type": "stream",
     "text": [
      "2023-01-01    150\n",
      "2023-01-02    152\n",
      "2023-01-03    149\n",
      "2023-01-04    153\n",
      "2023-01-05    155\n",
      "2023-01-06    158\n",
      "2023-01-07    157\n",
      "2023-01-08    160\n",
      "2023-01-09    162\n",
      "2023-01-10    161\n",
      "Freq: D, dtype: int64\n"
     ]
    }
   ],
   "source": [
    "fechas = pd.date_range(start='2023-01-01', periods=10, freq='D')\n",
    "precios = [150, 152, 149, 153, 155, 158, 157, 160, 162, 161]\n",
    "serie_temporal = pd.Series(data=precios, index=fechas)\n",
    "print(serie_temporal)"
   ]
  },
  {
   "cell_type": "code",
   "execution_count": 3,
   "id": "0719ca21-6073-4ef6-95e2-55d604826454",
   "metadata": {},
   "outputs": [
    {
     "name": "stdout",
     "output_type": "stream",
     "text": [
      "Primera mitad:\n",
      " 2023-01-01    150\n",
      "2023-01-02    152\n",
      "2023-01-03    149\n",
      "2023-01-04    153\n",
      "2023-01-05    155\n",
      "Freq: D, dtype: int64\n",
      "Segunda mitad:\n",
      " 2023-01-06    158\n",
      "2023-01-07    157\n",
      "2023-01-08    160\n",
      "2023-01-09    162\n",
      "2023-01-10    161\n",
      "Freq: D, dtype: int64\n"
     ]
    }
   ],
   "source": [
    "primera_mitad = serie_temporal['2023-01-01':'2023-01-05']\n",
    "segunda_mitad = serie_temporal['2023-01-06':'2023-01-10']\n",
    "print(\"Primera mitad:\\n\", primera_mitad)\n",
    "print(\"Segunda mitad:\\n\", segunda_mitad)"
   ]
  },
  {
   "cell_type": "code",
   "execution_count": 4,
   "id": "02de196a-c102-4b80-8133-9734edc2606b",
   "metadata": {},
   "outputs": [
    {
     "name": "stdout",
     "output_type": "stream",
     "text": [
      "Cambios significativos:\n",
      " 2023-01-04    4.0\n",
      "Freq: D, dtype: float64\n"
     ]
    }
   ],
   "source": [
    "cambios = serie_temporal.diff().abs()\n",
    "cambios_significativos = cambios[cambios > 3]\n",
    "print(\"Cambios significativos:\\n\", cambios_significativos)"
   ]
  },
  {
   "cell_type": "code",
   "execution_count": 5,
   "id": "14840b33-3c20-4b13-80fa-e4a9aff83e0e",
   "metadata": {},
   "outputs": [
    {
     "name": "stdout",
     "output_type": "stream",
     "text": [
      "Agregación semanal (se verá en detalle más adelante):\n",
      " 2023-01-01     150\n",
      "2023-01-08    1084\n",
      "2023-01-15     323\n",
      "Freq: W-SUN, dtype: int64\n"
     ]
    }
   ],
   "source": [
    "serie_semanal = serie_temporal.resample('W').sum()\n",
    "print(\"Agregación semanal (se verá en detalle más adelante):\\n\", serie_semanal)"
   ]
  },
  {
   "cell_type": "code",
   "execution_count": null,
   "id": "20a5c0b0-a231-4b1f-affa-c47558566c0a",
   "metadata": {},
   "outputs": [],
   "source": []
  }
 ],
 "metadata": {
  "kernelspec": {
   "display_name": "env_curso",
   "language": "python",
   "name": "env"
  },
  "language_info": {
   "codemirror_mode": {
    "name": "ipython",
    "version": 3
   },
   "file_extension": ".py",
   "mimetype": "text/x-python",
   "name": "python",
   "nbconvert_exporter": "python",
   "pygments_lexer": "ipython3",
   "version": "3.12.4"
  }
 },
 "nbformat": 4,
 "nbformat_minor": 5
}
