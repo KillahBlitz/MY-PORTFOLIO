{
 "cells": [
  {
   "cell_type": "code",
   "execution_count": 1,
   "id": "0fb2db4a-a7e7-4f0d-9331-1c3ec7e0f30d",
   "metadata": {},
   "outputs": [],
   "source": [
    "import pandas as pd"
   ]
  },
  {
   "cell_type": "code",
   "execution_count": 3,
   "id": "715dd3d3-110c-4484-a215-ba25c082f60f",
   "metadata": {},
   "outputs": [
    {
     "data": {
      "text/html": [
       "<div>\n",
       "<style scoped>\n",
       "    .dataframe tbody tr th:only-of-type {\n",
       "        vertical-align: middle;\n",
       "    }\n",
       "\n",
       "    .dataframe tbody tr th {\n",
       "        vertical-align: top;\n",
       "    }\n",
       "\n",
       "    .dataframe thead th {\n",
       "        text-align: right;\n",
       "    }\n",
       "</style>\n",
       "<table border=\"1\" class=\"dataframe\">\n",
       "  <thead>\n",
       "    <tr style=\"text-align: right;\">\n",
       "      <th></th>\n",
       "      <th>fecha_inicio</th>\n",
       "      <th>fecha_fin</th>\n",
       "      <th>diferencia_dias</th>\n",
       "    </tr>\n",
       "  </thead>\n",
       "  <tbody>\n",
       "    <tr>\n",
       "      <th>0</th>\n",
       "      <td>2024-08-01</td>\n",
       "      <td>2024-08-10</td>\n",
       "      <td>9 days</td>\n",
       "    </tr>\n",
       "    <tr>\n",
       "      <th>1</th>\n",
       "      <td>2023-12-15</td>\n",
       "      <td>2023-12-25</td>\n",
       "      <td>10 days</td>\n",
       "    </tr>\n",
       "    <tr>\n",
       "      <th>2</th>\n",
       "      <td>2025-07-20</td>\n",
       "      <td>2025-08-01</td>\n",
       "      <td>12 days</td>\n",
       "    </tr>\n",
       "  </tbody>\n",
       "</table>\n",
       "</div>"
      ],
      "text/plain": [
       "  fecha_inicio  fecha_fin diferencia_dias\n",
       "0   2024-08-01 2024-08-10          9 days\n",
       "1   2023-12-15 2023-12-25         10 days\n",
       "2   2025-07-20 2025-08-01         12 days"
      ]
     },
     "metadata": {},
     "output_type": "display_data"
    }
   ],
   "source": [
    "df = pd.DataFrame({\n",
    "    'fecha_inicio': pd.to_datetime(['2024-08-01', '2023-12-15', '2025-07-20']),\n",
    "    'fecha_fin': pd.to_datetime(['2024-08-10', '2023-12-25', '2025-08-01'])\n",
    "})\n",
    "\n",
    "#operacion de ver la diferencia de dias\n",
    "df['diferencia_dias'] = df['fecha_fin'] - df['fecha_inicio']\n",
    "\n",
    "display(df)"
   ]
  },
  {
   "cell_type": "code",
   "execution_count": 5,
   "id": "2947c063-ad43-43af-88bd-4ac41288e092",
   "metadata": {},
   "outputs": [
    {
     "data": {
      "text/html": [
       "<div>\n",
       "<style scoped>\n",
       "    .dataframe tbody tr th:only-of-type {\n",
       "        vertical-align: middle;\n",
       "    }\n",
       "\n",
       "    .dataframe tbody tr th {\n",
       "        vertical-align: top;\n",
       "    }\n",
       "\n",
       "    .dataframe thead th {\n",
       "        text-align: right;\n",
       "    }\n",
       "</style>\n",
       "<table border=\"1\" class=\"dataframe\">\n",
       "  <thead>\n",
       "    <tr style=\"text-align: right;\">\n",
       "      <th></th>\n",
       "      <th>fecha_inicio</th>\n",
       "      <th>fecha_fin</th>\n",
       "      <th>diferencia_dias</th>\n",
       "      <th>una_semana_despues</th>\n",
       "      <th>una_mes_antes</th>\n",
       "      <th>dos_anios_despues</th>\n",
       "    </tr>\n",
       "  </thead>\n",
       "  <tbody>\n",
       "    <tr>\n",
       "      <th>0</th>\n",
       "      <td>2024-08-01</td>\n",
       "      <td>2024-08-10</td>\n",
       "      <td>9 days</td>\n",
       "      <td>2024-08-08</td>\n",
       "      <td>2024-07-01</td>\n",
       "      <td>2026-08-01</td>\n",
       "    </tr>\n",
       "    <tr>\n",
       "      <th>1</th>\n",
       "      <td>2023-12-15</td>\n",
       "      <td>2023-12-25</td>\n",
       "      <td>10 days</td>\n",
       "      <td>2023-12-22</td>\n",
       "      <td>2023-11-15</td>\n",
       "      <td>2025-12-15</td>\n",
       "    </tr>\n",
       "    <tr>\n",
       "      <th>2</th>\n",
       "      <td>2025-07-20</td>\n",
       "      <td>2025-08-01</td>\n",
       "      <td>12 days</td>\n",
       "      <td>2025-07-27</td>\n",
       "      <td>2025-06-20</td>\n",
       "      <td>2027-07-20</td>\n",
       "    </tr>\n",
       "  </tbody>\n",
       "</table>\n",
       "</div>"
      ],
      "text/plain": [
       "  fecha_inicio  fecha_fin diferencia_dias una_semana_despues una_mes_antes  \\\n",
       "0   2024-08-01 2024-08-10          9 days         2024-08-08    2024-07-01   \n",
       "1   2023-12-15 2023-12-25         10 days         2023-12-22    2023-11-15   \n",
       "2   2025-07-20 2025-08-01         12 days         2025-07-27    2025-06-20   \n",
       "\n",
       "  dos_anios_despues  \n",
       "0        2026-08-01  \n",
       "1        2025-12-15  \n",
       "2        2027-07-20  "
      ]
     },
     "metadata": {},
     "output_type": "display_data"
    }
   ],
   "source": [
    "#restar o sumar periodos a fechas\n",
    "df['una_semana_despues'] = df['fecha_inicio'] + pd.DateOffset(days=7)\n",
    "df['una_mes_antes'] = df['fecha_inicio'] - pd.DateOffset(months=1)\n",
    "df['dos_anios_despues'] = df['fecha_inicio'] + pd.DateOffset(years=2)\n",
    "display(df)"
   ]
  },
  {
   "cell_type": "code",
   "execution_count": 6,
   "id": "ef7f9f49-0680-4252-8565-b201f8a7d776",
   "metadata": {},
   "outputs": [
    {
     "data": {
      "text/html": [
       "<div>\n",
       "<style scoped>\n",
       "    .dataframe tbody tr th:only-of-type {\n",
       "        vertical-align: middle;\n",
       "    }\n",
       "\n",
       "    .dataframe tbody tr th {\n",
       "        vertical-align: top;\n",
       "    }\n",
       "\n",
       "    .dataframe thead th {\n",
       "        text-align: right;\n",
       "    }\n",
       "</style>\n",
       "<table border=\"1\" class=\"dataframe\">\n",
       "  <thead>\n",
       "    <tr style=\"text-align: right;\">\n",
       "      <th></th>\n",
       "      <th>fecha_inicio</th>\n",
       "      <th>fecha_fin</th>\n",
       "      <th>diferencia_dias</th>\n",
       "      <th>una_semana_despues</th>\n",
       "      <th>una_mes_antes</th>\n",
       "      <th>dos_anios_despues</th>\n",
       "    </tr>\n",
       "  </thead>\n",
       "  <tbody>\n",
       "    <tr>\n",
       "      <th>0</th>\n",
       "      <td>2024-08-01</td>\n",
       "      <td>2024-08-10</td>\n",
       "      <td>9 days</td>\n",
       "      <td>2024-08-08</td>\n",
       "      <td>2024-07-01</td>\n",
       "      <td>2026-08-01</td>\n",
       "    </tr>\n",
       "    <tr>\n",
       "      <th>1</th>\n",
       "      <td>2023-12-15</td>\n",
       "      <td>2023-12-25</td>\n",
       "      <td>10 days</td>\n",
       "      <td>2023-12-22</td>\n",
       "      <td>2023-11-15</td>\n",
       "      <td>2025-12-15</td>\n",
       "    </tr>\n",
       "    <tr>\n",
       "      <th>2</th>\n",
       "      <td>2025-07-20</td>\n",
       "      <td>2025-08-01</td>\n",
       "      <td>12 days</td>\n",
       "      <td>2025-07-27</td>\n",
       "      <td>2025-06-20</td>\n",
       "      <td>2027-07-20</td>\n",
       "    </tr>\n",
       "  </tbody>\n",
       "</table>\n",
       "</div>"
      ],
      "text/plain": [
       "  fecha_inicio  fecha_fin diferencia_dias una_semana_despues una_mes_antes  \\\n",
       "0   2024-08-01 2024-08-10          9 days         2024-08-08    2024-07-01   \n",
       "1   2023-12-15 2023-12-25         10 days         2023-12-22    2023-11-15   \n",
       "2   2025-07-20 2025-08-01         12 days         2025-07-27    2025-06-20   \n",
       "\n",
       "  dos_anios_despues  \n",
       "0        2026-08-01  \n",
       "1        2025-12-15  \n",
       "2        2027-07-20  "
      ]
     },
     "metadata": {},
     "output_type": "display_data"
    }
   ],
   "source": [
    "#comparar fechas\n",
    "#filtrar fechas donde la fecha de fin es mayor a la fecha de inicio\n",
    "df_filtrado = df[df['fecha_fin']>df['fecha_inicio']]\n",
    "display(df_filtrado)"
   ]
  },
  {
   "cell_type": "code",
   "execution_count": 7,
   "id": "8d8c81c4-7f18-4874-857b-3f61de6bc952",
   "metadata": {},
   "outputs": [
    {
     "name": "stdout",
     "output_type": "stream",
     "text": [
      "2024-01-01      0\n",
      "2024-01-02      1\n",
      "2024-01-03      2\n",
      "2024-01-04      3\n",
      "2024-01-05      4\n",
      "             ... \n",
      "2024-12-27    361\n",
      "2024-12-28    362\n",
      "2024-12-29    363\n",
      "2024-12-30    364\n",
      "2024-12-31    365\n",
      "Freq: D, Length: 366, dtype: int64\n"
     ]
    }
   ],
   "source": [
    "#operaciones con series temporales\n",
    "#promedios diarios o mensuales\n",
    "fechas = pd.date_range(start='2024-01-01', end='2024-12-31', freq='D')\n",
    "datos = pd.Series(range(len(fechas)), index=fechas)\n",
    "print(datos)"
   ]
  },
  {
   "cell_type": "code",
   "execution_count": 8,
   "id": "1bec4287-a50e-4413-81e0-a125ec7761bf",
   "metadata": {},
   "outputs": [
    {
     "name": "stdout",
     "output_type": "stream",
     "text": [
      "2024-01-31     15.0\n",
      "2024-02-29     45.0\n",
      "2024-03-31     75.0\n",
      "2024-04-30    105.5\n",
      "2024-05-31    136.0\n",
      "2024-06-30    166.5\n",
      "2024-07-31    197.0\n",
      "2024-08-31    228.0\n",
      "2024-09-30    258.5\n",
      "2024-10-31    289.0\n",
      "2024-11-30    319.5\n",
      "2024-12-31    350.0\n",
      "Freq: ME, dtype: float64\n"
     ]
    }
   ],
   "source": [
    "#agrupar por mes\n",
    "datos_mensuales = datos.resample('ME').mean()\n",
    "print(datos_mensuales)"
   ]
  },
  {
   "cell_type": "code",
   "execution_count": 9,
   "id": "1163b378-b5c9-4277-8232-23fd2170e4a1",
   "metadata": {},
   "outputs": [
    {
     "name": "stdout",
     "output_type": "stream",
     "text": [
      "2024-01-01      NaN\n",
      "2024-01-02      NaN\n",
      "2024-01-03      NaN\n",
      "2024-01-04      NaN\n",
      "2024-01-05      NaN\n",
      "              ...  \n",
      "2024-12-27    358.0\n",
      "2024-12-28    359.0\n",
      "2024-12-29    360.0\n",
      "2024-12-30    361.0\n",
      "2024-12-31    362.0\n",
      "Freq: D, Length: 366, dtype: float64\n"
     ]
    }
   ],
   "source": [
    "#para ventanas moviles\n",
    "datos_rolling = datos.rolling(window=7).mean()\n",
    "print(datos_rolling)"
   ]
  },
  {
   "cell_type": "code",
   "execution_count": null,
   "id": "e3eff0a8-002d-4408-aebc-69c4221a5555",
   "metadata": {},
   "outputs": [],
   "source": []
  }
 ],
 "metadata": {
  "kernelspec": {
   "display_name": "Python 3 (ipykernel)",
   "language": "python",
   "name": "python3"
  },
  "language_info": {
   "codemirror_mode": {
    "name": "ipython",
    "version": 3
   },
   "file_extension": ".py",
   "mimetype": "text/x-python",
   "name": "python",
   "nbconvert_exporter": "python",
   "pygments_lexer": "ipython3",
   "version": "3.13.3"
  }
 },
 "nbformat": 4,
 "nbformat_minor": 5
}
