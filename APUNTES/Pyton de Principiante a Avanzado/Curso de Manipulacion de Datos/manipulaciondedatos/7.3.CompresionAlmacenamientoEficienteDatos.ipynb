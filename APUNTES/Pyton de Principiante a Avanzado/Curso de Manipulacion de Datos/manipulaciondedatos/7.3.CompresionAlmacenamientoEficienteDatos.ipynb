{
 "cells": [
  {
   "cell_type": "code",
   "execution_count": 1,
   "id": "3e6c83e9-c7c1-42f7-b04b-f14f29376161",
   "metadata": {},
   "outputs": [
    {
     "ename": "NameError",
     "evalue": "name 'df' is not defined",
     "output_type": "error",
     "traceback": [
      "\u001b[31m---------------------------------------------------------------------------\u001b[39m",
      "\u001b[31mNameError\u001b[39m                                 Traceback (most recent call last)",
      "\u001b[36mCell\u001b[39m\u001b[36m \u001b[39m\u001b[32mIn[1]\u001b[39m\u001b[32m, line 3\u001b[39m\n\u001b[32m      1\u001b[39m \u001b[38;5;66;03m#existen dos tipos de compresion, compresion sin perdida y compresion con perdida\u001b[39;00m\n\u001b[32m      2\u001b[39m \u001b[38;5;66;03m#Compresion de Archivos CSV\u001b[39;00m\n\u001b[32m----> \u001b[39m\u001b[32m3\u001b[39m \u001b[43mdf\u001b[49m.to_csv(\u001b[33m'\u001b[39m\u001b[33mdatos.csv.gz\u001b[39m\u001b[33m'\u001b[39m, compression=\u001b[33m'\u001b[39m\u001b[33mgzip\u001b[39m\u001b[33m'\u001b[39m, index=\u001b[38;5;28;01mFalse\u001b[39;00m)\n\u001b[32m      4\u001b[39m df.to_csv(\u001b[33m'\u001b[39m\u001b[33mdatos.csv.bz2\u001b[39m\u001b[33m'\u001b[39m, compression=\u001b[33m'\u001b[39m\u001b[33mbz2\u001b[39m\u001b[33m'\u001b[39m, index=\u001b[38;5;28;01mFalse\u001b[39;00m)\n\u001b[32m      5\u001b[39m \u001b[38;5;66;03m#Compresion de Archivos parquet\u001b[39;00m\n",
      "\u001b[31mNameError\u001b[39m: name 'df' is not defined"
     ]
    }
   ],
   "source": [
    "#existen dos tipos de compresion, compresion sin perdida y compresion con perdida\n",
    "#Compresion de Archivos CSV\n",
    "df.to_csv('datos.csv.gz', compression='gzip', index=False)\n",
    "df.to_csv('datos.csv.bz2', compression='bz2', index=False)\n",
    "#Compresion de Archivos parquet\n",
    "df.to_parquet('datos.parquet', compression='snappy')\n",
    "df.to_parquet('datos_gzip.parquet', compression='gzip')\n",
    "#suele haber mas formatos de compresion pero estas dos son las mas comunes\n",
    "#Compresion de Archivos HDF5\n",
    "df.to_hdf('datos_comprimidos.h5', key='df', mode='w', complevel=9, complib='zlib')"
   ]
  },
  {
   "cell_type": "code",
   "execution_count": null,
   "id": "b9b51ab6-c2e4-4746-8f53-893277d4e92a",
   "metadata": {},
   "outputs": [],
   "source": []
  }
 ],
 "metadata": {
  "kernelspec": {
   "display_name": "Python 3 (ipykernel)",
   "language": "python",
   "name": "python3"
  },
  "language_info": {
   "codemirror_mode": {
    "name": "ipython",
    "version": 3
   },
   "file_extension": ".py",
   "mimetype": "text/x-python",
   "name": "python",
   "nbconvert_exporter": "python",
   "pygments_lexer": "ipython3",
   "version": "3.13.3"
  }
 },
 "nbformat": 4,
 "nbformat_minor": 5
}
