{
 "cells": [
  {
   "cell_type": "code",
   "execution_count": 1,
   "id": "8bf28855-d1e0-42dc-88c2-565847261b9b",
   "metadata": {},
   "outputs": [
    {
     "ename": "NameError",
     "evalue": "name 'df' is not defined",
     "output_type": "error",
     "traceback": [
      "\u001b[31m---------------------------------------------------------------------------\u001b[39m",
      "\u001b[31mNameError\u001b[39m                                 Traceback (most recent call last)",
      "\u001b[36mCell\u001b[39m\u001b[36m \u001b[39m\u001b[32mIn[1]\u001b[39m\u001b[32m, line 2\u001b[39m\n\u001b[32m      1\u001b[39m \u001b[38;5;66;03m#sesion teorica, configuraciones de las opciones de exportacion\u001b[39;00m\n\u001b[32m----> \u001b[39m\u001b[32m2\u001b[39m \u001b[43mdf\u001b[49m.to_csv(\u001b[33m'\u001b[39m\u001b[33mdatos_sin_indice.csv\u001b[39m\u001b[33m'\u001b[39m, index=\u001b[38;5;28;01mFalse\u001b[39;00m) \u001b[38;5;66;03m#INDEX no exporta el indice que pone automaticamente el dataframe\u001b[39;00m\n\u001b[32m      3\u001b[39m df.to_csv(\u001b[33m'\u001b[39m\u001b[33mdatos_delimitado.csv\u001b[39m\u001b[33m'\u001b[39m, sep=\u001b[33m'\u001b[39m\u001b[33m;\u001b[39m\u001b[33m'\u001b[39m, index=\u001b[38;5;28;01mFalse\u001b[39;00m) \u001b[38;5;66;03m#SEP, declara el separador de cada elemento\u001b[39;00m\n\u001b[32m      4\u001b[39m df.to_csv(\u001b[33m'\u001b[39m\u001b[33mdatos_sin_cabecera.csv\u001b[39m\u001b[33m'\u001b[39m, header=\u001b[38;5;28;01mFalse\u001b[39;00m, index=\u001b[38;5;28;01mFalse\u001b[39;00m) \u001b[38;5;66;03m#HEADER, parametro para quitar el encabezado\u001b[39;00m\n",
      "\u001b[31mNameError\u001b[39m: name 'df' is not defined"
     ]
    }
   ],
   "source": [
    "#sesion teorica, configuraciones de las opciones de exportacion\n",
    "df.to_csv('datos_sin_indice.csv', index=False) #INDEX no exporta el indice que pone automaticamente el dataframe\n",
    "df.to_csv('datos_delimitado.csv', sep=';', index=False) #SEP, declara el separador de cada elemento\n",
    "df.to_csv('datos_sin_cabecera.csv', header=False, index=False) #HEADER, parametro para quitar el encabezado\n",
    "\n",
    "#limitar la precision de datos numericos\n",
    "df.to_csv('datos_precision.csv', float_format='%.2f', index=False) #FLOAT_FORMAT, delimita a solo 2 decimales los numeros flotantes\n",
    "\n",
    "#operaciones de compresion al exportar\n",
    "df.to_csv('datos.csv.gz', compression='gzip', index=False) #COMPRESSION, es una instruccion que indica con que formato se comprimen los datos\n",
    "df.to_excel('datos.xlsx', compression={'method': 'zip', 'archive_name': 'datos_comprimidos.xlsx'}, index=False)\n",
    "\n",
    "#configuracion de Opciones de codificacion de caracteres\n",
    "df.to_csv('datos_utf8.csv', encoding='utf-8', index=False) #ENCODING, es un metodo que indica el tipo de codificacion, en este caso utf-8\n",
    "\n",
    "#manejo de datos nulos y opciones de exportacion\n",
    "df.to_csv('datos_null.csv', na_rep='N/A', index=False) #NA_REP, es para reemplazar datos nulos por lo que querramos"
   ]
  },
  {
   "cell_type": "code",
   "execution_count": null,
   "id": "62896ac3-179a-4625-a226-149eadccfca6",
   "metadata": {},
   "outputs": [],
   "source": []
  }
 ],
 "metadata": {
  "kernelspec": {
   "display_name": "Python 3 (ipykernel)",
   "language": "python",
   "name": "python3"
  },
  "language_info": {
   "codemirror_mode": {
    "name": "ipython",
    "version": 3
   },
   "file_extension": ".py",
   "mimetype": "text/x-python",
   "name": "python",
   "nbconvert_exporter": "python",
   "pygments_lexer": "ipython3",
   "version": "3.13.3"
  }
 },
 "nbformat": 4,
 "nbformat_minor": 5
}
