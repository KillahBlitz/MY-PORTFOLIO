{
 "cells": [
  {
   "cell_type": "code",
   "execution_count": 42,
   "id": "babb8da9-c848-4b44-bf0e-774850dca0a6",
   "metadata": {},
   "outputs": [],
   "source": [
    "import pandas as pd\n",
    "from sqlalchemy import create_engine, Column, Integer, String, Float\n",
    "from sqlalchemy.ext.declarative import declarative_base\n",
    "from sqlalchemy.orm import declarative_base, sessionmaker"
   ]
  },
  {
   "cell_type": "code",
   "execution_count": 43,
   "id": "b596420f-414e-4fa8-9b74-8316a089b443",
   "metadata": {},
   "outputs": [],
   "source": [
    "#consultas de SQL pero relacionado con la programacion orientada a objetos, un tipo de entity framework\n",
    "engine = create_engine('sqlite:///empleados_orm.db', echo=True)"
   ]
  },
  {
   "cell_type": "code",
   "execution_count": 44,
   "id": "972a9450-7c22-42e2-a52f-6a3200c8f56f",
   "metadata": {},
   "outputs": [],
   "source": [
    "#base declarativa\n",
    "Base = declarative_base()"
   ]
  },
  {
   "cell_type": "code",
   "execution_count": 45,
   "id": "3e3cac7a-8cd0-4ed6-b8ed-b2eabf38acdb",
   "metadata": {},
   "outputs": [],
   "source": [
    "#crear una sesion para las consultas\n",
    "Session = sessionmaker(bind=engine)\n",
    "session = Session()"
   ]
  },
  {
   "cell_type": "code",
   "execution_count": 46,
   "id": "ad88e430-2808-4478-b542-b006793f066c",
   "metadata": {},
   "outputs": [],
   "source": [
    "#definicion de clases que definan tablas\n",
    "class Empleado(Base):\n",
    "    __tablename__ = 'empleados'\n",
    "\n",
    "    id = Column(Integer, primary_key=True)\n",
    "    nombre = Column(String)\n",
    "    apellido = Column(String)\n",
    "    edad = Column(Integer)\n",
    "    salario = Column(Float)\n",
    "    departamento = Column(String)\n",
    "\n",
    "    def __repr__(self):\n",
    "        return f\"<Empleado(nombre='{self.nombre}', apellido='{self.apellido}', departamento='{self.departamento}')>\"\n"
   ]
  },
  {
   "cell_type": "code",
   "execution_count": 47,
   "id": "25ad5e87-f47b-4651-9693-11572a64450b",
   "metadata": {},
   "outputs": [
    {
     "name": "stdout",
     "output_type": "stream",
     "text": [
      "2025-04-20 22:17:08,507 INFO sqlalchemy.engine.Engine BEGIN (implicit)\n",
      "2025-04-20 22:17:08,509 INFO sqlalchemy.engine.Engine PRAGMA main.table_info(\"empleados\")\n",
      "2025-04-20 22:17:08,509 INFO sqlalchemy.engine.Engine [raw sql] ()\n",
      "2025-04-20 22:17:08,510 INFO sqlalchemy.engine.Engine COMMIT\n"
     ]
    }
   ],
   "source": [
    "#creacion de base de datos y tablas\n",
    "Base.metadata.create_all(engine)"
   ]
  },
  {
   "cell_type": "code",
   "execution_count": 49,
   "id": "c8972d56-f8ff-4f78-a0ed-534fef48cd6c",
   "metadata": {},
   "outputs": [
    {
     "name": "stdout",
     "output_type": "stream",
     "text": [
      "2025-04-20 22:17:28,132 INFO sqlalchemy.engine.Engine BEGIN (implicit)\n",
      "2025-04-20 22:17:28,132 INFO sqlalchemy.engine.Engine INSERT INTO empleados (nombre, apellido, edad, salario, departamento) VALUES (?, ?, ?, ?, ?)\n",
      "2025-04-20 22:17:28,133 INFO sqlalchemy.engine.Engine [cached since 18.05s ago] ('Carlos', 'Mendez', 33, 62000.0, 'IT')\n",
      "2025-04-20 22:17:28,135 INFO sqlalchemy.engine.Engine COMMIT\n"
     ]
    }
   ],
   "source": [
    "#Insertar datos\n",
    "nuevo_empleado = Empleado(nombre='Carlos', apellido='Mendez', edad=33, salario=62000, departamento='IT')\n",
    "session.add(nuevo_empleado)\n",
    "session.commit()"
   ]
  },
  {
   "cell_type": "code",
   "execution_count": 53,
   "id": "94bfeb25-d495-4f21-821d-044cfc11b071",
   "metadata": {},
   "outputs": [
    {
     "name": "stdout",
     "output_type": "stream",
     "text": [
      "2025-04-20 22:19:18,911 INFO sqlalchemy.engine.Engine SELECT empleados.id AS empleados_id, empleados.nombre AS empleados_nombre, empleados.apellido AS empleados_apellido, empleados.edad AS empleados_edad, empleados.salario AS empleados_salario, empleados.departamento AS empleados_departamento \n",
      "FROM empleados \n",
      "WHERE empleados.departamento = ?\n",
      "2025-04-20 22:19:18,912 INFO sqlalchemy.engine.Engine [cached since 41.77s ago] ('IT',)\n",
      "<Empleado(nombre='Carlos', apellido='Mendez', departamento='IT')>\n",
      "<Empleado(nombre='Carlos', apellido='Mendez', departamento='IT')>\n",
      "<Empleado(nombre='Carlos', apellido='Mendez', departamento='IT')>\n",
      "<Empleado(nombre='Carlos', apellido='Mendez', departamento='IT')>\n"
     ]
    }
   ],
   "source": [
    "#consultar datos\n",
    "empleados_it = session.query(Empleado).filter_by(departamento='IT').all()\n",
    "for empleado in empleados_it:\n",
    "    print(empleado)"
   ]
  },
  {
   "cell_type": "code",
   "execution_count": 54,
   "id": "e33765ea-548c-45d7-bd02-3568ba5c6f43",
   "metadata": {},
   "outputs": [
    {
     "name": "stdout",
     "output_type": "stream",
     "text": [
      "2025-04-20 22:21:21,325 INFO sqlalchemy.engine.Engine SELECT empleados.id AS empleados_id, empleados.nombre AS empleados_nombre, empleados.apellido AS empleados_apellido, empleados.edad AS empleados_edad, empleados.salario AS empleados_salario, empleados.departamento AS empleados_departamento \n",
      "FROM empleados \n",
      "WHERE empleados.nombre = ?\n",
      " LIMIT ? OFFSET ?\n",
      "2025-04-20 22:21:21,326 INFO sqlalchemy.engine.Engine [generated in 0.00086s] ('Carlos', 1, 0)\n",
      "2025-04-20 22:21:21,328 INFO sqlalchemy.engine.Engine UPDATE empleados SET salario=? WHERE empleados.id = ?\n",
      "2025-04-20 22:21:21,329 INFO sqlalchemy.engine.Engine [generated in 0.00075s] (65000.0, 1)\n",
      "2025-04-20 22:21:21,363 INFO sqlalchemy.engine.Engine COMMIT\n"
     ]
    }
   ],
   "source": [
    "#actualizar datos\n",
    "empleado = session.query(Empleado).filter_by(nombre='Carlos').first()\n",
    "empleado.salario = 65000\n",
    "session.commit()"
   ]
  },
  {
   "cell_type": "code",
   "execution_count": 55,
   "id": "6f30431e-622e-434d-9617-d046225c4b26",
   "metadata": {},
   "outputs": [
    {
     "name": "stdout",
     "output_type": "stream",
     "text": [
      "2025-04-20 22:22:16,934 INFO sqlalchemy.engine.Engine BEGIN (implicit)\n",
      "2025-04-20 22:22:16,936 INFO sqlalchemy.engine.Engine SELECT empleados.id AS empleados_id, empleados.nombre AS empleados_nombre, empleados.apellido AS empleados_apellido, empleados.edad AS empleados_edad, empleados.salario AS empleados_salario, empleados.departamento AS empleados_departamento \n",
      "FROM empleados \n",
      "WHERE empleados.id = ?\n",
      "2025-04-20 22:22:16,937 INFO sqlalchemy.engine.Engine [generated in 0.00125s] (1,)\n",
      "2025-04-20 22:22:16,939 INFO sqlalchemy.engine.Engine DELETE FROM empleados WHERE empleados.id = ?\n",
      "2025-04-20 22:22:16,940 INFO sqlalchemy.engine.Engine [generated in 0.00078s] (1,)\n",
      "2025-04-20 22:22:16,983 INFO sqlalchemy.engine.Engine COMMIT\n"
     ]
    }
   ],
   "source": [
    "#eliminar datos\n",
    "session.delete(empleado)\n",
    "session.commit()"
   ]
  },
  {
   "cell_type": "code",
   "execution_count": null,
   "id": "a7ace7e0-263c-4706-bac6-a00f15db9863",
   "metadata": {},
   "outputs": [],
   "source": []
  }
 ],
 "metadata": {
  "kernelspec": {
   "display_name": "Python 3 (ipykernel)",
   "language": "python",
   "name": "python3"
  },
  "language_info": {
   "codemirror_mode": {
    "name": "ipython",
    "version": 3
   },
   "file_extension": ".py",
   "mimetype": "text/x-python",
   "name": "python",
   "nbconvert_exporter": "python",
   "pygments_lexer": "ipython3",
   "version": "3.13.3"
  }
 },
 "nbformat": 4,
 "nbformat_minor": 5
}
