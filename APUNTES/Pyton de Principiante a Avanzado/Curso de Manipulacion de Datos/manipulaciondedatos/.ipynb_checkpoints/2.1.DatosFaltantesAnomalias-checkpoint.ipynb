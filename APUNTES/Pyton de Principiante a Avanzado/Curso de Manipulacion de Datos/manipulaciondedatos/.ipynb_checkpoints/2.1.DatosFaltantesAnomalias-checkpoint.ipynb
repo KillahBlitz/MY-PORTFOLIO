{
 "cells": [
  {
   "cell_type": "code",
   "execution_count": 12,
   "id": "87e86f3e-4f93-4fa9-91b4-07907c54425a",
   "metadata": {},
   "outputs": [],
   "source": [
    "import pandas as pd\n",
    "import seaborn as sns\n",
    "import matplotlib.pyplot as plt"
   ]
  },
  {
   "cell_type": "code",
   "execution_count": 13,
   "id": "7db4b00d-10c0-491a-bb89-7c19ca20719e",
   "metadata": {},
   "outputs": [
    {
     "data": {
      "text/html": [
       "<div>\n",
       "<style scoped>\n",
       "    .dataframe tbody tr th:only-of-type {\n",
       "        vertical-align: middle;\n",
       "    }\n",
       "\n",
       "    .dataframe tbody tr th {\n",
       "        vertical-align: top;\n",
       "    }\n",
       "\n",
       "    .dataframe thead th {\n",
       "        text-align: right;\n",
       "    }\n",
       "</style>\n",
       "<table border=\"1\" class=\"dataframe\">\n",
       "  <thead>\n",
       "    <tr style=\"text-align: right;\">\n",
       "      <th></th>\n",
       "      <th>ID</th>\n",
       "      <th>Nombre</th>\n",
       "      <th>Edad</th>\n",
       "      <th>Ciudad</th>\n",
       "      <th>Salario</th>\n",
       "    </tr>\n",
       "  </thead>\n",
       "  <tbody>\n",
       "    <tr>\n",
       "      <th>0</th>\n",
       "      <td>1</td>\n",
       "      <td>Juan</td>\n",
       "      <td>30.0</td>\n",
       "      <td>Madrid</td>\n",
       "      <td>3000.0</td>\n",
       "    </tr>\n",
       "    <tr>\n",
       "      <th>1</th>\n",
       "      <td>2</td>\n",
       "      <td>Ana</td>\n",
       "      <td>22.0</td>\n",
       "      <td>Barcelona</td>\n",
       "      <td>3200.0</td>\n",
       "    </tr>\n",
       "    <tr>\n",
       "      <th>2</th>\n",
       "      <td>3</td>\n",
       "      <td>Luis</td>\n",
       "      <td>35.0</td>\n",
       "      <td>Valencia</td>\n",
       "      <td>3500.0</td>\n",
       "    </tr>\n",
       "    <tr>\n",
       "      <th>3</th>\n",
       "      <td>4</td>\n",
       "      <td>María</td>\n",
       "      <td>29.0</td>\n",
       "      <td>Sevilla</td>\n",
       "      <td>4000.0</td>\n",
       "    </tr>\n",
       "    <tr>\n",
       "      <th>4</th>\n",
       "      <td>5</td>\n",
       "      <td>Carlos</td>\n",
       "      <td>NaN</td>\n",
       "      <td>Madrid</td>\n",
       "      <td>3200.0</td>\n",
       "    </tr>\n",
       "    <tr>\n",
       "      <th>5</th>\n",
       "      <td>6</td>\n",
       "      <td>Laura</td>\n",
       "      <td>30.0</td>\n",
       "      <td>Madrid</td>\n",
       "      <td>NaN</td>\n",
       "    </tr>\n",
       "    <tr>\n",
       "      <th>6</th>\n",
       "      <td>7</td>\n",
       "      <td>Pedro</td>\n",
       "      <td>20.0</td>\n",
       "      <td>Valencia</td>\n",
       "      <td>3700.0</td>\n",
       "    </tr>\n",
       "    <tr>\n",
       "      <th>7</th>\n",
       "      <td>8</td>\n",
       "      <td>NaN</td>\n",
       "      <td>22.0</td>\n",
       "      <td>Valencia</td>\n",
       "      <td>3400.0</td>\n",
       "    </tr>\n",
       "    <tr>\n",
       "      <th>8</th>\n",
       "      <td>9</td>\n",
       "      <td>Lucía</td>\n",
       "      <td>NaN</td>\n",
       "      <td>NaN</td>\n",
       "      <td>3600.0</td>\n",
       "    </tr>\n",
       "    <tr>\n",
       "      <th>9</th>\n",
       "      <td>10</td>\n",
       "      <td>Hugo</td>\n",
       "      <td>25.0</td>\n",
       "      <td>Sevilla</td>\n",
       "      <td>NaN</td>\n",
       "    </tr>\n",
       "  </tbody>\n",
       "</table>\n",
       "</div>"
      ],
      "text/plain": [
       "   ID  Nombre  Edad     Ciudad  Salario\n",
       "0   1    Juan  30.0     Madrid   3000.0\n",
       "1   2     Ana  22.0  Barcelona   3200.0\n",
       "2   3    Luis  35.0   Valencia   3500.0\n",
       "3   4   María  29.0    Sevilla   4000.0\n",
       "4   5  Carlos   NaN     Madrid   3200.0\n",
       "5   6   Laura  30.0     Madrid      NaN\n",
       "6   7   Pedro  20.0   Valencia   3700.0\n",
       "7   8     NaN  22.0   Valencia   3400.0\n",
       "8   9   Lucía   NaN        NaN   3600.0\n",
       "9  10    Hugo  25.0    Sevilla      NaN"
      ]
     },
     "metadata": {},
     "output_type": "display_data"
    }
   ],
   "source": [
    "#tratado de daltos faltantes\n",
    "df = pd.read_csv('datos_con_faltantes.csv')\n",
    "display(df)"
   ]
  },
  {
   "cell_type": "code",
   "execution_count": 14,
   "id": "47120df5-e993-4660-9be4-cd2914455e83",
   "metadata": {},
   "outputs": [
    {
     "name": "stdout",
     "output_type": "stream",
     "text": [
      "<class 'pandas.core.frame.DataFrame'>\n",
      "RangeIndex: 10 entries, 0 to 9\n",
      "Data columns (total 5 columns):\n",
      " #   Column   Non-Null Count  Dtype  \n",
      "---  ------   --------------  -----  \n",
      " 0   ID       10 non-null     int64  \n",
      " 1   Nombre   9 non-null      object \n",
      " 2   Edad     8 non-null      float64\n",
      " 3   Ciudad   9 non-null      object \n",
      " 4   Salario  8 non-null      float64\n",
      "dtypes: float64(2), int64(1), object(2)\n",
      "memory usage: 532.0+ bytes\n"
     ]
    }
   ],
   "source": [
    "#informacion del data frame\n",
    "df.info()"
   ]
  },
  {
   "cell_type": "code",
   "execution_count": 15,
   "id": "35d5f388-413c-40b6-912f-efd837dbcd5e",
   "metadata": {},
   "outputs": [
    {
     "name": "stdout",
     "output_type": "stream",
     "text": [
      "ID         0\n",
      "Nombre     1\n",
      "Edad       2\n",
      "Ciudad     1\n",
      "Salario    2\n",
      "dtype: int64\n"
     ]
    }
   ],
   "source": [
    "#visualizar datos faltantes\n",
    "print(df.isnull().sum())\n",
    "#indica cuantos datos faltantes hay por cada columna"
   ]
  },
  {
   "cell_type": "code",
   "execution_count": 17,
   "id": "b413613f-fe93-456b-b890-5b0f01248024",
   "metadata": {},
   "outputs": [
    {
     "data": {
      "image/png": "[encoded data removed]",
      "text/plain": [
       "<Figure size 640x480 with 1 Axes>"
      ]
     },
     "metadata": {},
     "output_type": "display_data"
    }
   ],
   "source": [
    "#visualizar los datos faltantes con libreria grafica\n",
    "#disenio de un mapa de calor is null\n",
    "sns.heatmap(df.isnull(), cbar=False, cmap='viridis')\n",
    "plt.title('Mapa de calor de datosa faltantes')\n",
    "plt.show()"
   ]
  },
  {
   "cell_type": "code",
   "execution_count": 18,
   "id": "234bac16-df99-4430-9bf1-a2ca0fabeff3",
   "metadata": {},
   "outputs": [
    {
     "name": "stdout",
     "output_type": "stream",
     "text": [
      "             ID       Edad     Salario\n",
      "count  10.00000   8.000000     8.00000\n",
      "mean    5.50000  26.625000  3450.00000\n",
      "std     3.02765   5.180665   320.71349\n",
      "min     1.00000  20.000000  3000.00000\n",
      "25%     3.25000  22.000000  3200.00000\n",
      "50%     5.50000  27.000000  3450.00000\n",
      "75%     7.75000  30.000000  3625.00000\n",
      "max    10.00000  35.000000  4000.00000\n"
     ]
    }
   ],
   "source": [
    "#identificacion de anomalias\n",
    "print(df.describe())"
   ]
  },
  {
   "cell_type": "code",
   "execution_count": 21,
   "id": "45dd4d32-13e0-43e5-bded-830c64ee528e",
   "metadata": {},
   "outputs": [
    {
     "data": {
      "image/png": "[encoded data removed]",
      "text/plain": [
       "<Figure size 640x480 with 1 Axes>"
      ]
     },
     "metadata": {},
     "output_type": "display_data"
    }
   ],
   "source": [
    "#grafico de bigotes para visualizar datos atipicos\n",
    "sns.boxplot(data=df[['Edad']])\n",
    "plt.title('Boxplot de Edad')\n",
    "plt.show()"
   ]
  },
  {
   "cell_type": "code",
   "execution_count": 25,
   "id": "037e1f8e-29c2-4a55-8ba1-083ba390c0bc",
   "metadata": {},
   "outputs": [],
   "source": [
    "#criterios para datos atipicos\n",
    "#criterio para rangos intercuartiles (critero de tookey)\n",
    "Q1 = df['Edad'].quantile(0.25)\n",
    "Q3 = df['Edad'].quantile(0.75)\n",
    "IQR = Q3 - Q1"
   ]
  },
  {
   "cell_type": "code",
   "execution_count": 24,
   "id": "a28374ef-1dbf-4b8e-93e7-c703b6e143a1",
   "metadata": {},
   "outputs": [
    {
     "name": "stdout",
     "output_type": "stream",
     "text": [
      "Empty DataFrame\n",
      "Columns: [ID, Nombre, Edad, Ciudad, Salario]\n",
      "Index: []\n"
     ]
    }
   ],
   "source": [
    "outliers = df[(df['Edad'] < (Q1 -1.5 * IQR)) | (df['Edad'] > (Q3 + 1.5 * IQR))]\n",
    "print(outliers)"
   ]
  },
  {
   "cell_type": "code",
   "execution_count": null,
   "id": "6c016979-3810-4b9a-80f3-e1a75b808bd3",
   "metadata": {},
   "outputs": [],
   "source": []
  }
 ],
 "metadata": {
  "kernelspec": {
   "display_name": "Python 3 (ipykernel)",
   "language": "python",
   "name": "python3"
  },
  "language_info": {
   "codemirror_mode": {
    "name": "ipython",
    "version": 3
   },
   "file_extension": ".py",
   "mimetype": "text/x-python",
   "name": "python",
   "nbconvert_exporter": "python",
   "pygments_lexer": "ipython3",
   "version": "3.13.3"
  }
 },
 "nbformat": 4,
 "nbformat_minor": 5
}
