{
 "cells": [
  {
   "cell_type": "code",
   "execution_count": 1,
   "id": "4514b656-5fe7-4c09-a345-a367ffb7f2b9",
   "metadata": {},
   "outputs": [],
   "source": [
    "import pandas as pd"
   ]
  },
  {
   "cell_type": "code",
   "execution_count": 2,
   "id": "c9d7159a-300e-4489-8652-551f07fe554f",
   "metadata": {},
   "outputs": [
    {
     "data": {
      "text/html": [
       "<div>\n",
       "<style scoped>\n",
       "    .dataframe tbody tr th:only-of-type {\n",
       "        vertical-align: middle;\n",
       "    }\n",
       "\n",
       "    .dataframe tbody tr th {\n",
       "        vertical-align: top;\n",
       "    }\n",
       "\n",
       "    .dataframe thead th {\n",
       "        text-align: right;\n",
       "    }\n",
       "</style>\n",
       "<table border=\"1\" class=\"dataframe\">\n",
       "  <thead>\n",
       "    <tr style=\"text-align: right;\">\n",
       "      <th></th>\n",
       "      <th>Nombre</th>\n",
       "      <th>Edad</th>\n",
       "      <th>Ciudad</th>\n",
       "    </tr>\n",
       "  </thead>\n",
       "  <tbody>\n",
       "    <tr>\n",
       "      <th>0</th>\n",
       "      <td>Ana</td>\n",
       "      <td>23</td>\n",
       "      <td>Madrid</td>\n",
       "    </tr>\n",
       "    <tr>\n",
       "      <th>1</th>\n",
       "      <td>Juan</td>\n",
       "      <td>45</td>\n",
       "      <td>Barcelona</td>\n",
       "    </tr>\n",
       "    <tr>\n",
       "      <th>2</th>\n",
       "      <td>Pedro</td>\n",
       "      <td>34</td>\n",
       "      <td>Valencia</td>\n",
       "    </tr>\n",
       "  </tbody>\n",
       "</table>\n",
       "</div>"
      ],
      "text/plain": [
       "  Nombre  Edad     Ciudad\n",
       "0    Ana    23     Madrid\n",
       "1   Juan    45  Barcelona\n",
       "2  Pedro    34   Valencia"
      ]
     },
     "metadata": {},
     "output_type": "display_data"
    }
   ],
   "source": [
    "data = {\n",
    "    'Nombre': ['Ana', 'Juan', 'Pedro'],\n",
    "    'Edad': [23, 45, 34],\n",
    "    'Ciudad': ['Madrid', 'Barcelona', 'Valencia']\n",
    "}\n",
    "\n",
    "df = pd.DataFrame(data)\n",
    "display(df)"
   ]
  },
  {
   "cell_type": "code",
   "execution_count": 4,
   "id": "354a9dc1-5a9e-4b61-89e4-b8f08db49aab",
   "metadata": {},
   "outputs": [],
   "source": [
    "#exportar a csv\n",
    "df.to_csv('datos8.csv', index=False)"
   ]
  },
  {
   "cell_type": "code",
   "execution_count": 6,
   "id": "74b4e0d7-a517-495c-b85b-819045a11ae1",
   "metadata": {},
   "outputs": [],
   "source": [
    "#exportar a excel\n",
    "df.to_excel('datos8.xlsx', index=False)"
   ]
  },
  {
   "cell_type": "code",
   "execution_count": 8,
   "id": "fe096a3f-1de1-45f2-b60b-caed823b8229",
   "metadata": {},
   "outputs": [],
   "source": [
    "#exportar a parquet\n",
    "#IMPORTANTE, se debe instalar pyarrow y fastparquet\n",
    "df.to_parquet('datos.parquet')"
   ]
  },
  {
   "cell_type": "code",
   "execution_count": 12,
   "id": "9a6d939f-4cd9-4f45-be66-60607f894bd2",
   "metadata": {},
   "outputs": [
    {
     "name": "stderr",
     "output_type": "stream",
     "text": [
      "C:\\Users\\fach7\\AppData\\Local\\Temp\\ipykernel_20148\\2172045346.py:3: PerformanceWarning: \n",
      "your performance may suffer as PyTables will pickle object types that it cannot\n",
      "map directly to c-types [inferred_type->mixed,key->block0_values] [items->Index(['Nombre', 'Datos'], dtype='object')]\n",
      "\n",
      "  df.to_hdf('datos8.h5', key='df', mode='w')\n"
     ]
    }
   ],
   "source": [
    "#exportar en hdf5, formato para archivos binarios\n",
    "#requiere pytables como tables\n",
    "df.to_hdf('datos8.h5', key='df', mode='w') "
   ]
  },
  {
   "cell_type": "code",
   "execution_count": null,
   "id": "45345a67-2e28-491c-8295-df11503d3038",
   "metadata": {},
   "outputs": [],
   "source": []
  }
 ],
 "metadata": {
  "kernelspec": {
   "display_name": "Python 3 (ipykernel)",
   "language": "python",
   "name": "python3"
  },
  "language_info": {
   "codemirror_mode": {
    "name": "ipython",
    "version": 3
   },
   "file_extension": ".py",
   "mimetype": "text/x-python",
   "name": "python",
   "nbconvert_exporter": "python",
   "pygments_lexer": "ipython3",
   "version": "3.13.3"
  }
 },
 "nbformat": 4,
 "nbformat_minor": 5
}
