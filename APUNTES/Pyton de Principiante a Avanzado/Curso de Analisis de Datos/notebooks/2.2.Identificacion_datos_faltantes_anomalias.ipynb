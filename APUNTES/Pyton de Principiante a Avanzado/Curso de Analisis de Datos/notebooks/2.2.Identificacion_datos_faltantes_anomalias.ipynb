{
 "cells": [
  {
   "cell_type": "code",
   "execution_count": 3,
   "id": "edd19a2d-eb7f-4095-a815-c1af86acfcd5",
   "metadata": {},
   "outputs": [
    {
     "data": {
      "text/html": [
       "<div>\n",
       "<style scoped>\n",
       "    .dataframe tbody tr th:only-of-type {\n",
       "        vertical-align: middle;\n",
       "    }\n",
       "\n",
       "    .dataframe tbody tr th {\n",
       "        vertical-align: top;\n",
       "    }\n",
       "\n",
       "    .dataframe thead th {\n",
       "        text-align: right;\n",
       "    }\n",
       "</style>\n",
       "<table border=\"1\" class=\"dataframe\">\n",
       "  <thead>\n",
       "    <tr style=\"text-align: right;\">\n",
       "      <th></th>\n",
       "      <th>Order ID</th>\n",
       "      <th>Product</th>\n",
       "      <th>Quantity Ordered</th>\n",
       "      <th>Price Each</th>\n",
       "      <th>Order Date</th>\n",
       "      <th>Purchase Address</th>\n",
       "    </tr>\n",
       "  </thead>\n",
       "  <tbody>\n",
       "    <tr>\n",
       "      <th>0</th>\n",
       "      <td>176558</td>\n",
       "      <td>Flatscreen TV</td>\n",
       "      <td>3.0</td>\n",
       "      <td>84.41</td>\n",
       "      <td>2023-01-01</td>\n",
       "      <td>570 Main St, New York, NY</td>\n",
       "    </tr>\n",
       "    <tr>\n",
       "      <th>1</th>\n",
       "      <td>176559</td>\n",
       "      <td>Wired Headphones</td>\n",
       "      <td>2.0</td>\n",
       "      <td>1593.83</td>\n",
       "      <td>2023-01-02</td>\n",
       "      <td>242 Main St, Portland, OR</td>\n",
       "    </tr>\n",
       "    <tr>\n",
       "      <th>2</th>\n",
       "      <td>176560</td>\n",
       "      <td>Macbook Pro Laptop</td>\n",
       "      <td>2.0</td>\n",
       "      <td>790.31</td>\n",
       "      <td>2023-01-03</td>\n",
       "      <td>191 Main St, Los Angeles, CA</td>\n",
       "    </tr>\n",
       "    <tr>\n",
       "      <th>3</th>\n",
       "      <td>176561</td>\n",
       "      <td>Flatscreen TV</td>\n",
       "      <td>4.0</td>\n",
       "      <td>1274.87</td>\n",
       "      <td>2023-01-04</td>\n",
       "      <td>453 Main St, New York, NY</td>\n",
       "    </tr>\n",
       "    <tr>\n",
       "      <th>4</th>\n",
       "      <td>176562</td>\n",
       "      <td>Google Phone</td>\n",
       "      <td>2.0</td>\n",
       "      <td>2270.37</td>\n",
       "      <td>2023-01-05</td>\n",
       "      <td>933 Main St, Portland, OR</td>\n",
       "    </tr>\n",
       "  </tbody>\n",
       "</table>\n",
       "</div>"
      ],
      "text/plain": [
       "   Order ID             Product  Quantity Ordered  Price Each  Order Date  \\\n",
       "0    176558       Flatscreen TV               3.0       84.41  2023-01-01   \n",
       "1    176559    Wired Headphones               2.0     1593.83  2023-01-02   \n",
       "2    176560  Macbook Pro Laptop               2.0      790.31  2023-01-03   \n",
       "3    176561       Flatscreen TV               4.0     1274.87  2023-01-04   \n",
       "4    176562        Google Phone               2.0     2270.37  2023-01-05   \n",
       "\n",
       "               Purchase Address  \n",
       "0     570 Main St, New York, NY  \n",
       "1     242 Main St, Portland, OR  \n",
       "2  191 Main St, Los Angeles, CA  \n",
       "3     453 Main St, New York, NY  \n",
       "4     933 Main St, Portland, OR  "
      ]
     },
     "execution_count": 3,
     "metadata": {},
     "output_type": "execute_result"
    }
   ],
   "source": [
    "import pandas as pd\n",
    "df = pd.read_csv('sales_data_with_issues.csv')\n",
    "df.head()"
   ]
  },
  {
   "cell_type": "code",
   "execution_count": 6,
   "id": "99e75cf4-2366-4f8e-bb7f-7192aaf17aea",
   "metadata": {},
   "outputs": [
    {
     "name": "stdout",
     "output_type": "stream",
     "text": [
      "Order ID            0\n",
      "Product             0\n",
      "Quantity Ordered    2\n",
      "Price Each          1\n",
      "Order Date          0\n",
      "Purchase Address    0\n",
      "dtype: int64\n"
     ]
    }
   ],
   "source": [
    "missing_values = df.isnull().sum()\n",
    "print(missing_values)"
   ]
  },
  {
   "cell_type": "code",
   "execution_count": 7,
   "id": "0e4596b8-dd62-476e-965f-cc8326e87327",
   "metadata": {},
   "outputs": [
    {
     "data": {
      "text/html": [
       "<div>\n",
       "<style scoped>\n",
       "    .dataframe tbody tr th:only-of-type {\n",
       "        vertical-align: middle;\n",
       "    }\n",
       "\n",
       "    .dataframe tbody tr th {\n",
       "        vertical-align: top;\n",
       "    }\n",
       "\n",
       "    .dataframe thead th {\n",
       "        text-align: right;\n",
       "    }\n",
       "</style>\n",
       "<table border=\"1\" class=\"dataframe\">\n",
       "  <thead>\n",
       "    <tr style=\"text-align: right;\">\n",
       "      <th></th>\n",
       "      <th>Order ID</th>\n",
       "      <th>Product</th>\n",
       "      <th>Quantity Ordered</th>\n",
       "      <th>Price Each</th>\n",
       "      <th>Order Date</th>\n",
       "      <th>Purchase Address</th>\n",
       "    </tr>\n",
       "  </thead>\n",
       "  <tbody>\n",
       "    <tr>\n",
       "      <th>5</th>\n",
       "      <td>176563</td>\n",
       "      <td>Varely Earbuds</td>\n",
       "      <td>NaN</td>\n",
       "      <td>627.97</td>\n",
       "      <td>2023-01-06</td>\n",
       "      <td>899 Main St, Miami, FL</td>\n",
       "    </tr>\n",
       "    <tr>\n",
       "      <th>10</th>\n",
       "      <td>176568</td>\n",
       "      <td>Google Phone</td>\n",
       "      <td>4.0</td>\n",
       "      <td>NaN</td>\n",
       "      <td>2023-01-11</td>\n",
       "      <td>797 Main St, Seattle, WA</td>\n",
       "    </tr>\n",
       "    <tr>\n",
       "      <th>25</th>\n",
       "      <td>176583</td>\n",
       "      <td>AAA Batteries (4-pack)</td>\n",
       "      <td>NaN</td>\n",
       "      <td>1071.62</td>\n",
       "      <td>2023-01-26</td>\n",
       "      <td>712 Main St, New York, NY</td>\n",
       "    </tr>\n",
       "  </tbody>\n",
       "</table>\n",
       "</div>"
      ],
      "text/plain": [
       "    Order ID                 Product  Quantity Ordered  Price Each  \\\n",
       "5     176563          Varely Earbuds               NaN      627.97   \n",
       "10    176568            Google Phone               4.0         NaN   \n",
       "25    176583  AAA Batteries (4-pack)               NaN     1071.62   \n",
       "\n",
       "    Order Date           Purchase Address  \n",
       "5   2023-01-06     899 Main St, Miami, FL  \n",
       "10  2023-01-11   797 Main St, Seattle, WA  \n",
       "25  2023-01-26  712 Main St, New York, NY  "
      ]
     },
     "execution_count": 7,
     "metadata": {},
     "output_type": "execute_result"
    }
   ],
   "source": [
    "df[df.isnull().any(axis=1)]"
   ]
  },
  {
   "cell_type": "code",
   "execution_count": 8,
   "id": "1ec240dd-8232-4a8d-a227-7a3d28ae8d28",
   "metadata": {},
   "outputs": [
    {
     "data": {
      "text/html": [
       "<div>\n",
       "<style scoped>\n",
       "    .dataframe tbody tr th:only-of-type {\n",
       "        vertical-align: middle;\n",
       "    }\n",
       "\n",
       "    .dataframe tbody tr th {\n",
       "        vertical-align: top;\n",
       "    }\n",
       "\n",
       "    .dataframe thead th {\n",
       "        text-align: right;\n",
       "    }\n",
       "</style>\n",
       "<table border=\"1\" class=\"dataframe\">\n",
       "  <thead>\n",
       "    <tr style=\"text-align: right;\">\n",
       "      <th></th>\n",
       "      <th>Order ID</th>\n",
       "      <th>Product</th>\n",
       "      <th>Quantity Ordered</th>\n",
       "      <th>Price Each</th>\n",
       "      <th>Order Date</th>\n",
       "      <th>Purchase Address</th>\n",
       "    </tr>\n",
       "  </thead>\n",
       "  <tbody>\n",
       "    <tr>\n",
       "      <th>20</th>\n",
       "      <td>176578</td>\n",
       "      <td>AAA Batteries (4-pack)</td>\n",
       "      <td>4.0</td>\n",
       "      <td>-50.0</td>\n",
       "      <td>2023-01-21</td>\n",
       "      <td>781 Main St, Portland, OR</td>\n",
       "    </tr>\n",
       "  </tbody>\n",
       "</table>\n",
       "</div>"
      ],
      "text/plain": [
       "    Order ID                 Product  Quantity Ordered  Price Each  \\\n",
       "20    176578  AAA Batteries (4-pack)               4.0       -50.0   \n",
       "\n",
       "    Order Date           Purchase Address  \n",
       "20  2023-01-21  781 Main St, Portland, OR  "
      ]
     },
     "execution_count": 8,
     "metadata": {},
     "output_type": "execute_result"
    }
   ],
   "source": [
    "df[df['Price Each'] < 0]"
   ]
  },
  {
   "cell_type": "code",
   "execution_count": 10,
   "id": "6c05a588-88a4-4a50-8649-55089786ca6f",
   "metadata": {},
   "outputs": [
    {
     "data": {
      "text/html": [
       "<div>\n",
       "<style scoped>\n",
       "    .dataframe tbody tr th:only-of-type {\n",
       "        vertical-align: middle;\n",
       "    }\n",
       "\n",
       "    .dataframe tbody tr th {\n",
       "        vertical-align: top;\n",
       "    }\n",
       "\n",
       "    .dataframe thead th {\n",
       "        text-align: right;\n",
       "    }\n",
       "</style>\n",
       "<table border=\"1\" class=\"dataframe\">\n",
       "  <thead>\n",
       "    <tr style=\"text-align: right;\">\n",
       "      <th></th>\n",
       "      <th>Order ID</th>\n",
       "      <th>Product</th>\n",
       "      <th>Quantity Ordered</th>\n",
       "      <th>Price Each</th>\n",
       "      <th>Order Date</th>\n",
       "      <th>Purchase Address</th>\n",
       "    </tr>\n",
       "  </thead>\n",
       "  <tbody>\n",
       "    <tr>\n",
       "      <th>15</th>\n",
       "      <td>176573</td>\n",
       "      <td>Macbook Pro Laptop</td>\n",
       "      <td>4.0</td>\n",
       "      <td>2180.28</td>\n",
       "      <td>INVALID_DATE</td>\n",
       "      <td>413 Main St, Miami, FL</td>\n",
       "    </tr>\n",
       "  </tbody>\n",
       "</table>\n",
       "</div>"
      ],
      "text/plain": [
       "    Order ID             Product  Quantity Ordered  Price Each    Order Date  \\\n",
       "15    176573  Macbook Pro Laptop               4.0     2180.28  INVALID_DATE   \n",
       "\n",
       "          Purchase Address  \n",
       "15  413 Main St, Miami, FL  "
      ]
     },
     "metadata": {},
     "output_type": "display_data"
    }
   ],
   "source": [
    "invalid_dates = df[~df['Order Date'].str.match(r'^\\d{4}-\\d{2}-\\d{2}$', na=False)]\n",
    "display(invalid_dates)"
   ]
  },
  {
   "cell_type": "code",
   "execution_count": null,
   "id": "c1886afb-839a-48ce-bb88-1a72b10b4c58",
   "metadata": {},
   "outputs": [],
   "source": []
  }
 ],
 "metadata": {
  "kernelspec": {
   "display_name": "env_curso",
   "language": "python",
   "name": "env"
  },
  "language_info": {
   "codemirror_mode": {
    "name": "ipython",
    "version": 3
   },
   "file_extension": ".py",
   "mimetype": "text/x-python",
   "name": "python",
   "nbconvert_exporter": "python",
   "pygments_lexer": "ipython3",
   "version": "3.12.7"
  }
 },
 "nbformat": 4,
 "nbformat_minor": 5
}
