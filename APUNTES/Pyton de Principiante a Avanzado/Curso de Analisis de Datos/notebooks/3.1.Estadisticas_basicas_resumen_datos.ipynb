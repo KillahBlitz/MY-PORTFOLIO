{
 "cells": [
  {
   "cell_type": "code",
   "execution_count": 1,
   "id": "319e71ca-8fdf-42d7-9456-145309098f13",
   "metadata": {},
   "outputs": [
    {
     "data": {
      "text/html": [
       "<div>\n",
       "<style scoped>\n",
       "    .dataframe tbody tr th:only-of-type {\n",
       "        vertical-align: middle;\n",
       "    }\n",
       "\n",
       "    .dataframe tbody tr th {\n",
       "        vertical-align: top;\n",
       "    }\n",
       "\n",
       "    .dataframe thead th {\n",
       "        text-align: right;\n",
       "    }\n",
       "</style>\n",
       "<table border=\"1\" class=\"dataframe\">\n",
       "  <thead>\n",
       "    <tr style=\"text-align: right;\">\n",
       "      <th></th>\n",
       "      <th>Order ID</th>\n",
       "      <th>Product</th>\n",
       "      <th>Quantity Ordered</th>\n",
       "      <th>Price Each</th>\n",
       "      <th>Order Date</th>\n",
       "      <th>Purchase Address</th>\n",
       "    </tr>\n",
       "  </thead>\n",
       "  <tbody>\n",
       "    <tr>\n",
       "      <th>0</th>\n",
       "      <td>176558</td>\n",
       "      <td>Flatscreen TV</td>\n",
       "      <td>3</td>\n",
       "      <td>84.41</td>\n",
       "      <td>2023-01-01</td>\n",
       "      <td>570 Main St, New York, NY</td>\n",
       "    </tr>\n",
       "    <tr>\n",
       "      <th>1</th>\n",
       "      <td>176559</td>\n",
       "      <td>Wired Headphones</td>\n",
       "      <td>2</td>\n",
       "      <td>1593.83</td>\n",
       "      <td>2023-01-02</td>\n",
       "      <td>242 Main St, Portland, OR</td>\n",
       "    </tr>\n",
       "    <tr>\n",
       "      <th>2</th>\n",
       "      <td>176560</td>\n",
       "      <td>Macbook Pro Laptop</td>\n",
       "      <td>2</td>\n",
       "      <td>790.31</td>\n",
       "      <td>2023-01-03</td>\n",
       "      <td>191 Main St, Los Angeles, CA</td>\n",
       "    </tr>\n",
       "    <tr>\n",
       "      <th>3</th>\n",
       "      <td>176561</td>\n",
       "      <td>Flatscreen TV</td>\n",
       "      <td>4</td>\n",
       "      <td>1274.87</td>\n",
       "      <td>2023-01-04</td>\n",
       "      <td>453 Main St, New York, NY</td>\n",
       "    </tr>\n",
       "    <tr>\n",
       "      <th>4</th>\n",
       "      <td>176562</td>\n",
       "      <td>Google Phone</td>\n",
       "      <td>2</td>\n",
       "      <td>2270.37</td>\n",
       "      <td>2023-01-05</td>\n",
       "      <td>933 Main St, Portland, OR</td>\n",
       "    </tr>\n",
       "  </tbody>\n",
       "</table>\n",
       "</div>"
      ],
      "text/plain": [
       "   Order ID             Product  Quantity Ordered  Price Each  Order Date  \\\n",
       "0    176558       Flatscreen TV                 3       84.41  2023-01-01   \n",
       "1    176559    Wired Headphones                 2     1593.83  2023-01-02   \n",
       "2    176560  Macbook Pro Laptop                 2      790.31  2023-01-03   \n",
       "3    176561       Flatscreen TV                 4     1274.87  2023-01-04   \n",
       "4    176562        Google Phone                 2     2270.37  2023-01-05   \n",
       "\n",
       "               Purchase Address  \n",
       "0     570 Main St, New York, NY  \n",
       "1     242 Main St, Portland, OR  \n",
       "2  191 Main St, Los Angeles, CA  \n",
       "3     453 Main St, New York, NY  \n",
       "4     933 Main St, Portland, OR  "
      ]
     },
     "execution_count": 1,
     "metadata": {},
     "output_type": "execute_result"
    }
   ],
   "source": [
    "import pandas as pd\n",
    "df = pd.read_csv('sales_data.csv')\n",
    "df.head()"
   ]
  },
  {
   "cell_type": "code",
   "execution_count": 2,
   "id": "c414953d-3b60-4663-9a09-b42576281649",
   "metadata": {},
   "outputs": [
    {
     "name": "stdout",
     "output_type": "stream",
     "text": [
      "            Order ID  Quantity Ordered   Price Each\n",
      "count     100.000000        100.000000   100.000000\n",
      "mean   176607.500000          2.520000  1248.079900\n",
      "std        29.011492          1.123487   731.312568\n",
      "min    176558.000000          1.000000    23.340000\n",
      "25%    176582.750000          1.000000   609.792500\n",
      "50%    176607.500000          3.000000  1267.520000\n",
      "75%    176632.250000          3.000000  1917.617500\n",
      "max    176657.000000          4.000000  2465.190000\n"
     ]
    }
   ],
   "source": [
    "stats = df.describe()\n",
    "print(stats)"
   ]
  },
  {
   "cell_type": "code",
   "execution_count": 3,
   "id": "7a464dcd-7854-4f8b-9204-8180d57bccab",
   "metadata": {},
   "outputs": [
    {
     "name": "stdout",
     "output_type": "stream",
     "text": [
      "Media del Precio: 1248.0799\n",
      "Mediana del Precio: 1267.52\n"
     ]
    }
   ],
   "source": [
    "mean_price = df['Price Each'].mean()\n",
    "median_price = df['Price Each'].median()\n",
    "print(f\"Media del Precio: {mean_price}\")\n",
    "print(f\"Mediana del Precio: {median_price}\")"
   ]
  },
  {
   "cell_type": "code",
   "execution_count": 4,
   "id": "af62a1f9-2a6f-41a6-b45b-9c1b527f1cd0",
   "metadata": {},
   "outputs": [
    {
     "name": "stdout",
     "output_type": "stream",
     "text": [
      "Precio mínimo: 23.34\n",
      "Precio máximo: 2465.19\n"
     ]
    }
   ],
   "source": [
    "min_price = df['Price Each'].min()\n",
    "max_price = df['Price Each'].max()\n",
    "print(f\"Precio mínimo: {min_price}\")\n",
    "print(f\"Precio máximo: {max_price}\")"
   ]
  },
  {
   "cell_type": "code",
   "execution_count": 7,
   "id": "a0ab9e0b-65f3-4986-b47c-89e414e5e632",
   "metadata": {},
   "outputs": [
    {
     "name": "stdout",
     "output_type": "stream",
     "text": [
      "Product\n",
      "Wired Headphones              19\n",
      "Flatscreen TV                 13\n",
      "AAA Batteries (4-pack)        13\n",
      "Bose SoundSport Headphones    13\n",
      "Macbook Pro Laptop            12\n",
      "Google Phone                  11\n",
      "Varely Earbuds                11\n",
      "USB-C Charging Cable           8\n",
      "Name: count, dtype: int64\n"
     ]
    }
   ],
   "source": [
    "product_counts = df['Product'].value_counts()\n",
    "print(product_counts)"
   ]
  },
  {
   "cell_type": "code",
   "execution_count": 8,
   "id": "3ef25244-a026-433a-b951-bf24508c0a39",
   "metadata": {},
   "outputs": [
    {
     "name": "stdout",
     "output_type": "stream",
     "text": [
      "City\n",
      "Los Angeles      15\n",
      "Seattle          14\n",
      "New York         12\n",
      "Miami            11\n",
      "Portland         10\n",
      "San Francisco     9\n",
      "Dallas            8\n",
      "Boston            7\n",
      "Chicago           7\n",
      "Phoenix           7\n",
      "Name: count, dtype: int64\n"
     ]
    }
   ],
   "source": [
    "df['City'] = df['Purchase Address'].apply(lambda x: x.split(',')[1].strip())\n",
    "city_counts = df['City'].value_counts()\n",
    "print(city_counts)"
   ]
  },
  {
   "cell_type": "code",
   "execution_count": 9,
   "id": "ebd3cc40-78da-49c7-9aa3-c91b808815cd",
   "metadata": {},
   "outputs": [
    {
     "name": "stdout",
     "output_type": "stream",
     "text": [
      "Order Date\n",
      "1    31\n",
      "2    28\n",
      "3    31\n",
      "4    10\n",
      "Name: count, dtype: int64\n"
     ]
    }
   ],
   "source": [
    "df['Order Date'] = pd.to_datetime(df['Order Date'], errors='coerce')\n",
    "date_counts = df['Order Date'].dt.month.value_counts().sort_index()\n",
    "print(date_counts)"
   ]
  },
  {
   "cell_type": "code",
   "execution_count": null,
   "id": "8394df44-ad1d-4782-a89b-2062c762ccc4",
   "metadata": {},
   "outputs": [],
   "source": []
  }
 ],
 "metadata": {
  "kernelspec": {
   "display_name": "env_curso",
   "language": "python",
   "name": "env"
  },
  "language_info": {
   "codemirror_mode": {
    "name": "ipython",
    "version": 3
   },
   "file_extension": ".py",
   "mimetype": "text/x-python",
   "name": "python",
   "nbconvert_exporter": "python",
   "pygments_lexer": "ipython3",
   "version": "3.12.7"
  }
 },
 "nbformat": 4,
 "nbformat_minor": 5
}
