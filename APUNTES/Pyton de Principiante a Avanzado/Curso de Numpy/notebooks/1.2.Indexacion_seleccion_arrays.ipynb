{
 "cells": [
  {
   "cell_type": "code",
   "execution_count": 1,
   "id": "84f4af44-673a-4dd6-af54-c6d9cf6e0386",
   "metadata": {},
   "outputs": [],
   "source": [
    "import numpy as np"
   ]
  },
  {
   "cell_type": "code",
   "execution_count": 2,
   "id": "7097b3b2-2b15-4997-a2aa-2128fd102438",
   "metadata": {},
   "outputs": [
    {
     "name": "stdout",
     "output_type": "stream",
     "text": [
      "[1 2 3 4 5]\n"
     ]
    }
   ],
   "source": [
    "a = np.array([1,2,3,4,5])\n",
    "print(a)"
   ]
  },
  {
   "cell_type": "code",
   "execution_count": 3,
   "id": "21b63848-992e-441c-9071-6efb09c2f967",
   "metadata": {},
   "outputs": [
    {
     "data": {
      "text/plain": [
       "np.int64(2)"
      ]
     },
     "execution_count": 3,
     "metadata": {},
     "output_type": "execute_result"
    }
   ],
   "source": [
    "#extraer elementos especificos\n",
    "a[0] #primer elemento\n",
    "a[-1] #ultimo elemento\n",
    "a[1] #n elemento donde n en este caso es 1"
   ]
  },
  {
   "cell_type": "code",
   "execution_count": 7,
   "id": "fa1ea174-8113-4861-8f25-3ed17ef52566",
   "metadata": {},
   "outputs": [
    {
     "name": "stdout",
     "output_type": "stream",
     "text": [
      "[[1 2 3]\n",
      " [4 5 6]\n",
      " [7 8 9]]\n"
     ]
    }
   ],
   "source": [
    "#para extraer elementos de arreglos en dos dimensiones\n",
    "b = np.array([[1,2,3],[4,5,6],[7,8,9]])\n",
    "print(b)"
   ]
  },
  {
   "cell_type": "code",
   "execution_count": 9,
   "id": "f1ae6dfe-9b36-4880-ae26-e585a8f51409",
   "metadata": {},
   "outputs": [
    {
     "data": {
      "text/plain": [
       "np.int64(9)"
      ]
     },
     "execution_count": 9,
     "metadata": {},
     "output_type": "execute_result"
    }
   ],
   "source": [
    "#extrayendo elemento especifico\n",
    "b[0,1]\n",
    "b[-1,-1]"
   ]
  },
  {
   "cell_type": "code",
   "execution_count": 10,
   "id": "83543a7e-ae7c-4a16-a552-a325f33789b6",
   "metadata": {},
   "outputs": [
    {
     "name": "stdout",
     "output_type": "stream",
     "text": [
      "[0 1 2 3 4 5 6 7 8 9]\n"
     ]
    }
   ],
   "source": [
    "#nivel 2\n",
    "c = np.arange(10)\n",
    "print(c)"
   ]
  },
  {
   "cell_type": "code",
   "execution_count": 16,
   "id": "6f364a61-f566-423c-8b9c-c8cd65cc47b6",
   "metadata": {},
   "outputs": [
    {
     "data": {
      "text/plain": [
       "array([0, 2, 4, 6, 8])"
      ]
     },
     "execution_count": 16,
     "metadata": {},
     "output_type": "execute_result"
    }
   ],
   "source": [
    "#rebalar\n",
    "#extraigo n elementos de la lista empezando desde el 1 hasta n\n",
    "c[:5]\n",
    "#extrayendo desde n numero hasta m numero\n",
    "c[3:8]\n",
    "#para extraer posciciones de n formato, en este caso n es dos por lo que me extrae posciciones de 2 en 2\n",
    "c[::2]"
   ]
  },
  {
   "cell_type": "code",
   "execution_count": 18,
   "id": "f27a5ccf-4980-4cfe-8244-555789e883b8",
   "metadata": {},
   "outputs": [
    {
     "name": "stdout",
     "output_type": "stream",
     "text": [
      "[[ 1  2  3  4]\n",
      " [ 5  6  7  8]\n",
      " [ 9 10 11 12]]\n"
     ]
    }
   ],
   "source": [
    "#para hacerlo con arreglos multidimensionales\n",
    "d = np.array([[1,2,3,4],[5,6,7,8],[9,10,11,12]])\n",
    "print(d)"
   ]
  },
  {
   "cell_type": "code",
   "execution_count": 19,
   "id": "fbf20bcc-c6f2-4593-b323-81c74c9c46d5",
   "metadata": {},
   "outputs": [
    {
     "data": {
      "text/plain": [
       "array([[1, 2],\n",
       "       [5, 6]])"
      ]
     },
     "execution_count": 19,
     "metadata": {},
     "output_type": "execute_result"
    }
   ],
   "source": [
    "#se pueden extraer matrices de nxm dimensiones rebalandolas\n",
    "d[:2,:2]"
   ]
  },
  {
   "cell_type": "code",
   "execution_count": 20,
   "id": "1b4c2e34-9c2b-4a0e-a5b7-4dc9ab167ff7",
   "metadata": {},
   "outputs": [
    {
     "data": {
      "text/plain": [
       "array([[ 1,  3],\n",
       "       [ 5,  7],\n",
       "       [ 9, 11]])"
      ]
     },
     "execution_count": 20,
     "metadata": {},
     "output_type": "execute_result"
    }
   ],
   "source": [
    "#algo mas complejo\n",
    "d[:,::2]\n"
   ]
  },
  {
   "cell_type": "code",
   "execution_count": 21,
   "id": "1bc3dc19-db92-4ec7-a897-70cda21fb67e",
   "metadata": {},
   "outputs": [
    {
     "data": {
      "text/plain": [
       "array([1, 3, 5])"
      ]
     },
     "execution_count": 21,
     "metadata": {},
     "output_type": "execute_result"
    }
   ],
   "source": [
    "#podemos indexar con un arreglo unidimensional\n",
    "e = np.arange(9)\n",
    "indices = np.array([1,3,5])\n",
    "\n",
    "e[indices]"
   ]
  },
  {
   "cell_type": "code",
   "execution_count": 27,
   "id": "4041e4f1-3dbc-416e-94dc-c61ea849857a",
   "metadata": {},
   "outputs": [
    {
     "name": "stdout",
     "output_type": "stream",
     "text": [
      "[ 1 -1  2 -2  3 -3]\n"
     ]
    }
   ],
   "source": [
    "#indexacion booleana\n",
    "f = np.array([1,-1,2,-2,3,-3])\n",
    "print(f)"
   ]
  },
  {
   "cell_type": "code",
   "execution_count": 30,
   "id": "fa69173c-2532-4388-a6c4-d558941fbd46",
   "metadata": {},
   "outputs": [
    {
     "data": {
      "text/plain": [
       "array([ True, False,  True, False,  True, False])"
      ]
     },
     "execution_count": 30,
     "metadata": {},
     "output_type": "execute_result"
    }
   ],
   "source": [
    "#con esto podemos crear un arreglo booleano que nos diga que cumple la condicion\n",
    "#y que cosa no cumple la condicion\n",
    "condition = f>0\n",
    "condition"
   ]
  },
  {
   "cell_type": "code",
   "execution_count": 31,
   "id": "e218c80d-b053-4386-9f19-88371cf5a90b",
   "metadata": {},
   "outputs": [
    {
     "data": {
      "text/plain": [
       "array([1, 2, 3])"
      ]
     },
     "execution_count": 31,
     "metadata": {},
     "output_type": "execute_result"
    }
   ],
   "source": [
    "#aqui nos dira que valores cumplen con las condiciones\n",
    "f[condition]"
   ]
  },
  {
   "cell_type": "code",
   "execution_count": null,
   "id": "b9588db6-060d-4d55-a28a-90ac14f641b8",
   "metadata": {},
   "outputs": [],
   "source": []
  }
 ],
 "metadata": {
  "kernelspec": {
   "display_name": "Python 3 (ipykernel)",
   "language": "python",
   "name": "python3"
  },
  "language_info": {
   "codemirror_mode": {
    "name": "ipython",
    "version": 3
   },
   "file_extension": ".py",
   "mimetype": "text/x-python",
   "name": "python",
   "nbconvert_exporter": "python",
   "pygments_lexer": "ipython3",
   "version": "3.13.1"
  }
 },
 "nbformat": 4,
 "nbformat_minor": 5
}
