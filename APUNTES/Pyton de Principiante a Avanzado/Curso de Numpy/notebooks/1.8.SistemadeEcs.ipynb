{
 "cells": [
  {
   "cell_type": "code",
   "execution_count": 1,
   "id": "624ab2e6-ed7c-4d6f-9ab6-be3e44c9b201",
   "metadata": {},
   "outputs": [],
   "source": [
    "import numpy as np"
   ]
  },
  {
   "cell_type": "code",
   "execution_count": 2,
   "id": "58ba17bf-c3ef-4041-9170-ee3f778171b1",
   "metadata": {},
   "outputs": [],
   "source": [
    "#Sistema de ecuaciones convencional donde \n",
    "#3x+y=9\n",
    "#x+2y=8\n",
    "#el sistema matricial esta conformado por (Ax=b)\n",
    "#cullo caso seria A= [3 1] B= [9]\n",
    "#                    [1 2]    [8]\n",
    "#la solucion se aplica con np.linalg.solve"
   ]
  },
  {
   "cell_type": "code",
   "execution_count": 5,
   "id": "b55d4eb7-0b24-448a-a96d-a59db5ccdd10",
   "metadata": {},
   "outputs": [
    {
     "name": "stdout",
     "output_type": "stream",
     "text": [
      "[[3 1]\n",
      " [1 2]]\n",
      "[9 8]\n"
     ]
    }
   ],
   "source": [
    "#paso 1, definir nuestras matrices\n",
    "A = np.array([[3,1],[1,2]])\n",
    "#se tiene que poner en fila para que lo interprete la funcion\n",
    "#aunque la matriz este declarada en columna\n",
    "b = np.array([9, 8])\n",
    "print(A)\n",
    "print(b)"
   ]
  },
  {
   "cell_type": "code",
   "execution_count": 8,
   "id": "da4f16a7-0238-4d55-917c-990a85a01efa",
   "metadata": {},
   "outputs": [
    {
     "name": "stdout",
     "output_type": "stream",
     "text": [
      "Solucion del sistema (matriz resultante):\n",
      " [2. 3.]\n"
     ]
    }
   ],
   "source": [
    "#paso 2, aplicar el metodo solve\n",
    "#x es referencia a la matriz de resultados\n",
    "x = np.linalg.solve(A,b)\n",
    "print(\"Solucion del sistema (matriz resultante):\\n\", x)"
   ]
  },
  {
   "cell_type": "code",
   "execution_count": 25,
   "id": "94a7e60d-e15b-4f46-858b-2464e6e009ac",
   "metadata": {},
   "outputs": [],
   "source": [
    "#Sistema de ecuaciones resuelto por la pesudo inversa\n",
    "#Sistema de ecuaciones convencional donde \n",
    "#x+2y=1\n",
    "#3x+4y=2\n",
    "#4x+6y=3\n",
    "#el sistema matricial esta conformado por (Ax=b)\n",
    "#cullo caso seria A= [1 2] B= [1]\n",
    "#                    [3 4]    [2]\n",
    "#                    [5 6]    [3]\n",
    "#la solucion se aplica con np.linalg.pinv"
   ]
  },
  {
   "cell_type": "code",
   "execution_count": 26,
   "id": "b459a177-2835-4fac-b36c-885bd4e16019",
   "metadata": {},
   "outputs": [
    {
     "name": "stdout",
     "output_type": "stream",
     "text": [
      "[[1 2]\n",
      " [3 4]\n",
      " [5 6]]\n",
      "[1 2 3]\n"
     ]
    }
   ],
   "source": [
    "#paso 1, definir nuestras matrices\n",
    "A = np.array([[1,2],[3,4],[5,6]])\n",
    "#se tiene que poner en fila para que lo interprete la funcion\n",
    "#aunque la matriz este declarada en columna\n",
    "b = np.array([1,2,3])\n",
    "print(A)\n",
    "print(b)"
   ]
  },
  {
   "cell_type": "code",
   "execution_count": 27,
   "id": "a95a0379-f664-4f25-ac8a-d6bc016ee8f8",
   "metadata": {},
   "outputs": [
    {
     "name": "stdout",
     "output_type": "stream",
     "text": [
      "[[-1.33333333 -0.33333333  0.66666667]\n",
      " [ 1.08333333  0.33333333 -0.41666667]]\n"
     ]
    }
   ],
   "source": [
    "#paso 2, aplicar el metodo pinv\n",
    "pinv_A = np.linalg.pinv(A)\n",
    "print(pinv_A)"
   ]
  },
  {
   "cell_type": "code",
   "execution_count": 29,
   "id": "ffb8b54f-766e-4332-a776-f9e430429c77",
   "metadata": {},
   "outputs": [
    {
     "name": "stdout",
     "output_type": "stream",
     "text": [
      "Solucion del sistema (matriz resultante):\n",
      " [0.  0.5]\n"
     ]
    }
   ],
   "source": [
    "#paso 3, sacar la matriz resultante multiplicando pinv_A x b\n",
    "#x es referencia a la matriz de resultados\n",
    "x = np.dot(pinv_A, b)\n",
    "print(\"Solucion del sistema (matriz resultante):\\n\", x)\n",
    "#esto fue metodo de minimos cuadrados"
   ]
  },
  {
   "cell_type": "code",
   "execution_count": null,
   "id": "1ce5f204-a5f3-4dca-a829-ddce83f228a8",
   "metadata": {},
   "outputs": [],
   "source": []
  }
 ],
 "metadata": {
  "kernelspec": {
   "display_name": "Python 3 (ipykernel)",
   "language": "python",
   "name": "python3"
  },
  "language_info": {
   "codemirror_mode": {
    "name": "ipython",
    "version": 3
   },
   "file_extension": ".py",
   "mimetype": "text/x-python",
   "name": "python",
   "nbconvert_exporter": "python",
   "pygments_lexer": "ipython3",
   "version": "3.13.1"
  }
 },
 "nbformat": 4,
 "nbformat_minor": 5
}
