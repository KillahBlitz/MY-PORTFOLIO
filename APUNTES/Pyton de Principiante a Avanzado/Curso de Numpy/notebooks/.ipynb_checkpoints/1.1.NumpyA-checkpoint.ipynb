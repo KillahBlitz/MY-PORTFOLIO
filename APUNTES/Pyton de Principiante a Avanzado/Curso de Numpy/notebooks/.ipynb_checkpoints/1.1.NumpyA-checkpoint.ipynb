{
 "cells": [
  {
   "cell_type": "code",
   "execution_count": 1,
   "id": "b81532c4-8e0f-44a3-8c46-ed99bead2ef5",
   "metadata": {},
   "outputs": [],
   "source": [
    "import numpy as np"
   ]
  },
  {
   "cell_type": "code",
   "execution_count": 2,
   "id": "87cf4bd4-4a74-4713-9e21-4a33a384b506",
   "metadata": {},
   "outputs": [],
   "source": [
    "#CREACION DE ARREGLOS EN PYTHON\n",
    "#creamos una lista para el arreglo\n",
    "L = [1,2,3]"
   ]
  },
  {
   "cell_type": "code",
   "execution_count": 5,
   "id": "aed2fbd4-c481-4975-a021-caf432f5ed58",
   "metadata": {},
   "outputs": [],
   "source": [
    "#asignacion del arreglo para con la lista\n",
    "A = np.array(L)"
   ]
  },
  {
   "cell_type": "code",
   "execution_count": 6,
   "id": "0dba578c-0f6c-45f5-99b2-f328c7e78242",
   "metadata": {},
   "outputs": [
    {
     "name": "stdout",
     "output_type": "stream",
     "text": [
      "[1, 2, 3]\n",
      "[1 2 3]\n"
     ]
    }
   ],
   "source": [
    "print(L)\n",
    "print(A)"
   ]
  },
  {
   "cell_type": "code",
   "execution_count": 7,
   "id": "520cae7d-7c4b-4470-94c2-5417fcfc1c45",
   "metadata": {},
   "outputs": [],
   "source": [
    "#Utilidad para formatos de Algebra Lineal"
   ]
  },
  {
   "cell_type": "code",
   "execution_count": 8,
   "id": "d9cfecf8-4654-4758-bdb6-64ead0a1d416",
   "metadata": {},
   "outputs": [],
   "source": [
    "#Arreglos compuestos\n",
    "A2 = np.array([[1,2],[3,4]])"
   ]
  },
  {
   "cell_type": "code",
   "execution_count": 9,
   "id": "6cb7bc89-fa96-4925-87a2-beb1dbf5dc0e",
   "metadata": {},
   "outputs": [
    {
     "name": "stdout",
     "output_type": "stream",
     "text": [
      "[[1 2]\n",
      " [3 4]]\n"
     ]
    }
   ],
   "source": [
    "print(A2)"
   ]
  },
  {
   "cell_type": "code",
   "execution_count": 10,
   "id": "692eb58d-a8f4-420c-a630-d2d462be382b",
   "metadata": {},
   "outputs": [],
   "source": [
    "#Arreglos de 0 y 1"
   ]
  },
  {
   "cell_type": "code",
   "execution_count": 13,
   "id": "bce73f2b-75a1-4697-acad-69a5f680e64d",
   "metadata": {},
   "outputs": [],
   "source": [
    "zeros_array = np.zeros((2,3))\n",
    "ones_array = np.ones((3,2))"
   ]
  },
  {
   "cell_type": "code",
   "execution_count": 14,
   "id": "a694d51b-ca5e-4b05-adb4-fa5831ef2614",
   "metadata": {},
   "outputs": [
    {
     "name": "stdout",
     "output_type": "stream",
     "text": [
      "[[0. 0. 0.]\n",
      " [0. 0. 0.]]\n",
      "[[1. 1.]\n",
      " [1. 1.]\n",
      " [1. 1.]]\n"
     ]
    }
   ],
   "source": [
    "print(zeros_array)\n",
    "print(ones_array)"
   ]
  },
  {
   "cell_type": "code",
   "execution_count": 16,
   "id": "009f9dfe-5cbe-4dfd-a536-4781d6b4a9bb",
   "metadata": {},
   "outputs": [],
   "source": [
    "#arrays de rangos\n",
    "range_array = np.arange(10)"
   ]
  },
  {
   "cell_type": "code",
   "execution_count": 17,
   "id": "3fb098bc-19fe-43fd-a17c-b39b77470a61",
   "metadata": {},
   "outputs": [
    {
     "name": "stdout",
     "output_type": "stream",
     "text": [
      "[0 1 2 3 4 5 6 7 8 9]\n"
     ]
    }
   ],
   "source": [
    "print(range_array)"
   ]
  },
  {
   "cell_type": "code",
   "execution_count": 19,
   "id": "5a977189-298a-4ebf-b3bd-2afcbf659ce7",
   "metadata": {},
   "outputs": [],
   "source": [
    "#arrays espaciados linealmente\n",
    "linspace_array = np.linspace(0,1,num=5)\n",
    "#refiere a que habra 5 puntos entre los parametros establecidos"
   ]
  },
  {
   "cell_type": "code",
   "execution_count": 20,
   "id": "73876ffa-8639-495d-b55a-0bf2c773a6b5",
   "metadata": {},
   "outputs": [
    {
     "name": "stdout",
     "output_type": "stream",
     "text": [
      "[0.   0.25 0.5  0.75 1.  ]\n"
     ]
    }
   ],
   "source": [
    "print(linspace_array)"
   ]
  },
  {
   "cell_type": "code",
   "execution_count": 21,
   "id": "2b057f54-5d49-41d8-9e45-3e3a99813fba",
   "metadata": {},
   "outputs": [
    {
     "name": "stdout",
     "output_type": "stream",
     "text": [
      "[[1. 0. 0.]\n",
      " [0. 1. 0.]\n",
      " [0. 0. 1.]]\n"
     ]
    }
   ],
   "source": [
    "#matriz identidad\n",
    "identity_matrix = np.eye(3)\n",
    "print(identity_matrix)"
   ]
  },
  {
   "cell_type": "code",
   "execution_count": 22,
   "id": "dcf3652f-4c4a-4d99-9504-85f6e2f25099",
   "metadata": {},
   "outputs": [
    {
     "name": "stdout",
     "output_type": "stream",
     "text": [
      "[1 2 3]\n"
     ]
    }
   ],
   "source": [
    "#arrays con tipo de datos especificos\n",
    "\n",
    "int_array = np.array([1,2,3], dtype='int32')\n",
    "print(int_array)"
   ]
  },
  {
   "cell_type": "code",
   "execution_count": null,
   "id": "89ad6aa8-0afa-4147-bbff-48adeaa2894a",
   "metadata": {},
   "outputs": [],
   "source": []
  }
 ],
 "metadata": {
  "kernelspec": {
   "display_name": "Python 3 (ipykernel)",
   "language": "python",
   "name": "python3"
  },
  "language_info": {
   "codemirror_mode": {
    "name": "ipython",
    "version": 3
   },
   "file_extension": ".py",
   "mimetype": "text/x-python",
   "name": "python",
   "nbconvert_exporter": "python",
   "pygments_lexer": "ipython3",
   "version": "3.13.1"
  }
 },
 "nbformat": 4,
 "nbformat_minor": 5
}
