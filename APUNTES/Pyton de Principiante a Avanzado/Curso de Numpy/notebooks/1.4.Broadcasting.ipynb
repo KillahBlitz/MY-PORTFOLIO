{
 "cells": [
  {
   "cell_type": "code",
   "execution_count": 1,
   "id": "b1e7b78f-74bc-46f3-940a-998031fabf00",
   "metadata": {},
   "outputs": [],
   "source": [
    "#concepto clave:\n",
    "#Solo se puede realizar Broadcasting si todas las dimensiones de los arrays son iguales o una de lleas es 1.\n",
    "#Reglas del Broadcasting\n",
    "#Regla 1: Si los arrays no tienen el mismo numero de dimensiones, se añade una dimension de tamaño 1 al inicio del array con menos dimensiones.\n",
    "#Regla 2: Se comparan las dimensiones de los arrays. Si las dimensiones son iguales o una de ellas es 1, se puede continuar. Si no, se produce un error.\n",
    "#Regla 3: Los arrays con dimensiones de tamaño 1 se expanden para coincidir con las otras dimensiones"
   ]
  },
  {
   "cell_type": "code",
   "execution_count": 2,
   "id": "9325f66f-20d2-4184-b440-3c597c713dd0",
   "metadata": {},
   "outputs": [],
   "source": [
    "#ejemplo visual\n",
    "import numpy as np\n",
    "vector = np.array([1,2,3])\n"
   ]
  },
  {
   "cell_type": "code",
   "execution_count": 4,
   "id": "1e496c2a-23f5-4448-9014-b5d257a4a483",
   "metadata": {},
   "outputs": [
    {
     "data": {
      "text/plain": [
       "array([6, 7, 8])"
      ]
     },
     "execution_count": 4,
     "metadata": {},
     "output_type": "execute_result"
    }
   ],
   "source": [
    "#aqui sumamos 5 a cada elemento del vector\n",
    "#en este caso se broadcastea haciendo un vector [5,5,5]\n",
    "vector+5"
   ]
  },
  {
   "cell_type": "code",
   "execution_count": 12,
   "id": "f5e5bcbd-17a8-40b7-8625-bd515dbf9ccf",
   "metadata": {},
   "outputs": [
    {
     "name": "stdout",
     "output_type": "stream",
     "text": [
      "array type A: \n",
      " [[1 2 3]\n",
      " [4 5 6]\n",
      " [7 8 9]]\n",
      "array type B: \n",
      " [[1]\n",
      " [2]\n",
      " [3]]\n",
      "Multiplication: \n",
      " [[ 1  2  3]\n",
      " [ 8 10 12]\n",
      " [21 24 27]]\n"
     ]
    }
   ],
   "source": [
    "#puede ser igual para la multiplicacion de matrices\n",
    "A = np.array([[1,2,3],\n",
    "              [4,5,6],\n",
    "              [7,8,9]])\n",
    "B = np.array([[1],\n",
    "              [2],\n",
    "              [3]])\n",
    "print(\"array type A: \\n\", A)\n",
    "print(\"array type B: \\n\", B)\n",
    "print(\"Multiplication: \\n\",A*B)"
   ]
  },
  {
   "cell_type": "code",
   "execution_count": null,
   "id": "c1b3f2aa-19a4-4bfb-ab67-4a55dbd8dfc9",
   "metadata": {},
   "outputs": [],
   "source": []
  }
 ],
 "metadata": {
  "kernelspec": {
   "display_name": "Python 3 (ipykernel)",
   "language": "python",
   "name": "python3"
  },
  "language_info": {
   "codemirror_mode": {
    "name": "ipython",
    "version": 3
   },
   "file_extension": ".py",
   "mimetype": "text/x-python",
   "name": "python",
   "nbconvert_exporter": "python",
   "pygments_lexer": "ipython3",
   "version": "3.13.1"
  }
 },
 "nbformat": 4,
 "nbformat_minor": 5
}
