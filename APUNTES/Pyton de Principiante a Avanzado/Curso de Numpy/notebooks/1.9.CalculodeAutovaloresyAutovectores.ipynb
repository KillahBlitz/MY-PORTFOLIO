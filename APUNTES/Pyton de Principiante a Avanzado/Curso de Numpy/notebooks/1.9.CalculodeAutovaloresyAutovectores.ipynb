{
 "cells": [
  {
   "cell_type": "code",
   "execution_count": 1,
   "id": "270ed0e9-7c69-42e8-8623-4656802750b1",
   "metadata": {},
   "outputs": [],
   "source": [
    "import numpy as np"
   ]
  },
  {
   "cell_type": "code",
   "execution_count": 8,
   "id": "4a9cc40c-c425-4d92-9310-9d0c103645d9",
   "metadata": {},
   "outputs": [],
   "source": [
    "#Autovalor: un escalar lamda(L) que satisface la ecuacion Av = Lv para alguna matriz no singular A y un vector no nulo v.\n",
    "#Autovector: el vector(v) que, cuando se multiplica por la matriz A, resulta en un vector que es un multiplo escalar\n",
    "#del vector original v.\n",
    "#ejemplo practico\n",
    "#sumpongamos que A= [3 1]\n",
    "#                   [1 3]\n",
    "#queremos encontrar los autovalores L y los autovectores V talque:\n",
    "#                  Av=Lv\n",
    "#el calculo de los autovalores\n",
    "#para encontrarlos, necesitamos resolver la ecuacion caracteristica determinada por det(A-LI) (donde I es la matriz identidad)\n",
    "# det(A-LI)= [3-L 1]\n",
    "#            [1 3-L]\n",
    "#(3-L)(4-L)-1*1=0\n",
    "#L^2-6L+8=0 (Ecuacion cuadratica que se puede resolver con algebra basica)\n",
    "#valores caracterisicos L1 = 4, L2 = 2\n",
    "#el calculo de los autovectores\n",
    "#para cada autovalor L, encontramos los autovectores resolviendo (A-LI)v=0\n",
    "#por lo tanto para L1\n",
    "#[-1 1] [x] = 0\n",
    "#[1 -1] [y] = 0\n",
    "#resultado de autovector \n",
    "#[1]\n",
    "#[1]\n",
    "#para L2\n",
    "#[1 1] [x] = 0\n",
    "#[1 1] [y] = 0\n",
    "#[ 1]\n",
    "#[-1]\n",
    "#la funcion de esto es para dinamica, electricidad de materiales, ecuaciones diferenciales, etc."
   ]
  },
  {
   "cell_type": "code",
   "execution_count": 10,
   "id": "ca03840d-1a7f-41a8-8304-464f69a3d5ae",
   "metadata": {},
   "outputs": [],
   "source": [
    "#calculo en numpy\n",
    "#definicion de la matriz\n",
    "A = np.array([[3,1],[1,3]])"
   ]
  },
  {
   "cell_type": "code",
   "execution_count": 15,
   "id": "25ebd5aa-19d3-4b48-a69f-3f2053837ee5",
   "metadata": {},
   "outputs": [
    {
     "name": "stdout",
     "output_type": "stream",
     "text": [
      "[4. 2.]\n",
      "[[ 0.70710678 -0.70710678]\n",
      " [ 0.70710678  0.70710678]]\n"
     ]
    }
   ],
   "source": [
    "#aplicamos el metodo eig\n",
    "#eig viene de eigen que es como se le conocen a estos valores (eigenvalores, eigenvectores)\n",
    "eigenvalues, eigenvectors = np.linalg.eig(A)\n",
    "print(eigenvalues)\n",
    "print(eigenvectors)\n",
    "#nota, esta funcion normaliza los eigenvectores"
   ]
  },
  {
   "cell_type": "code",
   "execution_count": null,
   "id": "1155f512-ff19-41c2-b469-0c8cdd805ed8",
   "metadata": {},
   "outputs": [],
   "source": []
  }
 ],
 "metadata": {
  "kernelspec": {
   "display_name": "Python 3 (ipykernel)",
   "language": "python",
   "name": "python3"
  },
  "language_info": {
   "codemirror_mode": {
    "name": "ipython",
    "version": 3
   },
   "file_extension": ".py",
   "mimetype": "text/x-python",
   "name": "python",
   "nbconvert_exporter": "python",
   "pygments_lexer": "ipython3",
   "version": "3.13.1"
  }
 },
 "nbformat": 4,
 "nbformat_minor": 5
}
