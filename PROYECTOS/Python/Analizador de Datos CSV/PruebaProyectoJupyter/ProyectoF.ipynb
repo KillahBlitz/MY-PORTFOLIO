{
 "cells": [
  {
   "cell_type": "code",
   "execution_count": 32,
   "id": "a8356853-4bd3-42d8-b078-01dc8e80fd6c",
   "metadata": {},
   "outputs": [],
   "source": [
    "import pandas as pd\n",
    "import numpy as np\n",
    "import matplotlib.pyplot as plt\n",
    "import seaborn as sns"
   ]
  },
  {
   "cell_type": "code",
   "execution_count": 54,
   "id": "a25acc76-ea56-46fc-8a63-664179c92a3f",
   "metadata": {},
   "outputs": [
    {
     "data": {
      "text/html": [
       "<div>\n",
       "<style scoped>\n",
       "    .dataframe tbody tr th:only-of-type {\n",
       "        vertical-align: middle;\n",
       "    }\n",
       "\n",
       "    .dataframe tbody tr th {\n",
       "        vertical-align: top;\n",
       "    }\n",
       "\n",
       "    .dataframe thead th {\n",
       "        text-align: right;\n",
       "    }\n",
       "</style>\n",
       "<table border=\"1\" class=\"dataframe\">\n",
       "  <thead>\n",
       "    <tr style=\"text-align: right;\">\n",
       "      <th></th>\n",
       "      <th>Date</th>\n",
       "      <th>Price</th>\n",
       "      <th>Open</th>\n",
       "      <th>High</th>\n",
       "      <th>Low</th>\n",
       "      <th>Vol.</th>\n",
       "      <th>Change %</th>\n",
       "    </tr>\n",
       "  </thead>\n",
       "  <tbody>\n",
       "    <tr>\n",
       "      <th>0</th>\n",
       "      <td>05/14/2025</td>\n",
       "      <td>103,513.9</td>\n",
       "      <td>104,116.3</td>\n",
       "      <td>104,316.0</td>\n",
       "      <td>102,632.9</td>\n",
       "      <td>55.58K</td>\n",
       "      <td>-0.58%</td>\n",
       "    </tr>\n",
       "    <tr>\n",
       "      <th>1</th>\n",
       "      <td>05/13/2025</td>\n",
       "      <td>104,119.2</td>\n",
       "      <td>102,794.9</td>\n",
       "      <td>104,972.9</td>\n",
       "      <td>101,510.2</td>\n",
       "      <td>71.91K</td>\n",
       "      <td>1.29%</td>\n",
       "    </tr>\n",
       "    <tr>\n",
       "      <th>2</th>\n",
       "      <td>05/12/2025</td>\n",
       "      <td>102,795.0</td>\n",
       "      <td>104,119.2</td>\n",
       "      <td>105,765.2</td>\n",
       "      <td>100,766.8</td>\n",
       "      <td>90.21K</td>\n",
       "      <td>-1.27%</td>\n",
       "    </tr>\n",
       "    <tr>\n",
       "      <th>3</th>\n",
       "      <td>05/11/2025</td>\n",
       "      <td>104,119.2</td>\n",
       "      <td>104,748.3</td>\n",
       "      <td>104,930.9</td>\n",
       "      <td>103,358.8</td>\n",
       "      <td>54.76K</td>\n",
       "      <td>-0.65%</td>\n",
       "    </tr>\n",
       "    <tr>\n",
       "      <th>4</th>\n",
       "      <td>05/10/2025</td>\n",
       "      <td>104,798.0</td>\n",
       "      <td>102,974.7</td>\n",
       "      <td>104,969.8</td>\n",
       "      <td>102,837.2</td>\n",
       "      <td>48.42K</td>\n",
       "      <td>1.77%</td>\n",
       "    </tr>\n",
       "  </tbody>\n",
       "</table>\n",
       "</div>"
      ],
      "text/plain": [
       "         Date      Price       Open       High        Low    Vol. Change %\n",
       "0  05/14/2025  103,513.9  104,116.3  104,316.0  102,632.9  55.58K   -0.58%\n",
       "1  05/13/2025  104,119.2  102,794.9  104,972.9  101,510.2  71.91K    1.29%\n",
       "2  05/12/2025  102,795.0  104,119.2  105,765.2  100,766.8  90.21K   -1.27%\n",
       "3  05/11/2025  104,119.2  104,748.3  104,930.9  103,358.8  54.76K   -0.65%\n",
       "4  05/10/2025  104,798.0  102,974.7  104,969.8  102,837.2  48.42K    1.77%"
      ]
     },
     "metadata": {},
     "output_type": "display_data"
    }
   ],
   "source": [
    "df = pd.read_csv('BitcoinHistoricalData.csv')\n",
    "display(df.head())\n",
    "# Palabras clave para buscar columnas de máximos y mínimos\n",
    "etiquetas_high = ['high', 'alto', 'max', 'maximo']\n",
    "etiquetas_low = ['low', 'bajo', 'min', 'minimo']\n",
    "# Lista de etiquetas clave esperadas en nombres de columnas\n",
    "etiquetas_numericas = [ \"precio\", \"cantidad\", \"piezas\", \"monto\", \"total\", \"valor\", \"importe\", \"price\", \"amount\", \"quantity\", \"pieces\", \"total\", \"value\", \"cost\"]"
   ]
  },
  {
   "cell_type": "code",
   "execution_count": 55,
   "id": "a24bb853-c1eb-4667-b6e6-99f012ebc85e",
   "metadata": {},
   "outputs": [
    {
     "name": "stdout",
     "output_type": "stream",
     "text": [
      "        Date\n",
      "0 2025-05-14\n",
      "1 2025-05-13\n",
      "2 2025-05-12\n",
      "3 2025-05-11\n",
      "4 2025-05-10\n"
     ]
    }
   ],
   "source": [
    "# Buscar columna de fecha y crear df_clean\n",
    "for col in df.columns:\n",
    "    convertida = pd.to_datetime(df[col], errors='coerce')\n",
    "    if convertida.notna().sum() > 0:\n",
    "        df_clean = pd.DataFrame({col: convertida})\n",
    "        df_clean.rename(columns={col: \"Date\"}, inplace=True)\n",
    "        print(df_clean.head())\n",
    "        break"
   ]
  },
  {
   "cell_type": "code",
   "execution_count": 56,
   "id": "33dbd77b-bfb7-4779-80f8-16cb094d1dbb",
   "metadata": {},
   "outputs": [
    {
     "name": "stdout",
     "output_type": "stream",
     "text": [
      "        Date   cantidad\n",
      "0 2025-05-14  103,513.9\n",
      "1 2025-05-13  104,119.2\n",
      "2 2025-05-12  102,795.0\n",
      "3 2025-05-11  104,119.2\n",
      "4 2025-05-10  104,798.0\n"
     ]
    }
   ],
   "source": [
    "columnacantidad = None\n",
    "for col in df.columns:\n",
    "    col_lower = col.lower()\n",
    "    if any(etiqueta in col_lower for etiqueta in etiquetas_numericas):\n",
    "        columnacantidad = col\n",
    "        df_clean['cantidad'] = pd.concat([df[columnacantidad].copy()], axis=1)\n",
    "        print(df_clean.head())\n",
    "        break"
   ]
  },
  {
   "cell_type": "code",
   "execution_count": 57,
   "id": "9279fc97-c74e-4916-ae43-de0994e1d7ed",
   "metadata": {},
   "outputs": [
    {
     "name": "stdout",
     "output_type": "stream",
     "text": [
      "        Date   cantidad     maximo\n",
      "0 2025-05-14  103,513.9  104,316.0\n",
      "1 2025-05-13  104,119.2  104,972.9\n",
      "2 2025-05-12  102,795.0  105,765.2\n",
      "3 2025-05-11  104,119.2  104,930.9\n",
      "4 2025-05-10  104,798.0  104,969.8\n"
     ]
    }
   ],
   "source": [
    "col_high = None\n",
    "for col in df.columns:\n",
    "    col_lower = col.lower()\n",
    "    if any(etiqueta in col_lower for etiqueta in etiquetas_high):\n",
    "        col_high = col\n",
    "        df_clean['maximo'] = pd.concat([df[col_high].copy()], axis=1)\n",
    "        print(df_clean.head())\n",
    "        break"
   ]
  },
  {
   "cell_type": "code",
   "execution_count": 58,
   "id": "11f77d73-9811-403f-94e2-30a6b8d2583e",
   "metadata": {},
   "outputs": [
    {
     "name": "stdout",
     "output_type": "stream",
     "text": [
      "        Date   cantidad     maximo     minimo\n",
      "0 2025-05-14  103,513.9  104,316.0  102,632.9\n",
      "1 2025-05-13  104,119.2  104,972.9  101,510.2\n",
      "2 2025-05-12  102,795.0  105,765.2  100,766.8\n",
      "3 2025-05-11  104,119.2  104,930.9  103,358.8\n",
      "4 2025-05-10  104,798.0  104,969.8  102,837.2\n"
     ]
    }
   ],
   "source": [
    "col_low = None\n",
    "for col in df.columns:\n",
    "    col_lower = col.lower()\n",
    "    if any(etiqueta in col_lower for etiqueta in etiquetas_low):\n",
    "        col_low = col\n",
    "        df_clean['minimo'] = pd.concat([df[col_low].copy()], axis=1)\n",
    "        print(df_clean.head())\n",
    "        break"
   ]
  },
  {
   "cell_type": "code",
   "execution_count": 59,
   "id": "c6fe17a0-5214-4d03-bf0b-ddd85c3efb0a",
   "metadata": {},
   "outputs": [
    {
     "name": "stdout",
     "output_type": "stream",
     "text": [
      "DataFrame limpio:\n",
      "        Date  cantidad    maximo    minimo\n",
      "0 2025-05-14  103513.9  104316.0  102632.9\n",
      "1 2025-05-13  104119.2  104972.9  101510.2\n",
      "2 2025-05-12  102795.0  105765.2  100766.8\n",
      "3 2025-05-11  104119.2  104930.9  103358.8\n",
      "4 2025-05-10  104798.0  104969.8  102837.2\n"
     ]
    }
   ],
   "source": [
    "for col in df_clean.columns:\n",
    "    # Verifica si la columna es de tipo objeto (texto)\n",
    "    if df_clean[col].dtype == 'object':\n",
    "        # Verifica si al menos un valor tiene coma\n",
    "        if df_clean[col].astype(str).str.contains(',').any():\n",
    "            df_clean[col] = df_clean[col].str.replace(',', '', regex=False)\n",
    "            # Convierte a numérico si es posible\n",
    "            df_clean[col] = pd.to_numeric(df_clean[col], errors='coerce')\n",
    "\n",
    "print(\"DataFrame limpio:\")\n",
    "print(df_clean.head())"
   ]
  },
  {
   "cell_type": "code",
   "execution_count": null,
   "id": "93b99870-ed04-45f4-a73f-58b3f253a66c",
   "metadata": {},
   "outputs": [],
   "source": []
  }
 ],
 "metadata": {
  "kernelspec": {
   "display_name": "Python 3 (ipykernel)",
   "language": "python",
   "name": "python3"
  },
  "language_info": {
   "codemirror_mode": {
    "name": "ipython",
    "version": 3
   },
   "file_extension": ".py",
   "mimetype": "text/x-python",
   "name": "python",
   "nbconvert_exporter": "python",
   "pygments_lexer": "ipython3",
   "version": "3.13.1"
  }
 },
 "nbformat": 4,
 "nbformat_minor": 5
}
